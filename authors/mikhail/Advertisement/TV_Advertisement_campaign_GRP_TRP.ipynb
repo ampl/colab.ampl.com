{
  "cells": [
    {
      "attachments": {},
      "cell_type": "markdown",
      "metadata": {
        "id": "7RjB1ipC7KbS"
      },
      "source": [
        "# Optimization of an TV advertising campaign based on TRP, GRP indicators\n",
        "[![TV_Advertisement_campaign_GRP_TRP.ipynb](https://img.shields.io/badge/github-%23121011.svg?logo=github)](https://github.com/ampl/colab.ampl.com/blob/master/authors/mikhail/Advertisement/TV_Advertisement_campaign_GRP_TRP.ipynb) [![Open In Colab](https://colab.research.google.com/assets/colab-badge.svg)](https://colab.research.google.com/github/ampl/colab.ampl.com/blob/master/authors/mikhail/Advertisement/TV_Advertisement_campaign_GRP_TRP.ipynb) [![Kaggle](https://kaggle.com/static/images/open-in-kaggle.svg)](https://kaggle.com/kernels/welcome?src=https://github.com/ampl/colab.ampl.com/blob/master/authors/mikhail/Advertisement/TV_Advertisement_campaign_GRP_TRP.ipynb) [![Gradient](https://assets.paperspace.io/img/gradient-badge.svg)](https://console.paperspace.com/github/ampl/colab.ampl.com/blob/master/authors/mikhail/Advertisement/TV_Advertisement_campaign_GRP_TRP.ipynb) [![Open In SageMaker Studio Lab](https://studiolab.sagemaker.aws/studiolab.svg)](https://studiolab.sagemaker.aws/import/github/ampl/colab.ampl.com/blob/master/authors/mikhail/Advertisement/TV_Advertisement_campaign_GRP_TRP.ipynb) [![Hits](https://h.ampl.com/https://github.com/ampl/colab.ampl.com/blob/master/authors/mikhail/Advertisement/TV_Advertisement_campaign_GRP_TRP.ipynb)](https://colab.ampl.com)\n",
        "\n",
        "Description:  The modern world is unthinkable without advertising. Advertising is the engine of progress.\n",
        "When developing and conducting advertising campaigns, companies strive to maximize the effectiveness of their advertising dollars. In this case, the effectiveness of advertising is measured by the degree to which the campaign goals are achieved. The main goals of an advertising campaign can be:\n",
        "-  Increase in sales;\n",
        "-  Attraction of new clients;\n",
        "- Launch of a new product on the market;\n",
        "- Increasing/maintaining market share or profit level.\n",
        "\n",
        "Mathematical optimization allows you to synchronize all the specified factors and limitations of advertising channels with each other, and determine, among many options, the most effective (from the point of view of campaign goals) plan for investing in advertising.\n",
        "\n",
        "[*Partner with the AMPL team to transform complex problems into optimized solutions. AMPL consulting services combine deep technical knowledge with industry-leading insights, helping you unlock the full potential of optimization within your organization.*](https://ampl.com/services/)\n",
        "\n",
        "Tags: Marketing, Advertisement, Deterministic model, ampl-only, cbc\n",
        "\n",
        "Notebook author: Mikhail Riabtsev <<mail@solverytic.com>>"
      ]
    },
    {
      "cell_type": "markdown",
      "metadata": {},
      "source": [
        "Let's start by downloading the necessary extensions and libraries"
      ]
    },
    {
      "cell_type": "code",
      "execution_count": 1,
      "metadata": {
        "id": "rQ50dBwL7KbX"
      },
      "outputs": [],
      "source": [
        "# Install dependencies\n",
        "%pip install -q amplpy pandas \n",
        "import pandas as pd                 # Loading panda to work with pandas.DataFrame objects (https://pandas.pydata.org/)\n",
        "import numpy as np                  # Loading numpy to perform multidimensional calculations numpy.matrix (https://numpy.org/)\n",
        "import matplotlib.pyplot as plt     # Loading library for creating static, animated, and interactive visualizations (https://matplotlib.org/)"
      ]
    },
    {
      "cell_type": "code",
      "execution_count": 2,
      "metadata": {
        "colab": {
          "base_uri": "https://localhost:8080/",
          "height": 101,
          "referenced_widgets": [
            "5c52a4f288924ca8bbf5182a951af6a8",
            "5a786f2dd2584199a4001c8bebefd757",
            "9a901424b8c04687b39b5e1251ee3919",
            "fcf080abd68144728d12fa81f879d5d5",
            "b2d8e84e2f6545bc98bbaf40294b9ad8",
            "de8c25d11df34ae2b86964266defdfdc",
            "a1e4bcf9de474b4f835419c6278d4e42",
            "45de4f35c7f04c37b87cad70c3e3b224",
            "59a30522756c4d668323600e0800a022",
            "4510b5e780f24d44ace00a42c38cf6dc",
            "5bec63a60fab4e628b18b6576859f23d",
            "4cfacef2f3e44067b81ac133fe17ae5b",
            "c9f8c186dbec4424895eb43630e458f2",
            "a0a3a52262a340debb5a29ce65170164"
          ]
        },
        "id": "s7DEaRp87KbY",
        "outputId": "7ccc087a-1af8-445e-c56d-31f3371b0c38"
      },
      "outputs": [],
      "source": [
        "# Google Colab & Kaggle integration\n",
        "from amplpy import AMPL, ampl_notebook\n",
        "\n",
        "ampl = ampl_notebook(\n",
        "    modules=[\"cbc\"],  # modules to install\n",
        "    license_uuid=\"default\",  # license to use\n",
        ")  # instantiate AMPL object and register magics"
      ]
    },
    {
      "cell_type": "code",
      "execution_count": 3,
      "metadata": {},
      "outputs": [],
      "source": [
        "from amplpy import AMPL\n",
        "ampl = AMPL()                                       # create a new AMPL object with all default settings"
      ]
    },
    {
      "cell_type": "markdown",
      "metadata": {},
      "source": [
        "## 1. Problem statement"
      ]
    },
    {
      "cell_type": "markdown",
      "metadata": {},
      "source": [
        "Media agency «Broadcaster» - carries out all media planning and purchase of advertising from advertisers for the international company «Super-Tampon», a world leader in the production of feminine hygiene products. \n",
        "This client is extremely important to the agency as it makes a very significant contribution to the agency's turnover and helps to impress other potential clients during negotiations.\n",
        "In the case of planning and purchasing advertising time on TV, the «Broadcaster» Media Agency deals with two subcontractors who have exclusive rights to all advertising on 7 TV channels:\n",
        "\n",
        "* «Media International» - TV-1, TV-2, TV-3, TV-4 and TV-5\n",
        "* «Media Group» - TV-6 and TV-7\n",
        "\n",
        "When purchasing advertising time, the «Broadcaster» Media Agency uses special advertising impact units: GRP (Gross Rating Points) and TRP (Target Rating Points). \n",
        "\n",
        "1 GRP is the time required for 1% of the channel’s adult audience (men and women over 18 years of age) to see this advertisement at least once. 1 TRP is the time required for 1% of the target audience (in the case of the «Super-Tampon» company, these are women from 15 to 35 years old with a high level of income) to see this advertisement at least once. The media agency «Broadcaster» buys advertising exposure (measured in GRP units) from subcontractors. \n",
        "\n",
        "«Media International» and «Media Group» competed fiercely for a share of any client's budget and eventually agreed to give clients (or their agencies) maximum discounts if the client's budget was split between 70% - «Media International», 30% - «Media Group».\n",
        "\n",
        "In turn, the «Broadcaster» media agency sells advertising exposure to its clients (including «Super-Tampon»), measured in TRP units - clients are interested in ensuring that the advertisement is seen by the target group of viewers.\n",
        "\n",
        "When choosing channels, the company is guided by the attractiveness index - the ratio of the target (for a given brand) audience of the channel to the entire adult audience:\n",
        "\n",
        "$Attractiveness Index = (TRP / GRP) * 100$;\n",
        "\n",
        "Customers want this index to be as large as possible for the entire advertising campaign, and at least not less than 100.\n",
        "The total cost of 1 GRP, maximum discounts and typical attractiveness index value (assessed by the agency for Super Tampon advertising) for each channel are shown in the table.\n",
        "\n",
        "Subcontractors              |TV channel| Total cost of 1 GRP, USD | Discount, %     | Attractiveness Index\n",
        "----------------------------|----------|--------------------------|-----------------|-----------------\n",
        "Media International\t        |TV-1\t   |25\t                      |35\t             |75                \n",
        "Media International         |TV-2\t   |18\t                      |35\t             |90             \n",
        "Media International         |TV-3\t   |5 \t                      |35\t             |115             \n",
        "Media International         |TV-4\t   |18\t                      |35\t             |135            \n",
        "Media International\t        |TV-5\t   |32\t                      |35\t             |105              \n",
        "Media Group\t                |TV-6\t   |45\t                      |45\t             |95             \n",
        "Media Group\t                |TV-7\t   |27\t                      |45\t             |125               \n",
        "\n",
        "* Table.1. Main characteristics of TV channels.\n",
        "\n",
        "«Super-Tampon» is one of the most advanced clients of the agency, therefore, more than the attractiveness index, they value the share of TRP impressions on the 3 leading channels: TV-1, TV-2, TV-6. For each advertising campaign, the customer requires that the share of impressions on these channels was at least 70%. At the same time, it is required that the «Broadcaster» Media Agency use all 7 channels in the advertising campaign, with the TRP share for each of the remaining 4 channels not lower than 3 percent of the total for the advertising campaign. $500,000 has been allocated for the «Super-Tampon» advertising campaign.\n",
        "\n",
        "**Optimization goals**\n",
        "\n",
        "***It is necessary to develop an advertising campaign that maximizes the response of the target audience, taking into account the fulfillment of the specified customer conditions.***"
      ]
    },
    {
      "cell_type": "markdown",
      "metadata": {},
      "source": [
        "## 3. AMPL formulation of the model"
      ]
    },
    {
      "cell_type": "markdown",
      "metadata": {},
      "source": [
        ">Use %%ampl_eval to evaluate AMPL commands and declarations"
      ]
    },
    {
      "cell_type": "code",
      "execution_count": 4,
      "metadata": {
        "id": "aEtyesqs7KbZ"
      },
      "outputs": [],
      "source": [
        "%%ampl_eval\n",
        "reset;\n",
        "\n",
        "### SETS\n",
        " set CLIENTS := {'Super_Tampon'};                          # Сlient\n",
        " set AGENCIES := {'Broadcaster'};                          # Media agency\n",
        " set SUBCONTR := {'Media International', 'Media Group'};   # Subcontractors\n",
        " set CHANNELS {SUBCONTR};                                  # Advertising channel    \n",
        " set METRICS :={'GPR', 'TRP'};                             # Advertising metrics\n",
        " set LINKS within {METRICS, CLIENTS union SUBCONTR};       # Main performance indicator    \n",
        " set ITEMS := {'cost_gpr', 'discount', 'attractiveness'};  # Main characteristics of the channels\n",
        " \n",
        "### PARAMETERS \n",
        " param Amount {sb in SUBCONTR, с in CHANNELS[sb], ITEMS} >= 0;   # Values of main characteristics of media channels\n",
        " param Money := 500000;                                     # Advertising company budget\n",
        "\n",
        "### VARIABLES\n",
        " var X {sb in SUBCONTR, с in CHANNELS[sb]} >= 0;            # Quantity of GRP purchased\n",
        "\n",
        "### OBJECTIVE\n",
        " maximize Total_TRP: sum{sb in SUBCONTR, c in CHANNELS[sb]}\n",
        "    X[sb,c] * Amount[sb,c,'attractiveness']/100;            # TRP/GRP = attrective, TRP = GRP*attrective/100;\n",
        "\n",
        "### CONSTRAINTS\n",
        " # Customers want the overall attrective index for the entire advertising campaign to be as large as possible, and at least not less than 100\n",
        " s.t. Attractiveness: sum{sb in SUBCONTR, c in CHANNELS[sb]} \n",
        "   X[sb,c] * Amount[sb,c,'attractiveness'] >= 100 * sum{sb_ in SUBCONTR, c_ in CHANNELS[sb_]}X[sb_,c_];\n",
        "\n",
        " # Costs for an advertising campaign <= Budget\n",
        " s.t. Budget: sum{sb in SUBCONTR, c in CHANNELS[sb]}\n",
        "   X[sb,c] * Amount[sb,c,'cost_gpr'] <= Money; #*(1-Amount[sb,c,'discount']) \n",
        "\n",
        " # At least 70% of all TPR impressions must be on TV-1, TV-2, TV-6\n",
        " s.t. TPR_70: sum{sb in SUBCONTR, c in CHANNELS[sb]: c in{'TV-1', 'TV-2', 'TV-6'}} \n",
        "   X[sb,c] * Amount[sb,c,'attractiveness'] / 100 >= 0.7 * sum{sb in SUBCONTR, c in CHANNELS[sb]} X[sb,c] * Amount[sb,c,'attractiveness']/100;\n",
        "\n",
        " # Use all 7 channels with their TPR share not lower than 3% of the total for the entire company\n",
        " s.t. ChannelsWithTPR{sb in SUBCONTR, c in CHANNELS[sb]}:\n",
        "   X[sb,c] * Amount[sb,c,'attractiveness'] / 100 >= 0.03 * sum{sb_ in SUBCONTR, c_ in CHANNELS[sb_]} X[sb_,c_] * Amount[sb_,c_,'attractiveness']/100 ; \n",
        " \n",
        " # Working out a separate case when the budget of an advertising company is divided between contractors 70/30\n",
        " s.t. CompetitionRate70_30: sum{sb in SUBCONTR, c in CHANNELS[sb]: sb in {'Media International'}} \n",
        "   X[sb,c] * Amount[sb,c,'cost_gpr'] = Money *0.7;"
      ]
    },
    {
      "cell_type": "markdown",
      "metadata": {},
      "source": [
        "## 4. Load data"
      ]
    },
    {
      "cell_type": "code",
      "execution_count": 5,
      "metadata": {},
      "outputs": [],
      "source": [
        "%%ampl_eval\n",
        "data;\n",
        "\n",
        "set CHANNELS['Media International']:= 'TV-1', 'TV-2', 'TV-3', 'TV-4', 'TV-5';\n",
        "set CHANNELS['Media Group'] := 'TV-6', 'TV-7';\n",
        "\n",
        "set LINKS:               GPR     TRP :=\n",
        " 'Super_Tampon'           -       +\n",
        "' Media International'    +       -\n",
        " 'Media Group'            +       -   ;\n",
        "\n",
        "param Amount :=\n",
        "['Media International',*,*]:cost_gpr    discount    attractiveness :=\n",
        "            'TV-1'          1500        0.35        75 \n",
        "            'TV-2'          1350        0.35        90\n",
        "            'TV-3'          1100        0.35        135    \n",
        "            'TV-4'          1000        0.35        105\n",
        "            'TV-5'          1000        0.35        135 \n",
        "['Media Group',*,*]:        cost_gpr    discount    attractiveness :=\n",
        "            'TV-6'          1350        0.45        95\n",
        "            'TV-7'          900         0.45        125 ;"
      ]
    },
    {
      "attachments": {},
      "cell_type": "markdown",
      "metadata": {
        "id": "uftSUdTh9eZY"
      },
      "source": [
        "## 5. Solve problem"
      ]
    },
    {
      "cell_type": "markdown",
      "metadata": {},
      "source": [
        ">Use %%ampl_eval to evaluate AMPL commands and declarations"
      ]
    },
    {
      "cell_type": "code",
      "execution_count": 6,
      "metadata": {},
      "outputs": [
        {
          "name": "stdout",
          "output_type": "stream",
          "text": [
            "\n",
            "7 variables, all linear\n",
            "11 constraints, all linear; 75 nonzeros\n",
            "\t1 equality constraint\n",
            "\t10 inequality constraints\n",
            "1 linear objective; 7 nonzeros.\n",
            "\n",
            "cbc 2.10.10:cbc 2.10.10: optimal solution; objective 392.1201302\n",
            "0 simplex iterations\n"
          ]
        }
      ],
      "source": [
        "%%ampl_eval\n",
        "\n",
        "option solver cbc;          # Choosing a solver\n",
        "\n",
        "# Defining Output Settings \n",
        "option show_stats 1;        # (1) Show statistical information about the size of the problem. Default 0 (statistics are not displayed)\n",
        "option display_1col 0;      # Data Display Settings\n",
        "option omit_zero_rows 1;    # Hide rows with 0 values. Default (0)\n",
        "\n",
        "# Selecting an Objective Function (choose one of)\n",
        "objective Total_TRP;        # goal 1\n",
        "\n",
        "solve;                      # Solve the model (Objective function TotalAudienceInform)"
      ]
    },
    {
      "cell_type": "markdown",
      "metadata": {},
      "source": [
        "## 6. Display the solution"
      ]
    },
    {
      "cell_type": "markdown",
      "metadata": {},
      "source": [
        ">Use %%ampl_eval"
      ]
    },
    {
      "cell_type": "code",
      "execution_count": 7,
      "metadata": {},
      "outputs": [
        {
          "name": "stdout",
          "output_type": "stream",
          "text": [
            "X [*,*] (tr)\n",
            ":    'Media Group' 'Media International'    :=\n",
            "TV-1       .               15.6848\n",
            "TV-2       .              181.25\n",
            "TV-3       .                8.71378\n",
            "TV-4       .               11.2034\n",
            "TV-5       .               60.9965\n",
            "TV-6    104.837              .\n",
            "TV-7      9.41088            .\n",
            ";\n",
            "\n"
          ]
        }
      ],
      "source": [
        "%%ampl_eval\n",
        "\n",
        "display X;                                  # Show the value of the variables for the resulting solution"
      ]
    },
    {
      "cell_type": "markdown",
      "metadata": {},
      "source": [
        "> ## 7. Retrieve solution as a pandas dataframe"
      ]
    },
    {
      "cell_type": "code",
      "execution_count": 27,
      "metadata": {},
      "outputs": [
        {
          "data": {
            "text/html": [
              "<div>\n",
              "<style scoped>\n",
              "    .dataframe tbody tr th:only-of-type {\n",
              "        vertical-align: middle;\n",
              "    }\n",
              "\n",
              "    .dataframe tbody tr th {\n",
              "        vertical-align: top;\n",
              "    }\n",
              "\n",
              "    .dataframe thead th {\n",
              "        text-align: right;\n",
              "    }\n",
              "</style>\n",
              "<table border=\"1\" class=\"dataframe\">\n",
              "  <thead>\n",
              "    <tr style=\"text-align: right;\">\n",
              "      <th></th>\n",
              "      <th></th>\n",
              "      <th>X.val</th>\n",
              "    </tr>\n",
              "    <tr>\n",
              "      <th>index0</th>\n",
              "      <th>index1</th>\n",
              "      <th></th>\n",
              "    </tr>\n",
              "  </thead>\n",
              "  <tbody>\n",
              "    <tr>\n",
              "      <th rowspan=\"2\" valign=\"top\">Media Group</th>\n",
              "      <th>TV-6</th>\n",
              "      <td>104.837189</td>\n",
              "    </tr>\n",
              "    <tr>\n",
              "      <th>TV-7</th>\n",
              "      <td>9.410883</td>\n",
              "    </tr>\n",
              "    <tr>\n",
              "      <th rowspan=\"5\" valign=\"top\">Media International</th>\n",
              "      <th>TV-1</th>\n",
              "      <td>15.684805</td>\n",
              "    </tr>\n",
              "    <tr>\n",
              "      <th>TV-2</th>\n",
              "      <td>181.250175</td>\n",
              "    </tr>\n",
              "    <tr>\n",
              "      <th>TV-3</th>\n",
              "      <td>8.713781</td>\n",
              "    </tr>\n",
              "    <tr>\n",
              "      <th>TV-4</th>\n",
              "      <td>11.203432</td>\n",
              "    </tr>\n",
              "    <tr>\n",
              "      <th>TV-5</th>\n",
              "      <td>60.996465</td>\n",
              "    </tr>\n",
              "  </tbody>\n",
              "</table>\n",
              "</div>"
            ],
            "text/plain": [
              "                                 X.val\n",
              "index0              index1            \n",
              "Media Group         TV-6    104.837189\n",
              "                    TV-7      9.410883\n",
              "Media International TV-1     15.684805\n",
              "                    TV-2    181.250175\n",
              "                    TV-3      8.713781\n",
              "                    TV-4     11.203432\n",
              "                    TV-5     60.996465"
            ]
          },
          "execution_count": 27,
          "metadata": {},
          "output_type": "execute_result"
        }
      ],
      "source": [
        "ampl.var[\"X\"].get_values().to_pandas()"
      ]
    }
  ],
  "metadata": {
    "colab": {
      "provenance": []
    },
    "kernelspec": {
      "display_name": "Python 3 (ipykernel)",
      "language": "python",
      "name": "python3"
    },
    "language_info": {
      "codemirror_mode": {
        "name": "ipython",
        "version": 3
      },
      "file_extension": ".py",
      "mimetype": "text/x-python",
      "name": "python",
      "nbconvert_exporter": "python",
      "pygments_lexer": "ipython3",
      "version": "3.10.12"
    },
    "vscode": {
      "interpreter": {
        "hash": "ee4198aac13dae9b6fccd443041680d99c2643c4956ef7c80ff6dcc0057cb523"
      }
    },
    "widgets": {
      "application/vnd.jupyter.widget-state+json": {
        "4510b5e780f24d44ace00a42c38cf6dc": {
          "model_module": "@jupyter-widgets/controls",
          "model_module_version": "1.5.0",
          "model_name": "ButtonStyleModel",
          "state": {
            "_model_module": "@jupyter-widgets/controls",
            "_model_module_version": "1.5.0",
            "_model_name": "ButtonStyleModel",
            "_view_count": null,
            "_view_module": "@jupyter-widgets/base",
            "_view_module_version": "1.2.0",
            "_view_name": "StyleView",
            "button_color": null,
            "font_weight": ""
          }
        },
        "45de4f35c7f04c37b87cad70c3e3b224": {
          "model_module": "@jupyter-widgets/base",
          "model_module_version": "1.2.0",
          "model_name": "LayoutModel",
          "state": {
            "_model_module": "@jupyter-widgets/base",
            "_model_module_version": "1.2.0",
            "_model_name": "LayoutModel",
            "_view_count": null,
            "_view_module": "@jupyter-widgets/base",
            "_view_module_version": "1.2.0",
            "_view_name": "LayoutView",
            "align_content": null,
            "align_items": null,
            "align_self": null,
            "border": null,
            "bottom": null,
            "display": null,
            "flex": null,
            "flex_flow": null,
            "grid_area": null,
            "grid_auto_columns": null,
            "grid_auto_flow": null,
            "grid_auto_rows": null,
            "grid_column": null,
            "grid_gap": null,
            "grid_row": null,
            "grid_template_areas": null,
            "grid_template_columns": null,
            "grid_template_rows": null,
            "height": null,
            "justify_content": null,
            "justify_items": null,
            "left": null,
            "margin": null,
            "max_height": null,
            "max_width": null,
            "min_height": null,
            "min_width": null,
            "object_fit": null,
            "object_position": null,
            "order": null,
            "overflow": null,
            "overflow_x": null,
            "overflow_y": null,
            "padding": null,
            "right": null,
            "top": null,
            "visibility": null,
            "width": null
          }
        },
        "4cfacef2f3e44067b81ac133fe17ae5b": {
          "model_module": "@jupyter-widgets/controls",
          "model_module_version": "1.5.0",
          "model_name": "DescriptionStyleModel",
          "state": {
            "_model_module": "@jupyter-widgets/controls",
            "_model_module_version": "1.5.0",
            "_model_name": "DescriptionStyleModel",
            "_view_count": null,
            "_view_module": "@jupyter-widgets/base",
            "_view_module_version": "1.2.0",
            "_view_name": "StyleView",
            "description_width": ""
          }
        },
        "59a30522756c4d668323600e0800a022": {
          "model_module": "@jupyter-widgets/base",
          "model_module_version": "1.2.0",
          "model_name": "LayoutModel",
          "state": {
            "_model_module": "@jupyter-widgets/base",
            "_model_module_version": "1.2.0",
            "_model_name": "LayoutModel",
            "_view_count": null,
            "_view_module": "@jupyter-widgets/base",
            "_view_module_version": "1.2.0",
            "_view_name": "LayoutView",
            "align_content": null,
            "align_items": null,
            "align_self": null,
            "border": null,
            "bottom": null,
            "display": null,
            "flex": null,
            "flex_flow": null,
            "grid_area": null,
            "grid_auto_columns": null,
            "grid_auto_flow": null,
            "grid_auto_rows": null,
            "grid_column": null,
            "grid_gap": null,
            "grid_row": null,
            "grid_template_areas": null,
            "grid_template_columns": null,
            "grid_template_rows": null,
            "height": null,
            "justify_content": null,
            "justify_items": null,
            "left": null,
            "margin": null,
            "max_height": null,
            "max_width": null,
            "min_height": null,
            "min_width": null,
            "object_fit": null,
            "object_position": null,
            "order": null,
            "overflow": null,
            "overflow_x": null,
            "overflow_y": null,
            "padding": null,
            "right": null,
            "top": null,
            "visibility": null,
            "width": null
          }
        },
        "5a786f2dd2584199a4001c8bebefd757": {
          "model_module": "@jupyter-widgets/controls",
          "model_module_version": "1.5.0",
          "model_name": "HBoxModel",
          "state": {
            "_dom_classes": [],
            "_model_module": "@jupyter-widgets/controls",
            "_model_module_version": "1.5.0",
            "_model_name": "HBoxModel",
            "_view_count": null,
            "_view_module": "@jupyter-widgets/controls",
            "_view_module_version": "1.5.0",
            "_view_name": "HBoxView",
            "box_style": "",
            "children": [
              "IPY_MODEL_de8c25d11df34ae2b86964266defdfdc",
              "IPY_MODEL_a1e4bcf9de474b4f835419c6278d4e42"
            ],
            "layout": "IPY_MODEL_45de4f35c7f04c37b87cad70c3e3b224"
          }
        },
        "5bec63a60fab4e628b18b6576859f23d": {
          "model_module": "@jupyter-widgets/base",
          "model_module_version": "1.2.0",
          "model_name": "LayoutModel",
          "state": {
            "_model_module": "@jupyter-widgets/base",
            "_model_module_version": "1.2.0",
            "_model_name": "LayoutModel",
            "_view_count": null,
            "_view_module": "@jupyter-widgets/base",
            "_view_module_version": "1.2.0",
            "_view_name": "LayoutView",
            "align_content": null,
            "align_items": null,
            "align_self": null,
            "border": null,
            "bottom": null,
            "display": null,
            "flex": null,
            "flex_flow": null,
            "grid_area": null,
            "grid_auto_columns": null,
            "grid_auto_flow": null,
            "grid_auto_rows": null,
            "grid_column": null,
            "grid_gap": null,
            "grid_row": null,
            "grid_template_areas": null,
            "grid_template_columns": null,
            "grid_template_rows": null,
            "height": null,
            "justify_content": null,
            "justify_items": null,
            "left": null,
            "margin": null,
            "max_height": null,
            "max_width": null,
            "min_height": null,
            "min_width": null,
            "object_fit": null,
            "object_position": null,
            "order": null,
            "overflow": null,
            "overflow_x": null,
            "overflow_y": null,
            "padding": null,
            "right": null,
            "top": null,
            "visibility": null,
            "width": null
          }
        },
        "5c52a4f288924ca8bbf5182a951af6a8": {
          "model_module": "@jupyter-widgets/controls",
          "model_module_version": "1.5.0",
          "model_name": "VBoxModel",
          "state": {
            "_dom_classes": [],
            "_model_module": "@jupyter-widgets/controls",
            "_model_module_version": "1.5.0",
            "_model_name": "VBoxModel",
            "_view_count": null,
            "_view_module": "@jupyter-widgets/controls",
            "_view_module_version": "1.5.0",
            "_view_name": "VBoxView",
            "box_style": "",
            "children": [
              "IPY_MODEL_5a786f2dd2584199a4001c8bebefd757",
              "IPY_MODEL_9a901424b8c04687b39b5e1251ee3919",
              "IPY_MODEL_fcf080abd68144728d12fa81f879d5d5"
            ],
            "layout": "IPY_MODEL_b2d8e84e2f6545bc98bbaf40294b9ad8"
          }
        },
        "9a901424b8c04687b39b5e1251ee3919": {
          "model_module": "@jupyter-widgets/output",
          "model_module_version": "1.0.0",
          "model_name": "OutputModel",
          "state": {
            "_dom_classes": [],
            "_model_module": "@jupyter-widgets/output",
            "_model_module_version": "1.0.0",
            "_model_name": "OutputModel",
            "_view_count": null,
            "_view_module": "@jupyter-widgets/output",
            "_view_module_version": "1.0.0",
            "_view_name": "OutputView",
            "layout": "IPY_MODEL_c9f8c186dbec4424895eb43630e458f2",
            "msg_id": "",
            "outputs": [
              {
                "name": "stdout",
                "output_type": "stream",
                "text": [
                  "Using existing license.\n"
                ]
              }
            ]
          }
        },
        "a0a3a52262a340debb5a29ce65170164": {
          "model_module": "@jupyter-widgets/base",
          "model_module_version": "1.2.0",
          "model_name": "LayoutModel",
          "state": {
            "_model_module": "@jupyter-widgets/base",
            "_model_module_version": "1.2.0",
            "_model_name": "LayoutModel",
            "_view_count": null,
            "_view_module": "@jupyter-widgets/base",
            "_view_module_version": "1.2.0",
            "_view_name": "LayoutView",
            "align_content": null,
            "align_items": null,
            "align_self": null,
            "border": null,
            "bottom": null,
            "display": null,
            "flex": null,
            "flex_flow": null,
            "grid_area": null,
            "grid_auto_columns": null,
            "grid_auto_flow": null,
            "grid_auto_rows": null,
            "grid_column": null,
            "grid_gap": null,
            "grid_row": null,
            "grid_template_areas": null,
            "grid_template_columns": null,
            "grid_template_rows": null,
            "height": null,
            "justify_content": null,
            "justify_items": null,
            "left": null,
            "margin": null,
            "max_height": null,
            "max_width": null,
            "min_height": null,
            "min_width": null,
            "object_fit": null,
            "object_position": null,
            "order": null,
            "overflow": null,
            "overflow_x": null,
            "overflow_y": null,
            "padding": null,
            "right": null,
            "top": null,
            "visibility": null,
            "width": null
          }
        },
        "a1e4bcf9de474b4f835419c6278d4e42": {
          "model_module": "@jupyter-widgets/controls",
          "model_module_version": "1.5.0",
          "model_name": "TextModel",
          "state": {
            "_dom_classes": [],
            "_model_module": "@jupyter-widgets/controls",
            "_model_module_version": "1.5.0",
            "_model_name": "TextModel",
            "_view_count": null,
            "_view_module": "@jupyter-widgets/controls",
            "_view_module_version": "1.5.0",
            "_view_name": "TextView",
            "continuous_update": true,
            "description": "UUID:",
            "description_tooltip": null,
            "disabled": false,
            "layout": "IPY_MODEL_5bec63a60fab4e628b18b6576859f23d",
            "placeholder": "​",
            "style": "IPY_MODEL_4cfacef2f3e44067b81ac133fe17ae5b",
            "value": ""
          }
        },
        "b2d8e84e2f6545bc98bbaf40294b9ad8": {
          "model_module": "@jupyter-widgets/base",
          "model_module_version": "1.2.0",
          "model_name": "LayoutModel",
          "state": {
            "_model_module": "@jupyter-widgets/base",
            "_model_module_version": "1.2.0",
            "_model_name": "LayoutModel",
            "_view_count": null,
            "_view_module": "@jupyter-widgets/base",
            "_view_module_version": "1.2.0",
            "_view_name": "LayoutView",
            "align_content": null,
            "align_items": null,
            "align_self": null,
            "border": null,
            "bottom": null,
            "display": null,
            "flex": null,
            "flex_flow": null,
            "grid_area": null,
            "grid_auto_columns": null,
            "grid_auto_flow": null,
            "grid_auto_rows": null,
            "grid_column": null,
            "grid_gap": null,
            "grid_row": null,
            "grid_template_areas": null,
            "grid_template_columns": null,
            "grid_template_rows": null,
            "height": null,
            "justify_content": null,
            "justify_items": null,
            "left": null,
            "margin": null,
            "max_height": null,
            "max_width": null,
            "min_height": null,
            "min_width": null,
            "object_fit": null,
            "object_position": null,
            "order": null,
            "overflow": null,
            "overflow_x": null,
            "overflow_y": null,
            "padding": null,
            "right": null,
            "top": null,
            "visibility": null,
            "width": null
          }
        },
        "c9f8c186dbec4424895eb43630e458f2": {
          "model_module": "@jupyter-widgets/base",
          "model_module_version": "1.2.0",
          "model_name": "LayoutModel",
          "state": {
            "_model_module": "@jupyter-widgets/base",
            "_model_module_version": "1.2.0",
            "_model_name": "LayoutModel",
            "_view_count": null,
            "_view_module": "@jupyter-widgets/base",
            "_view_module_version": "1.2.0",
            "_view_name": "LayoutView",
            "align_content": null,
            "align_items": null,
            "align_self": null,
            "border": null,
            "bottom": null,
            "display": null,
            "flex": null,
            "flex_flow": null,
            "grid_area": null,
            "grid_auto_columns": null,
            "grid_auto_flow": null,
            "grid_auto_rows": null,
            "grid_column": null,
            "grid_gap": null,
            "grid_row": null,
            "grid_template_areas": null,
            "grid_template_columns": null,
            "grid_template_rows": null,
            "height": null,
            "justify_content": null,
            "justify_items": null,
            "left": null,
            "margin": null,
            "max_height": null,
            "max_width": null,
            "min_height": null,
            "min_width": null,
            "object_fit": null,
            "object_position": null,
            "order": null,
            "overflow": null,
            "overflow_x": null,
            "overflow_y": null,
            "padding": null,
            "right": null,
            "top": null,
            "visibility": null,
            "width": null
          }
        },
        "de8c25d11df34ae2b86964266defdfdc": {
          "model_module": "@jupyter-widgets/controls",
          "model_module_version": "1.5.0",
          "model_name": "ButtonModel",
          "state": {
            "_dom_classes": [],
            "_model_module": "@jupyter-widgets/controls",
            "_model_module_version": "1.5.0",
            "_model_name": "ButtonModel",
            "_view_count": null,
            "_view_module": "@jupyter-widgets/controls",
            "_view_module_version": "1.5.0",
            "_view_name": "ButtonView",
            "button_style": "",
            "description": "Use existing license",
            "disabled": false,
            "icon": "",
            "layout": "IPY_MODEL_59a30522756c4d668323600e0800a022",
            "style": "IPY_MODEL_4510b5e780f24d44ace00a42c38cf6dc",
            "tooltip": ""
          }
        },
        "fcf080abd68144728d12fa81f879d5d5": {
          "model_module": "@jupyter-widgets/output",
          "model_module_version": "1.0.0",
          "model_name": "OutputModel",
          "state": {
            "_dom_classes": [],
            "_model_module": "@jupyter-widgets/output",
            "_model_module_version": "1.0.0",
            "_model_name": "OutputModel",
            "_view_count": null,
            "_view_module": "@jupyter-widgets/output",
            "_view_module_version": "1.0.0",
            "_view_name": "OutputView",
            "layout": "IPY_MODEL_a0a3a52262a340debb5a29ce65170164",
            "msg_id": "",
            "outputs": [
              {
                "name": "stdout",
                "output_type": "stream",
                "text": [
                  "Licensed to Default AMPL Community Edition License for the AMPL Model Colaboratory.\n"
                ]
              }
            ]
          }
        }
      }
    }
  },
  "nbformat": 4,
  "nbformat_minor": 4
}
