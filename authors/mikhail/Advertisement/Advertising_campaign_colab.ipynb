{
  "cells": [
    {
      "attachments": {},
      "cell_type": "markdown",
      "metadata": {
        "id": "7RjB1ipC7KbS"
      },
      "source": [
        "# Optimization of an advertising campaign for launching a new product on the market\n",
        "[![Advertising_campaign_colab.ipynb](https://img.shields.io/badge/github-%23121011.svg?logo=github)](https://github.com/ampl/colab.ampl.com/blob/master/authors/mikhail/Advertisement/Advertising_campaign_colab.ipynb) [![Open In Colab](https://colab.research.google.com/assets/colab-badge.svg)](https://colab.research.google.com/github/ampl/colab.ampl.com/blob/master/authors/mikhail/Advertisement/Advertising_campaign_colab.ipynb) [![Kaggle](https://kaggle.com/static/images/open-in-kaggle.svg)](https://kaggle.com/kernels/welcome?src=https://github.com/ampl/colab.ampl.com/blob/master/authors/mikhail/Advertisement/Advertising_campaign_colab.ipynb) [![Gradient](https://assets.paperspace.io/img/gradient-badge.svg)](https://console.paperspace.com/github/ampl/colab.ampl.com/blob/master/authors/mikhail/Advertisement/Advertising_campaign_colab.ipynb) [![Open In SageMaker Studio Lab](https://studiolab.sagemaker.aws/studiolab.svg)](https://studiolab.sagemaker.aws/import/github/ampl/colab.ampl.com/blob/master/authors/mikhail/Advertisement/Advertising_campaign_colab.ipynb) [![Hits](https://h.ampl.com/https://github.com/ampl/colab.ampl.com/blob/master/authors/mikhail/Advertisement/Advertising_campaign_colab.ipynb)](https://colab.ampl.com)\n",
        "\n",
        "Description:  The modern world is unthinkable without advertising. Advertising is the engine of progress.\n",
        "When developing and conducting advertising campaigns, companies strive to maximize the effectiveness of their advertising dollars. In this case, the effectiveness of advertising is measured by the degree to which the campaign goals are achieved. The main goals of an advertising campaign can be:\n",
        "-  Increase in sales;\n",
        "-  Attraction of new clients;\n",
        "- Launch of a new product on the market;\n",
        "- Increasing/maintaining market share or profit level.\n",
        "\n",
        "When developing and planning an advertising campaigns, it is necessary to take into account many factors that influence the final effectiveness of advertising, namely:\n",
        "- Characteristics of advertising channels (availability, cost, etc.);\n",
        "- Structure and composition of the target audience of each advertising channel;\n",
        "- Conversion rates for various advertising channels;\n",
        "- Limitation of the budget allocated for advertising;\n",
        "- Cost of 1 impression/click;\n",
        "- Localization of the target audience;\n",
        "- The intensity of advertising displays during the day, week;\n",
        "- Marketing activity of competitors;\n",
        "\n",
        "Mathematical optimization allows you to synchronize all the specified factors and limitations of advertising channels with each other, and determine, among many options, the most effective (from the point of view of campaign goals) plan for investing in advertising.\n",
        "\n",
        "[*Partner with the AMPL team to transform complex problems into optimized solutions. AMPL consulting services combine deep technical knowledge with industry-leading insights, helping you unlock the full potential of optimization within your organization.*](https://ampl.com/services/)\n",
        "\n",
        "Tags: Marketing, Advertisement, Deterministic model, Piecewise-linear, mip, ampl-only, cbc\n",
        "\n",
        "Notebook author: Mikhail Riabtsev <<mail@solverytic.com>>"
      ]
    },
    {
      "cell_type": "markdown",
      "metadata": {},
      "source": [
        "Let's start by downloading the necessary extensions and libraries"
      ]
    },
    {
      "cell_type": "code",
      "execution_count": 1,
      "metadata": {
        "id": "rQ50dBwL7KbX"
      },
      "outputs": [],
      "source": [
        "# Install dependencies\n",
        "%pip install -q amplpy pandas\n",
        "import pandas as pd  # Loading panda to work with pandas.DataFrame objects (https://pandas.pydata.org/)\n",
        "import numpy as np  # Loading numpy to perform multidimensional calculations numpy.matrix (https://numpy.org/)\n",
        "import matplotlib.pyplot as plt  # Loading library for creating static, animated, and interactive visualizations (https://matplotlib.org/)"
      ]
    },
    {
      "cell_type": "code",
      "execution_count": 2,
      "metadata": {
        "colab": {
          "base_uri": "https://localhost:8080/",
          "height": 101,
          "referenced_widgets": [
            "5c52a4f288924ca8bbf5182a951af6a8",
            "5a786f2dd2584199a4001c8bebefd757",
            "9a901424b8c04687b39b5e1251ee3919",
            "fcf080abd68144728d12fa81f879d5d5",
            "b2d8e84e2f6545bc98bbaf40294b9ad8",
            "de8c25d11df34ae2b86964266defdfdc",
            "a1e4bcf9de474b4f835419c6278d4e42",
            "45de4f35c7f04c37b87cad70c3e3b224",
            "59a30522756c4d668323600e0800a022",
            "4510b5e780f24d44ace00a42c38cf6dc",
            "5bec63a60fab4e628b18b6576859f23d",
            "4cfacef2f3e44067b81ac133fe17ae5b",
            "c9f8c186dbec4424895eb43630e458f2",
            "a0a3a52262a340debb5a29ce65170164"
          ]
        },
        "id": "s7DEaRp87KbY",
        "outputId": "7ccc087a-1af8-445e-c56d-31f3371b0c38"
      },
      "outputs": [],
      "source": [
        "# Google Colab & Kaggle integration\n",
        "from amplpy import AMPL, ampl_notebook\n",
        "\n",
        "ampl = ampl_notebook(\n",
        "    modules=[\"cbc\"],  # modules to install\n",
        "    license_uuid=\"default\",  # license to use\n",
        ")  # instantiate AMPL object and register magics"
      ]
    },
    {
      "cell_type": "markdown",
      "metadata": {},
      "source": [
        "## 1. Problem statement"
      ]
    },
    {
      "cell_type": "markdown",
      "metadata": {},
      "source": [
        "The company plans to launch a new product on the market of 2 large cities (City1, City2). To inform customers about the new offer, the company is considering the possibility of placing the following types of advertisements:\n",
        "\n",
        "Type of advertising         |Unit       |Cost 1 unit    |Audience, person   | Conversion, impressions to clicks, %\n",
        "-|---------------|----------|-----------|-------------------------\n",
        "TV: сhannel#1_time 0PM-5PM\t|minute\t    |1 000\t        |18 000\t            |3\n",
        "TV: сhannel#1_time 5PM-10PM\t|minute\t    |1 200\t        |25 000\t            |3\n",
        "Magazine A: cover           |page       |200\t        |7 000\t            |6\n",
        "Magazine B: inner page      |page       |220\t        |8 000\t            |6\n",
        "Radio A: time 5PM-10PM\t    |minute \t|200\t        |11 000\t            |5\n",
        "Radio B: time 5PM-10PM\t    |minute \t|250\t        |15 000\t            |5\n",
        "Subway: red line\t        |page to week|\t250\t        |15 000\t            |4\n",
        "WebSite1\t                |week \t    |500\t        |10 000\t            |15\n",
        "WebSite2\t                |week \t    |400\t        |7 000\t            |14\n",
        "Billboard: 1place per week\t|place\t    |400\t        |3 000\t            |3"
      ]
    },
    {
      "cell_type": "markdown",
      "metadata": {},
      "source": [
        " *Table.1. Main characteristics of advertisements.*"
      ]
    },
    {
      "cell_type": "markdown",
      "metadata": {},
      "source": [
        "The audience of advertising consists of the following user segments, % of the total audience:\n",
        "\n",
        "Type of advertising         |14-17 years old | 17-25 years old | 25-40 years old | 40-60 years old | over 60\n",
        "----------------------------|----------------|-----------------|-----------------|-----------------|---------|\n",
        "TV: сhannel#1_time 0PM-5PM\t|7\t             |25\t           |25\t             |27               |16  \n",
        "TV: сhannel#1_time 5PM-10PM\t|5\t             |18\t           |32\t             |30               |15\n",
        "Magazine A: cover           |1\t             |5 \t           |35\t             |45               |14\n",
        "Magazine B: inner page      |5\t             |18\t           |32\t             |30               |15\n",
        "Radio A: time 5PM-10PM\t    |15\t             |32\t           |18\t             |30               |5\n",
        "Radio B: time 5PM-10PM\t    |14\t             |45\t           |35\t             |5                |1\n",
        "Subway: red line\t        |16\t             |27\t           |25\t             |25               |7\n",
        "WebSite1\t                |5\t             |18\t           |32\t             |30               |15\n",
        "WebSite2\t                |15\t             |32\t           |18\t             |30               |5\n",
        "Billboard: 1place per week\t|5\t             |18\t           |32\t             |30               |15"
      ]
    },
    {
      "cell_type": "markdown",
      "metadata": {},
      "source": [
        "*Table.2. Segment composition of advertising audiences, %.*"
      ]
    },
    {
      "cell_type": "markdown",
      "metadata": {},
      "source": [
        "In addition, the audience of advertising media is distributed differently in cities (City1, City2), %:\n",
        "\n",
        "Type of advertising         |City#1 | City#2 \n",
        "----------------------------|-------|-------|\n",
        "TV: сhannel#1_time 0PM-5PM\t|60\t    |40\t          \n",
        "TV: сhannel#1_time 5PM-10PM\t|70\t    |30\t    \n",
        "Magazine A: cover           |0\t    |100\t           \n",
        "Magazine B: inner page      |80\t    |20\t     \n",
        "Radio A: time 5PM-10PM\t    |80\t    |20\t      \n",
        "Radio B: time 5PM-10PM\t    |20\t    |80\t    \n",
        "Subway: red line\t        |0\t    |100  \n",
        "WebSite1\t                |75\t    |25\t\n",
        "WebSite2\t                |80\t    |20\t \n",
        "Billboard: 1place per week\t|0\t    |100"
      ]
    },
    {
      "cell_type": "markdown",
      "metadata": {},
      "source": [
        "*Table.3. Distribution of the audience of broadcasters by city, %*"
      ]
    },
    {
      "cell_type": "markdown",
      "metadata": {},
      "source": [
        "When developing an advertising campaign, it is necessary to take into account that the effectiveness of advertisements decreases as the number of views increases. So the first 10 views have the one indicated in Table 1. conversion rate, while the next 10 impressions are 10% less effective, and impressions >20 are 40% less effective.\n",
        "\n",
        "Data on the reduction rate of advertising effectiveness are given in the following table, %:\n",
        "\n",
        "Type of advertising         |10-20 views| >20 views\n",
        "----------------------------|-----------|-------|\n",
        "TV: сhannel#1_time 0PM-5PM\t|10\t        |40\t          \n",
        "TV: сhannel#1_time 5PM-10PM\t|10\t        |40    \n",
        "Magazine A: cover           |5\t        |20\t           \n",
        "Magazine B: inner page      |20\t        |40\t     \n",
        "Radio A: time 5PM-10PM\t    |20\t        |40\t      \n",
        "Radio B: time 5PM-10PM\t    |20\t        |80\t    \n",
        "Subway: red line\t        |5\t        |40  \n",
        "WebSite1\t                |10\t        |40\t\n",
        "WebSite2\t                |10\t        |40\t \n",
        "Billboard: 1place per week\t|10\t        |20"
      ]
    },
    {
      "cell_type": "markdown",
      "metadata": {},
      "source": [
        "*Table.4. Indicators of decrease in the effectiveness of advertisements, %.*"
      ]
    },
    {
      "cell_type": "markdown",
      "metadata": {},
      "source": [
        "One of the client’s requirements is the need to allocate at least 20% of the budget to TV advertising.\n",
        "\n",
        "**Optimization goals**\n",
        "\n",
        "It is necessary to distribute the advertising budget in such a way as to maximize the following indicators:\n",
        "1. Inform the maximum number of people about the release of a new product;\n",
        "2. Inform the maximum number of people from the target audience (persons 25-40 years old) about the release of a new product;\n",
        "3. Maximize the total number of conversions (purchases) of the target audience."
      ]
    },
    {
      "cell_type": "markdown",
      "metadata": {},
      "source": [
        "## 2. Mathematical formulation of the problem"
      ]
    },
    {
      "cell_type": "markdown",
      "metadata": {},
      "source": [
        "Let's start by describing **index sets**\n",
        "* $i$ -  list of available types of advertising, for $i$ = \"TV: сhannel#1_time 0PM-5PM\",..., I.\n",
        "* $i'$ -  list of TV types of advertising, $i' \\in$ I. $i'$ = 'TV: сhannel#1_time 0PM-5PM', 'TV: сhannel#1_time 5PM-10PM'.\n",
        "* $j$ -  segments of advertising audiences, for $j$ = \"14-17 years old\",..., J. \n",
        "* $j'$ - types of target segment. $j'$ = \"25-40\".\n",
        "* $k$ -  list of cities for broadcasting advertisements, for $k$ = \"City#1\",... K. \n",
        "\n",
        "$A_i$ - number of people in the advertising $i$ audience (Table 1).\n",
        "\n",
        "$B_i$ - the cost of displaying 1 unit of advertising $i$ (Table 1).\n",
        "\n",
        "$C_i$ - the conversion rate of advertising $i$ into targeted customer actions (Table 1).\n",
        "\n",
        "**Parameters**\n",
        "\n",
        "$D_{ij}$ - the share of various target groups ($j$) in the total number of advertising audiences ($i$) (Table 2).\n",
        "\n",
        "$F_{ij}$ - distribution of advertising audience ($i$) between cities ($j$) (Table 3).\n",
        "\n",
        "$M$ - available advertising budget, $.\n",
        "\n",
        "$R_i$ - The coefficient of decrease in advertising effectiveness $i$ with increasing number impressions (Table 4).\n",
        "\n",
        "To describe the conditions for changing the effectiveness of advertisements after n number of impressions, we use the concept of [Piecewise-Linear Programing](https://ampl.com/wp-content/uploads/Chapter-17-Piecewise-Linear-Programs-AMPL-Book.pdf). Thus, the objective function of the model is to maximize the number of targeted actions of the '25-40' audience as a result of advertising impressions.\n",
        "\n",
        "**The variables in this case are**\n",
        "* $x_i$: Number of advertisement broadcasts $i$, for $i$ = \"TV: сhannel#1_time 0PM-5PM\",..., N.\n",
        "\n",
        "**Objective function is**\n",
        "\n",
        "max  $ \\sum_i^I \\sum_k^K \\sum_{j'}^J X_i * A_i * D_{ij} * F_{ij} * R_i$ (goal 3)\n",
        "\n",
        " **The constraints are**\n",
        "\n",
        " s.t. $ \\sum_i^I X_i * B_i <= M $\n",
        " \n",
        "s.t. $ \\sum_{i'}^I X_{i'} * B_{i'} <= M * 0.2$"
      ]
    },
    {
      "cell_type": "markdown",
      "metadata": {},
      "source": [
        "## 3. AMPL formulation of the model"
      ]
    },
    {
      "cell_type": "markdown",
      "metadata": {},
      "source": [
        ">Use %%ampl_eval to evaluate AMPL commands and declarations"
      ]
    },
    {
      "cell_type": "code",
      "execution_count": 3,
      "metadata": {
        "id": "aEtyesqs7KbZ"
      },
      "outputs": [],
      "source": [
        "%%ampl_eval\n",
        "reset;\n",
        "### SETS \n",
        " set ADVERTISEMENT; \t\t# List of all available advertisements\n",
        " set AUDIENCE; \t\t\t\t# Broadcaster's audience segments\n",
        " set SET within AUDIENCE; \t# Types of target segments\n",
        " set CITY; \t\t\t\t\t# Target cities of the advertising campaign\n",
        " \n",
        "### PARAMETERS\n",
        " param Cost       {ADVERTISEMENT} >= 0; \t# Cost of 1 unit of advertising broadcasting for each type of advertising\n",
        " param Auditoria  {ADVERTISEMENT} >= 0; \t# Internal number of consumer groups for each advertisement\n",
        " param Conversion {ADVERTISEMENT} >= 0;\t\t# Conversion rate of advertisements into purchases\n",
        "\n",
        " param TargetAudience {ADVERTISEMENT, AUDIENCE} >= 0;\t# Segment composition of advertising audiences\n",
        " param City {ADVERTISEMENT, CITY} >= 0; \t\t\t\t# Distribution of the audience of broadcasters by city\n",
        " param Money; \t\t\t\t\t\t\t\t\t\t\t# Advertising campaign budget, USD\n",
        "\n",
        "### Indicators of reduction in advertising effectiveness (we use Piecewise-Linear Programing to describe this conception)\n",
        " # Number of efficiency ranges\n",
        " param npiece integer >= 1;\n",
        " # Ad effectiveness value in each range\n",
        " param rate {ad in ADVERTISEMENT, p in 1..npiece} >= 0;\n",
        " param limit {p in 1..npiece-1} > if p=1 then 0 else limit [p-1];\n",
        "\n",
        "### VARIABLES\n",
        " var X {ADVERTISEMENT} >= 0;\t\t\t# Number/duration of each type of advertisement\n",
        " \n",
        "### OBJECTIVE\n",
        "maximize TotalAudienceInform:\t\t# 1. Inform the maximum number of people about the release of a new product\n",
        " sum {ad in ADVERTISEMENT, c in CITY, a in AUDIENCE} <<{p in 1..npiece-1} limit[p];\n",
        " {p in 1..npiece} rate[ad,p]>> X[ad] * Auditoria[ad] * City[ad,c];\n",
        "\n",
        " maximize TargetAudienceInform:\t\t# Inform the maximum number of people from the target audience (persons 25-40 years old) about the release of a new product\n",
        " sum {ad in ADVERTISEMENT, c in CITY, a in AUDIENCE: a in SET} <<{p in 1..npiece-1} limit[p];\n",
        " {p in 1..npiece} rate[ad,p]>> X[ad] * Auditoria[ad] * TargetAudience[ad,a] * City[ad,c];\n",
        "\n",
        " maximize TargetAudienceConversion:\t# 3. Maximize the total number of conversions (purchases) of the target audience\n",
        " sum {ad in ADVERTISEMENT, c in CITY, a in AUDIENCE: a in SET} <<{p in 1..npiece-1} limit[p];\n",
        " {p in 1..npiece} rate[ad,p]>> X[ad] * Auditoria[ad] * TargetAudience[ad,a] * Conversion[ad] * City[ad,c];\n",
        "\n",
        "### CONSTRAINTS\n",
        " subject to Budget:\t\t\t\t\t\t# Limit the cost of all advertisements to the allocated budget\n",
        "\tsum{ad in ADVERTISEMENT} X[ad] * Cost[ad]<= Money;\n",
        " subject to Budget_TV:\t\t\t\t\t# TV advertising costs must be at least 20% of the allocated budget\t\t\t\t\n",
        "\tsum{ad in ADVERTISEMENT: ad in {'TV: channel#1_time 0PM-5PM', 'TV: channel#1_time 5PM-10PM'}} X[ad] * Cost[ad] >= Money * 0.2;"
      ]
    },
    {
      "cell_type": "markdown",
      "metadata": {},
      "source": [
        "## 4. Load data"
      ]
    },
    {
      "cell_type": "code",
      "execution_count": 4,
      "metadata": {},
      "outputs": [],
      "source": [
        "%%ampl_eval\n",
        "data;\n",
        " \n",
        " param Money = 50000;\n",
        "\t\n",
        " param: ADVERTISEMENT:\t\t\t\t\tCost\tAuditoria\tConversion:=\n",
        "\t'TV: channel#1_time 0PM-5PM'\t\t1000\t18000\t\t0.03\t\t\n",
        "\t'TV: channel#1_time 5PM-10PM'\t\t1200\t25000\t\t0.03\n",
        "\t'Magazine A: cover'\t\t\t\t\t200\t\t7000\t\t0.06\n",
        "\t'Magazine B: inner page'\t\t\t220\t\t8000\t\t0.06\n",
        "\t'Radio A: time 5PM-10PM' \t\t\t200\t\t11000\t\t0.05\n",
        "\t'Radio B: time 5PM-10PM' \t\t\t250\t\t15000\t\t0.05\n",
        "\t'Subway: red line'\t\t\t\t\t250\t\t15000\t\t0.04\n",
        "\t'WebSite1'\t\t\t\t\t\t\t500\t\t10000\t\t0.15\n",
        "\t'WebSite2'\t\t\t\t\t\t\t400\t\t7000\t\t0.14\n",
        "\t'Billboard: 1place per week'\t\t400\t\t3000\t\t0.03 ;\n",
        "\n",
        " set AUDIENCE = '14-17', '17-25', '25-40', '40-60', '>60';\n",
        "\t\n",
        " param TargetAudience: \t\t\t\t'14-17'\t'17-25'\t'25-40'\t'40-60'\t'>60':=\n",
        "\t'TV: channel#1_time 0PM-5PM'\t0.07\t0.25\t0.25\t0.27\t0.16\t\t\n",
        "\t'TV: channel#1_time 5PM-10PM'\t0.05\t0.18\t0.32\t0.30\t0.15\t\n",
        "\t'Magazine A: cover'\t\t\t\t0.01\t0.05\t0.35\t0.45\t0.14\t\n",
        "\t'Magazine B: inner page'\t\t0.05\t0.18\t0.32\t0.30\t0.15\t \n",
        "\t'Radio A: time 5PM-10PM'\t\t0.15\t0.32\t0.18\t0.30\t0.05\t\n",
        "\t'Radio B: time 5PM-10PM'\t\t0.14\t0.45\t0.35\t0.05\t0.01\t\n",
        "\t'Subway: red line'\t\t\t\t0.16\t0.27\t0.25\t0.25\t0.07\t\n",
        "\t'WebSite1'\t\t\t\t\t\t0.05\t0.18\t0.32\t0.30 \t0.15\t\n",
        "\t'WebSite2' \t\t\t\t\t\t0.15\t0.32\t0.18\t0.30\t0.05\t\n",
        "\t'Billboard: 1place per week'\t0.05\t0.18\t0.32\t0.30\t0.15\t;\n",
        "\t\n",
        " set SET='25-40';\n",
        "\n",
        " set CITY = City1, City2; \n",
        "\n",
        " param City:\t\t\t\t\t\tCity1\tCity2:=\n",
        "\t'TV: channel#1_time 0PM-5PM'\t0.6\t\t0.4\n",
        "\t'TV: channel#1_time 5PM-10PM'\t0.7\t\t0.3\n",
        "\t'Magazine A: cover'\t\t\t\t0\t\t1\n",
        "\t'Magazine B: inner page'\t\t0.8\t\t0.2\n",
        "\t'Radio A: time 5PM-10PM'\t\t0.8\t\t0.2\n",
        "\t'Radio B: time 5PM-10PM'\t\t0.2\t\t0.8\n",
        "\t'Subway: red line'\t\t\t\t0\t\t1\n",
        "\t'WebSite1'\t\t\t\t\t\t0.75\t0.25\n",
        "\t'WebSite2' \t\t\t\t\t\t0.8\t\t0.2\n",
        "\t'Billboard: 1place per week'\t0\t\t1\t;\n",
        "\t\n",
        " param npiece default 3;\n",
        "\t\n",
        " param rate:\t\t\t\t\t\t1\t\t2\t\t3:=\n",
        "\t'TV: channel#1_time 0PM-5PM'\t1\t\t0.9\t\t0.6\n",
        "\t'TV: channel#1_time 5PM-10PM'\t1\t\t0.9\t\t0.6\n",
        "\t'Magazine A: cover'\t\t\t\t1\t\t0.95 \t0.8\n",
        "\t'Magazine B: inner page'\t\t1\t\t0.95\t0.8\n",
        "\t'Radio A: time 5PM-10PM'\t\t1\t\t0.80\t0.6\n",
        "\t'Radio B: time 5PM-10PM'\t\t1\t\t0.80\t0.6\n",
        "\t'Subway: red line'\t\t\t\t1\t\t0.95\t0.6 \n",
        "\t'WebSite1'\t\t\t\t\t\t1\t\t0.9\t\t0.6\n",
        "\t'WebSite2'\t\t\t\t\t\t1\t\t0.9\t\t0.6\n",
        "\t'Billboard: 1place per week'\t1\t\t0.9\t\t0.8\t;\n",
        "\t\n",
        " param limit:=\t\t\t\t\t\t\n",
        " 1\t10\n",
        " 2\t20;"
      ]
    },
    {
      "attachments": {},
      "cell_type": "markdown",
      "metadata": {
        "id": "uftSUdTh9eZY"
      },
      "source": [
        "## 5. Solve problem"
      ]
    },
    {
      "cell_type": "markdown",
      "metadata": {},
      "source": [
        ">Use %%ampl_eval to evaluate AMPL commands and declarations"
      ]
    },
    {
      "cell_type": "code",
      "execution_count": 5,
      "metadata": {},
      "outputs": [
        {
          "name": "stdout",
          "output_type": "stream",
          "text": [
            "\n",
            "Substitution eliminates 10 variables.\n",
            "10 piecewise-linear terms replaced by 30 variables and 10 constraints.\n",
            "Adjusted problem:\n",
            "30 variables, all linear\n",
            "2 constraints, all linear; 36 nonzeros\n",
            "\t2 inequality constraints\n",
            "1 linear objective; 30 nonzeros.\n",
            "\n",
            "cbc 2.10.10:cbc 2.10.10: optimal solution; objective 32164.7\n",
            "0 simplex iterations\n"
          ]
        }
      ],
      "source": [
        "%%ampl_eval\n",
        "\n",
        "option solver cbc;          # Choosing a solver\n",
        "\n",
        "# Defining Output Settings \n",
        "option show_stats 1;        # (1) Show statistical information about the size of the problem. Default 0 (statistics are not displayed)\n",
        "option display_1col 0;      # Data Display Settings\n",
        "option omit_zero_rows 1;    # Hide rows with 0 values. Default (0)\n",
        "\n",
        "# Selecting an Objective Function (choose one of)\n",
        "#objective TotalAudienceInform;     # goal 1\n",
        "#objective TargetAudienceInform;    # goal 2\n",
        "objective TargetAudienceConversion; # goal 3\n",
        "\n",
        "solve;                      # Solve the model (Objective function TotalAudienceInform)"
      ]
    },
    {
      "cell_type": "markdown",
      "metadata": {},
      "source": [
        "## 6. Display the solution"
      ]
    },
    {
      "cell_type": "markdown",
      "metadata": {},
      "source": [
        ">Use %%ampl_eval"
      ]
    },
    {
      "cell_type": "code",
      "execution_count": 6,
      "metadata": {},
      "outputs": [
        {
          "name": "stdout",
          "output_type": "stream",
          "text": [
            ":                                  X     X[ad]*Cost[ad]    :=\n",
            "'Magazine A: cover'             20             4000\n",
            "'Magazine B: inner page'        20             4400\n",
            "'Radio B: time 5PM-10PM'        86.4          21600\n",
            "'TV: channel#1_time 5PM-10PM'    8.33333      10000\n",
            "WebSite1                        20            10000\n",
            ";\n",
            "\n",
            "X[ad]*Auditoria[ad]*TargetAudience[ad,a]*City[ad,c] [City1,*,*]\n",
            ":                                14-17     17-25     25-40    40-60   '>60'  :=\n",
            "'Magazine B: inner page'         6400       23040   40960     38400   19200\n",
            "'Radio B: time 5PM-10PM'        36288      116640   90720     12960    2592\n",
            "'TV: channel#1_time 5PM-10PM'    7291.67    26250   46666.7   43750   21875\n",
            "WebSite1                         7500       27000   48000     45000   22500\n",
            "\n",
            " [City2,*,*]\n",
            ":                               14-17    17-25    25-40    40-60   '>60'    :=\n",
            "'Magazine A: cover'               1400     7000    49000   63000   19600\n",
            "'Magazine B: inner page'          1600     5760    10240    9600    4800\n",
            "'Radio B: time 5PM-10PM'        145152   466560   362880   51840   10368\n",
            "'TV: channel#1_time 5PM-10PM'     3125    11250    20000   18750    9375\n",
            "WebSite1                          2500     9000    16000   15000    7500\n",
            ";\n",
            "\n",
            "sum{c in CITY, ad in ADVERTISEMENT, a in AUDIENCE} X[ad]*Auditoria[ad]*\n",
            "  TargetAudience[ad,a]*City[ad,c] = 2004330\n",
            "\n",
            "X[ad]*Auditoria[ad]*TargetAudience[ad,a]*Conversion[ad]*City[ad,c] [City1,*,*]\n",
            ":                                14-17    17-25    25-40    40-60     '>60'  :=\n",
            "'Magazine B: inner page'         384      1382.4   2457.6   2304     1152\n",
            "'Radio B: time 5PM-10PM'        1814.4    5832     4536      648      129.6\n",
            "'TV: channel#1_time 5PM-10PM'    218.75    787.5   1400     1312.5    656.25\n",
            "WebSite1                        1125      4050     7200     6750     3375\n",
            "\n",
            " [City2,*,*]\n",
            ":                                14-17     17-25     25-40    40-60     '>60' :=\n",
            "'Magazine A: cover'               84        420      2940     3780     1176\n",
            "'Magazine B: inner page'          96        345.6     614.4    576      288\n",
            "'Radio B: time 5PM-10PM'        7257.6    23328     18144     2592      518.4\n",
            "'TV: channel#1_time 5PM-10PM'     93.75     337.5     600      562.5    281.25\n",
            "WebSite1                         375       1350      2400     2250     1125\n",
            ";\n",
            "\n",
            "sum{c in CITY, ad in ADVERTISEMENT, a in AUDIENCE} X[ad]*Auditoria[ad]*\n",
            "  TargetAudience[ad,a]*Conversion[ad]*City[ad,c] = 119050\n",
            "\n"
          ]
        }
      ],
      "source": [
        "%%ampl_eval\n",
        "\n",
        "display X,                                  # Show the value of the variables for the resulting solution\n",
        "{ad in ADVERTISEMENT} X[ad] * Cost[ad],     # Show the budget spent on each type of advertising\n",
        "\n",
        "{c in CITY, ad in ADVERTISEMENT, a in AUDIENCE} X[ad] * Auditoria[ad] * TargetAudience[ad,a] * City[ad,c],                      # Number of views\n",
        "sum {c in CITY, ad in ADVERTISEMENT, a in AUDIENCE} X[ad] * Auditoria[ad] * TargetAudience[ad,a] * City[ad,c],                  # Total number of views\n",
        "\n",
        "{c in CITY, ad in ADVERTISEMENT, a in AUDIENCE} X[ad] * Auditoria[ad] * TargetAudience[ad,a] * Conversion[ad] * City[ad,c],     # Number of conversions\n",
        "sum {c in CITY, ad in ADVERTISEMENT, a in AUDIENCE} X[ad] * Auditoria[ad] * TargetAudience[ad,a] * Conversion[ad] * City[ad,c]; # Total number of conversions"
      ]
    },
    {
      "cell_type": "markdown",
      "metadata": {},
      "source": [
        "> ## 7. Retrieve solution as a pandas dataframe"
      ]
    },
    {
      "cell_type": "code",
      "execution_count": 7,
      "metadata": {},
      "outputs": [
        {
          "data": {
            "text/html": [
              "<div>\n",
              "<style scoped>\n",
              "    .dataframe tbody tr th:only-of-type {\n",
              "        vertical-align: middle;\n",
              "    }\n",
              "\n",
              "    .dataframe tbody tr th {\n",
              "        vertical-align: top;\n",
              "    }\n",
              "\n",
              "    .dataframe thead th {\n",
              "        text-align: right;\n",
              "    }\n",
              "</style>\n",
              "<table border=\"1\" class=\"dataframe\">\n",
              "  <thead>\n",
              "    <tr style=\"text-align: right;\">\n",
              "      <th></th>\n",
              "      <th>X.val</th>\n",
              "    </tr>\n",
              "  </thead>\n",
              "  <tbody>\n",
              "    <tr>\n",
              "      <th>Billboard: 1place per week</th>\n",
              "      <td>0.000000</td>\n",
              "    </tr>\n",
              "    <tr>\n",
              "      <th>Magazine A: cover</th>\n",
              "      <td>20.000000</td>\n",
              "    </tr>\n",
              "    <tr>\n",
              "      <th>Magazine B: inner page</th>\n",
              "      <td>20.000000</td>\n",
              "    </tr>\n",
              "    <tr>\n",
              "      <th>Radio A: time 5PM-10PM</th>\n",
              "      <td>0.000000</td>\n",
              "    </tr>\n",
              "    <tr>\n",
              "      <th>Radio B: time 5PM-10PM</th>\n",
              "      <td>86.400000</td>\n",
              "    </tr>\n",
              "    <tr>\n",
              "      <th>Subway: red line</th>\n",
              "      <td>0.000000</td>\n",
              "    </tr>\n",
              "    <tr>\n",
              "      <th>TV: channel#1_time 0PM-5PM</th>\n",
              "      <td>0.000000</td>\n",
              "    </tr>\n",
              "    <tr>\n",
              "      <th>TV: channel#1_time 5PM-10PM</th>\n",
              "      <td>8.333333</td>\n",
              "    </tr>\n",
              "    <tr>\n",
              "      <th>WebSite1</th>\n",
              "      <td>20.000000</td>\n",
              "    </tr>\n",
              "    <tr>\n",
              "      <th>WebSite2</th>\n",
              "      <td>0.000000</td>\n",
              "    </tr>\n",
              "  </tbody>\n",
              "</table>\n",
              "</div>"
            ],
            "text/plain": [
              "                                 X.val\n",
              "Billboard: 1place per week    0.000000\n",
              "Magazine A: cover            20.000000\n",
              "Magazine B: inner page       20.000000\n",
              "Radio A: time 5PM-10PM        0.000000\n",
              "Radio B: time 5PM-10PM       86.400000\n",
              "Subway: red line              0.000000\n",
              "TV: channel#1_time 0PM-5PM    0.000000\n",
              "TV: channel#1_time 5PM-10PM   8.333333\n",
              "WebSite1                     20.000000\n",
              "WebSite2                      0.000000"
            ]
          },
          "execution_count": 7,
          "metadata": {},
          "output_type": "execute_result"
        }
      ],
      "source": [
        "ampl.var[\"X\"].get_values().to_pandas()"
      ]
    }
  ],
  "metadata": {
    "colab": {
      "provenance": []
    },
    "kernelspec": {
      "display_name": "Python 3 (ipykernel)",
      "language": "python",
      "name": "python3"
    },
    "language_info": {
      "codemirror_mode": {
        "name": "ipython",
        "version": 3
      },
      "file_extension": ".py",
      "mimetype": "text/x-python",
      "name": "python",
      "nbconvert_exporter": "python",
      "pygments_lexer": "ipython3",
      "version": "3.11.5"
    },
    "vscode": {
      "interpreter": {
        "hash": "ee4198aac13dae9b6fccd443041680d99c2643c4956ef7c80ff6dcc0057cb523"
      }
    },
    "widgets": {
      "application/vnd.jupyter.widget-state+json": {
        "4510b5e780f24d44ace00a42c38cf6dc": {
          "model_module": "@jupyter-widgets/controls",
          "model_module_version": "1.5.0",
          "model_name": "ButtonStyleModel",
          "state": {
            "_model_module": "@jupyter-widgets/controls",
            "_model_module_version": "1.5.0",
            "_model_name": "ButtonStyleModel",
            "_view_count": null,
            "_view_module": "@jupyter-widgets/base",
            "_view_module_version": "1.2.0",
            "_view_name": "StyleView",
            "button_color": null,
            "font_weight": ""
          }
        },
        "45de4f35c7f04c37b87cad70c3e3b224": {
          "model_module": "@jupyter-widgets/base",
          "model_module_version": "1.2.0",
          "model_name": "LayoutModel",
          "state": {
            "_model_module": "@jupyter-widgets/base",
            "_model_module_version": "1.2.0",
            "_model_name": "LayoutModel",
            "_view_count": null,
            "_view_module": "@jupyter-widgets/base",
            "_view_module_version": "1.2.0",
            "_view_name": "LayoutView",
            "align_content": null,
            "align_items": null,
            "align_self": null,
            "border": null,
            "bottom": null,
            "display": null,
            "flex": null,
            "flex_flow": null,
            "grid_area": null,
            "grid_auto_columns": null,
            "grid_auto_flow": null,
            "grid_auto_rows": null,
            "grid_column": null,
            "grid_gap": null,
            "grid_row": null,
            "grid_template_areas": null,
            "grid_template_columns": null,
            "grid_template_rows": null,
            "height": null,
            "justify_content": null,
            "justify_items": null,
            "left": null,
            "margin": null,
            "max_height": null,
            "max_width": null,
            "min_height": null,
            "min_width": null,
            "object_fit": null,
            "object_position": null,
            "order": null,
            "overflow": null,
            "overflow_x": null,
            "overflow_y": null,
            "padding": null,
            "right": null,
            "top": null,
            "visibility": null,
            "width": null
          }
        },
        "4cfacef2f3e44067b81ac133fe17ae5b": {
          "model_module": "@jupyter-widgets/controls",
          "model_module_version": "1.5.0",
          "model_name": "DescriptionStyleModel",
          "state": {
            "_model_module": "@jupyter-widgets/controls",
            "_model_module_version": "1.5.0",
            "_model_name": "DescriptionStyleModel",
            "_view_count": null,
            "_view_module": "@jupyter-widgets/base",
            "_view_module_version": "1.2.0",
            "_view_name": "StyleView",
            "description_width": ""
          }
        },
        "59a30522756c4d668323600e0800a022": {
          "model_module": "@jupyter-widgets/base",
          "model_module_version": "1.2.0",
          "model_name": "LayoutModel",
          "state": {
            "_model_module": "@jupyter-widgets/base",
            "_model_module_version": "1.2.0",
            "_model_name": "LayoutModel",
            "_view_count": null,
            "_view_module": "@jupyter-widgets/base",
            "_view_module_version": "1.2.0",
            "_view_name": "LayoutView",
            "align_content": null,
            "align_items": null,
            "align_self": null,
            "border": null,
            "bottom": null,
            "display": null,
            "flex": null,
            "flex_flow": null,
            "grid_area": null,
            "grid_auto_columns": null,
            "grid_auto_flow": null,
            "grid_auto_rows": null,
            "grid_column": null,
            "grid_gap": null,
            "grid_row": null,
            "grid_template_areas": null,
            "grid_template_columns": null,
            "grid_template_rows": null,
            "height": null,
            "justify_content": null,
            "justify_items": null,
            "left": null,
            "margin": null,
            "max_height": null,
            "max_width": null,
            "min_height": null,
            "min_width": null,
            "object_fit": null,
            "object_position": null,
            "order": null,
            "overflow": null,
            "overflow_x": null,
            "overflow_y": null,
            "padding": null,
            "right": null,
            "top": null,
            "visibility": null,
            "width": null
          }
        },
        "5a786f2dd2584199a4001c8bebefd757": {
          "model_module": "@jupyter-widgets/controls",
          "model_module_version": "1.5.0",
          "model_name": "HBoxModel",
          "state": {
            "_dom_classes": [],
            "_model_module": "@jupyter-widgets/controls",
            "_model_module_version": "1.5.0",
            "_model_name": "HBoxModel",
            "_view_count": null,
            "_view_module": "@jupyter-widgets/controls",
            "_view_module_version": "1.5.0",
            "_view_name": "HBoxView",
            "box_style": "",
            "children": [
              "IPY_MODEL_de8c25d11df34ae2b86964266defdfdc",
              "IPY_MODEL_a1e4bcf9de474b4f835419c6278d4e42"
            ],
            "layout": "IPY_MODEL_45de4f35c7f04c37b87cad70c3e3b224"
          }
        },
        "5bec63a60fab4e628b18b6576859f23d": {
          "model_module": "@jupyter-widgets/base",
          "model_module_version": "1.2.0",
          "model_name": "LayoutModel",
          "state": {
            "_model_module": "@jupyter-widgets/base",
            "_model_module_version": "1.2.0",
            "_model_name": "LayoutModel",
            "_view_count": null,
            "_view_module": "@jupyter-widgets/base",
            "_view_module_version": "1.2.0",
            "_view_name": "LayoutView",
            "align_content": null,
            "align_items": null,
            "align_self": null,
            "border": null,
            "bottom": null,
            "display": null,
            "flex": null,
            "flex_flow": null,
            "grid_area": null,
            "grid_auto_columns": null,
            "grid_auto_flow": null,
            "grid_auto_rows": null,
            "grid_column": null,
            "grid_gap": null,
            "grid_row": null,
            "grid_template_areas": null,
            "grid_template_columns": null,
            "grid_template_rows": null,
            "height": null,
            "justify_content": null,
            "justify_items": null,
            "left": null,
            "margin": null,
            "max_height": null,
            "max_width": null,
            "min_height": null,
            "min_width": null,
            "object_fit": null,
            "object_position": null,
            "order": null,
            "overflow": null,
            "overflow_x": null,
            "overflow_y": null,
            "padding": null,
            "right": null,
            "top": null,
            "visibility": null,
            "width": null
          }
        },
        "5c52a4f288924ca8bbf5182a951af6a8": {
          "model_module": "@jupyter-widgets/controls",
          "model_module_version": "1.5.0",
          "model_name": "VBoxModel",
          "state": {
            "_dom_classes": [],
            "_model_module": "@jupyter-widgets/controls",
            "_model_module_version": "1.5.0",
            "_model_name": "VBoxModel",
            "_view_count": null,
            "_view_module": "@jupyter-widgets/controls",
            "_view_module_version": "1.5.0",
            "_view_name": "VBoxView",
            "box_style": "",
            "children": [
              "IPY_MODEL_5a786f2dd2584199a4001c8bebefd757",
              "IPY_MODEL_9a901424b8c04687b39b5e1251ee3919",
              "IPY_MODEL_fcf080abd68144728d12fa81f879d5d5"
            ],
            "layout": "IPY_MODEL_b2d8e84e2f6545bc98bbaf40294b9ad8"
          }
        },
        "9a901424b8c04687b39b5e1251ee3919": {
          "model_module": "@jupyter-widgets/output",
          "model_module_version": "1.0.0",
          "model_name": "OutputModel",
          "state": {
            "_dom_classes": [],
            "_model_module": "@jupyter-widgets/output",
            "_model_module_version": "1.0.0",
            "_model_name": "OutputModel",
            "_view_count": null,
            "_view_module": "@jupyter-widgets/output",
            "_view_module_version": "1.0.0",
            "_view_name": "OutputView",
            "layout": "IPY_MODEL_c9f8c186dbec4424895eb43630e458f2",
            "msg_id": "",
            "outputs": [
              {
                "name": "stdout",
                "output_type": "stream",
                "text": [
                  "Using existing license.\n"
                ]
              }
            ]
          }
        },
        "a0a3a52262a340debb5a29ce65170164": {
          "model_module": "@jupyter-widgets/base",
          "model_module_version": "1.2.0",
          "model_name": "LayoutModel",
          "state": {
            "_model_module": "@jupyter-widgets/base",
            "_model_module_version": "1.2.0",
            "_model_name": "LayoutModel",
            "_view_count": null,
            "_view_module": "@jupyter-widgets/base",
            "_view_module_version": "1.2.0",
            "_view_name": "LayoutView",
            "align_content": null,
            "align_items": null,
            "align_self": null,
            "border": null,
            "bottom": null,
            "display": null,
            "flex": null,
            "flex_flow": null,
            "grid_area": null,
            "grid_auto_columns": null,
            "grid_auto_flow": null,
            "grid_auto_rows": null,
            "grid_column": null,
            "grid_gap": null,
            "grid_row": null,
            "grid_template_areas": null,
            "grid_template_columns": null,
            "grid_template_rows": null,
            "height": null,
            "justify_content": null,
            "justify_items": null,
            "left": null,
            "margin": null,
            "max_height": null,
            "max_width": null,
            "min_height": null,
            "min_width": null,
            "object_fit": null,
            "object_position": null,
            "order": null,
            "overflow": null,
            "overflow_x": null,
            "overflow_y": null,
            "padding": null,
            "right": null,
            "top": null,
            "visibility": null,
            "width": null
          }
        },
        "a1e4bcf9de474b4f835419c6278d4e42": {
          "model_module": "@jupyter-widgets/controls",
          "model_module_version": "1.5.0",
          "model_name": "TextModel",
          "state": {
            "_dom_classes": [],
            "_model_module": "@jupyter-widgets/controls",
            "_model_module_version": "1.5.0",
            "_model_name": "TextModel",
            "_view_count": null,
            "_view_module": "@jupyter-widgets/controls",
            "_view_module_version": "1.5.0",
            "_view_name": "TextView",
            "continuous_update": true,
            "description": "UUID:",
            "description_tooltip": null,
            "disabled": false,
            "layout": "IPY_MODEL_5bec63a60fab4e628b18b6576859f23d",
            "placeholder": "​",
            "style": "IPY_MODEL_4cfacef2f3e44067b81ac133fe17ae5b",
            "value": ""
          }
        },
        "b2d8e84e2f6545bc98bbaf40294b9ad8": {
          "model_module": "@jupyter-widgets/base",
          "model_module_version": "1.2.0",
          "model_name": "LayoutModel",
          "state": {
            "_model_module": "@jupyter-widgets/base",
            "_model_module_version": "1.2.0",
            "_model_name": "LayoutModel",
            "_view_count": null,
            "_view_module": "@jupyter-widgets/base",
            "_view_module_version": "1.2.0",
            "_view_name": "LayoutView",
            "align_content": null,
            "align_items": null,
            "align_self": null,
            "border": null,
            "bottom": null,
            "display": null,
            "flex": null,
            "flex_flow": null,
            "grid_area": null,
            "grid_auto_columns": null,
            "grid_auto_flow": null,
            "grid_auto_rows": null,
            "grid_column": null,
            "grid_gap": null,
            "grid_row": null,
            "grid_template_areas": null,
            "grid_template_columns": null,
            "grid_template_rows": null,
            "height": null,
            "justify_content": null,
            "justify_items": null,
            "left": null,
            "margin": null,
            "max_height": null,
            "max_width": null,
            "min_height": null,
            "min_width": null,
            "object_fit": null,
            "object_position": null,
            "order": null,
            "overflow": null,
            "overflow_x": null,
            "overflow_y": null,
            "padding": null,
            "right": null,
            "top": null,
            "visibility": null,
            "width": null
          }
        },
        "c9f8c186dbec4424895eb43630e458f2": {
          "model_module": "@jupyter-widgets/base",
          "model_module_version": "1.2.0",
          "model_name": "LayoutModel",
          "state": {
            "_model_module": "@jupyter-widgets/base",
            "_model_module_version": "1.2.0",
            "_model_name": "LayoutModel",
            "_view_count": null,
            "_view_module": "@jupyter-widgets/base",
            "_view_module_version": "1.2.0",
            "_view_name": "LayoutView",
            "align_content": null,
            "align_items": null,
            "align_self": null,
            "border": null,
            "bottom": null,
            "display": null,
            "flex": null,
            "flex_flow": null,
            "grid_area": null,
            "grid_auto_columns": null,
            "grid_auto_flow": null,
            "grid_auto_rows": null,
            "grid_column": null,
            "grid_gap": null,
            "grid_row": null,
            "grid_template_areas": null,
            "grid_template_columns": null,
            "grid_template_rows": null,
            "height": null,
            "justify_content": null,
            "justify_items": null,
            "left": null,
            "margin": null,
            "max_height": null,
            "max_width": null,
            "min_height": null,
            "min_width": null,
            "object_fit": null,
            "object_position": null,
            "order": null,
            "overflow": null,
            "overflow_x": null,
            "overflow_y": null,
            "padding": null,
            "right": null,
            "top": null,
            "visibility": null,
            "width": null
          }
        },
        "de8c25d11df34ae2b86964266defdfdc": {
          "model_module": "@jupyter-widgets/controls",
          "model_module_version": "1.5.0",
          "model_name": "ButtonModel",
          "state": {
            "_dom_classes": [],
            "_model_module": "@jupyter-widgets/controls",
            "_model_module_version": "1.5.0",
            "_model_name": "ButtonModel",
            "_view_count": null,
            "_view_module": "@jupyter-widgets/controls",
            "_view_module_version": "1.5.0",
            "_view_name": "ButtonView",
            "button_style": "",
            "description": "Use existing license",
            "disabled": false,
            "icon": "",
            "layout": "IPY_MODEL_59a30522756c4d668323600e0800a022",
            "style": "IPY_MODEL_4510b5e780f24d44ace00a42c38cf6dc",
            "tooltip": ""
          }
        },
        "fcf080abd68144728d12fa81f879d5d5": {
          "model_module": "@jupyter-widgets/output",
          "model_module_version": "1.0.0",
          "model_name": "OutputModel",
          "state": {
            "_dom_classes": [],
            "_model_module": "@jupyter-widgets/output",
            "_model_module_version": "1.0.0",
            "_model_name": "OutputModel",
            "_view_count": null,
            "_view_module": "@jupyter-widgets/output",
            "_view_module_version": "1.0.0",
            "_view_name": "OutputView",
            "layout": "IPY_MODEL_a0a3a52262a340debb5a29ce65170164",
            "msg_id": "",
            "outputs": [
              {
                "name": "stdout",
                "output_type": "stream",
                "text": [
                  "Licensed to Default AMPL Community Edition License for the AMPL Model Colaboratory.\n"
                ]
              }
            ]
          }
        }
      }
    }
  },
  "nbformat": 4,
  "nbformat_minor": 4
}
