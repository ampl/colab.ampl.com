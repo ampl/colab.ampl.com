{
  "cells": [
    {
      "cell_type": "markdown",
      "metadata": {},
      "source": [
        "# AMPL Development Tutorial 1/6 -- Capacitated Facility Location Problem\n",
        "[![1_floc.ipynb](https://img.shields.io/badge/github-%23121011.svg?logo=github)](https://github.com/ampl/colab.ampl.com/blob/master/authors/gomfy/dev/1_floc.ipynb) [![Open In Colab](https://colab.research.google.com/assets/colab-badge.svg)](https://colab.research.google.com/github/ampl/colab.ampl.com/blob/master/authors/gomfy/dev/1_floc.ipynb) [![Kaggle](https://kaggle.com/static/images/open-in-kaggle.svg)](https://kaggle.com/kernels/welcome?src=https://github.com/ampl/colab.ampl.com/blob/master/authors/gomfy/dev/1_floc.ipynb) [![Gradient](https://assets.paperspace.io/img/gradient-badge.svg)](https://console.paperspace.com/github/ampl/colab.ampl.com/blob/master/authors/gomfy/dev/1_floc.ipynb) [![Open In SageMaker Studio Lab](https://studiolab.sagemaker.aws/studiolab.svg)](https://studiolab.sagemaker.aws/import/github/ampl/colab.ampl.com/blob/master/authors/gomfy/dev/1_floc.ipynb) [![Hits](https://h.ampl.com/https://github.com/ampl/colab.ampl.com/blob/master/authors/gomfy/dev/1_floc.ipynb)](https://colab.ampl.com)\n",
        "\n",
        "Description: This notebook marks the beginning of a six-part series. \n",
        "We start with a straightforward facility location problem, demonstrating how to utilize AMPL and the `amplpy` module within a Jupyter Notebook to find a solution. \n",
        "As the series progresses, the problem complexity will increase, evolving into a two-stage stochastic programming problem.\n",
        "From the third notebook onwards, our focus will pivot from modeling to algorithm development in AMPL. \n",
        "We'll explore four distinct approaches to implementing the Benders decomposition: initially through AMPL scripting, then by shifting control flow to the `amplpy` module. \n",
        "This transition allows us to illustrate how subproblems can be solved in parallel. \n",
        "Lastly, we'll introduce our AMPLS library, which facilitates exporting AMPL model instances to persistent solver representations. \n",
        "This approach enables an exceptionally efficient Benders decomposition implementation.\n",
        "\n",
        "Tags: amplpy, ampl, mip, facility location\n",
        "\n",
        "Notebook author: Gyorgy Matyasfalvi <<gyorgy@ampl.com>>\n",
        "\n",
        "References:\n",
        "\n",
        "* AMPL a Modeling Language for Mathematical Programming -- Robert Fourer et al.\n",
        "* SCIP Optimization Suite example projects -- Stephen J. Maher (ZIB)"
      ]
    },
    {
      "cell_type": "code",
      "execution_count": 1,
      "metadata": {},
      "outputs": [],
      "source": [
        "# Install dependencies\n",
        "%pip install -q amplpy"
      ]
    },
    {
      "cell_type": "code",
      "execution_count": 2,
      "metadata": {},
      "outputs": [],
      "source": [
        "# Google Colab & Kaggle integration\n",
        "from amplpy import AMPL, ampl_notebook\n",
        "\n",
        "ampl = ampl_notebook(\n",
        "    modules=[\"open\"],  # modules to install\n",
        "    license_uuid=\"default\",  # license to use\n",
        ")  # instantiate AMPL object and register magics"
      ]
    },
    {
      "cell_type": "markdown",
      "metadata": {},
      "source": [
        "## Problem description\n",
        "Facility location decisions are crucial and often involve significant investment for both public and private sector entities, bearing profound social, economic, and environmental implications. \n",
        "The strategic positioning of facilities, such as warehouses, factories, and service centers, can determine an organization's operational efficiency, market reach, and overall sustainability.\n",
        "\n",
        "Given the high stakes of these decisions, engineers and analysts have developed sophisticated models to aid organizations in identifying optimal locations. \n",
        "These models take into account a variety of factors, including but not limited to, transportation costs, proximity to customers and suppliers, labor availability, customer demand, and environmental regulations.\n",
        "\n",
        "The challenge is compounded when considering the uncertainty inherent in future conditions. \n",
        "Factors such as fluctuating market demands, changes in infrastructure, and unpredictable socio-economic developments require a robust approach to facility location. \n",
        "Therefore, as we will explore in the second notebook of this series, engineers frequently utilize stochastic models and robust optimization techniques. \n",
        "These approaches are designed to accommodate uncertainties, ensuring that the selected locations remain effective across various potential future scenarios."
      ]
    },
    {
      "cell_type": "markdown",
      "metadata": {},
      "source": [
        "## Mixed integer program\n",
        "Below you can find a simple capacitated facility location problem as an explicit mixed integer program. \n",
        "\n",
        "**Given:** \n",
        "* A set of facilities: $I$.\n",
        "* A set of customers: $J$.\n",
        "\n",
        "**Task:** \n",
        "* Find the minimum cost facilities to open such that the customer demand can be satisfied.\n",
        "\n",
        "### Variables\n",
        "* $x_i \\in \\{0, 1\\} \\quad \\forall i \\in I$\n",
        "    * $x_i = 1$ if facility $i$ is opened.\n",
        "* $y_{ij} \\geq 0 \\quad \\forall i \\in I, \\forall j \\in J$\n",
        "    * $y_{ij}$ is the level of demand for customer $j$ satisfied by facility $i$.\n",
        "\n",
        "### Parameters:\n",
        "* $f_i$: the fixed cost for opening facility $i$,\n",
        "* $q_{ij}$: the cost of servicing customer $j$ from facility $i$,\n",
        "* $\\lambda_j$: the demand of customer $j$,\n",
        "* $k_i:$ the capacity of facility $i$.\n",
        "\n",
        "\n",
        "### The explicit form\n",
        "The explicit mixed integer program can be formulated as follows:\n",
        "\n",
        "$$\n",
        "\\begin{array}{rll}\n",
        " \\min \\quad & \\sum_{i \\in I} f_i x_i + \\sum_{i \\in I} \\sum_{j \\in J} q_{ij} y_{ij} & \\\\\n",
        " & &  \\\\\n",
        " \\textrm{subject to} \\quad & \\sum_{i \\in I} y_{ij} \\geq \\lambda_j & \\forall j \\in J \\\\\n",
        " & \\sum_{j \\in J} y_{ij} \\leq k_i x_i & \\forall i \\in I \\\\\n",
        " & \\sum_{i \\in I} k_i x_i \\geq \\sum_{j \\in J} \\lambda_j & \\\\\n",
        " & &  \\\\\n",
        " & x_i \\in \\{0, 1\\} & \\forall i \\in I \\\\\n",
        " & y_{ij} \\geq 0 & \\forall i \\in I, \\forall j \\in J\n",
        "\\end{array}\n",
        "$$"
      ]
    },
    {
      "cell_type": "markdown",
      "metadata": {},
      "source": [
        "## AMPL implementation\n",
        "Translating the mathematical formulation of our optimization problem into an AMPL model is a direct process. \n",
        "The AMPL code closely mirrors each inequality in the system (1), preserving the structure of the mathematical model.\n",
        "\n",
        "AMPL's expressive syntax allows for meaningful names for entities such as variables, parameters, and constraints, enhancing the model's clarity. \n",
        "For instance, we'll represent the set $I$ as `FACILITIES`, and $J$ as `CUSTOMERS`. \n",
        "Variables previously denoted as $x$ and $y$ will be named `facility_open` and `production`, respectively.\n",
        "\n",
        "Similarly, we will rename our parameters for greater clarity: $f_i$ becomes `fixed_cost`, $q_ij$ is now `variable_cost`, $\\lambda_j$ is referred to as `customer_demand`, and $k_i$ is labeled as `facility_capacity`. \n",
        "\n",
        "Using descriptive names not only enhances the readability of the model but also its maintainability and the ease with which it can be shared and understood by others."
      ]
    },
    {
      "cell_type": "markdown",
      "metadata": {},
      "source": [
        "### Creating the model file\n",
        "\n",
        "Creating an AMPL model file is straightforward: simply open a text editor, type your AMPL model, and then submit it to the `ampl` interpreter. \n",
        "You can do this either by passing it as a command-line argument or by using it in interactive mode. \n",
        "For more details on these processes, refer to the [AMPL book](https://ampl.com/learn/ampl-book/).\n",
        "\n",
        "In the context of a Jupyter Notebook, like the one we are using, you can create an AMPL model file directly within a code cell. \n",
        "To do this, we'll employ the `%%writefile` magic command, which acts as our text editor for generating the model file. \n",
        "The syntax `%%writefile <filename>` will create a file named `<filename>` in the notebook's current working directory.\n",
        "As far as `ampl` is concerened, the file extension is not crucial, but it's customary to use the `.mod` suffix for model files.\n",
        "\n",
        "As we progress and begin to utilize AMPL's Python API, we'll demonstrate how to load these model files into AMPL for further use."
      ]
    },
    {
      "cell_type": "code",
      "execution_count": 3,
      "metadata": {},
      "outputs": [
        {
          "name": "stdout",
          "output_type": "stream",
          "text": [
            "Writing floc_det.mod\n"
          ]
        }
      ],
      "source": [
        "%%writefile floc_det.mod\n",
        "# Sets\n",
        "set FACILITIES; # set of facilities\n",
        "set CUSTOMERS;  # set of customers\n",
        "\n",
        "# Variables\n",
        "var facility_open{FACILITIES} binary;        # 1 if facility i is open, 0 otherwise\n",
        "var production{FACILITIES, CUSTOMERS} >= 0;  # production from facility i to satisfy customer demand\n",
        "\n",
        "# Parameters\n",
        "param fixed_cost{FACILITIES} >= 0;                # fixed cost of opening facility_open i\n",
        "param variable_cost{FACILITIES, CUSTOMERS} >= 0;  # variable cost of satisfying customer_demand of customer j from facility_open i\n",
        "param customer_demand{CUSTOMERS} >= 0;            # customer_demand of customer j\n",
        "param facility_capacity{FACILITIES} >= 0;         # facility_capacity of facility_open i\n",
        "\n",
        "# Objective\n",
        "minimize TotalCost: \n",
        "    sum{i in FACILITIES} fixed_cost[i] * facility_open[i] +                     # Fixed cost of opening facility i \n",
        "    sum{i in FACILITIES, j in CUSTOMERS} variable_cost[i,j] * production[i,j];  # Variable cost of satisfying customer demand j from facility i\n",
        "\n",
        "# Constraints\n",
        "s.t. satisfying_customer_demand{j in CUSTOMERS}:\n",
        "    sum{i in FACILITIES} production[i,j] >= customer_demand[j]; # Satisfy customer demand j\n",
        "\n",
        "s.t. facility_capacity_limits{i in FACILITIES}:\n",
        "    sum{j in CUSTOMERS} production[i,j] <= facility_capacity[i] * facility_open[i]; # Respect facility capacity limits\n",
        "\n",
        "s.t. sufficient_production_capacity:\n",
        "    sum{i in FACILITIES} facility_capacity[i]*facility_open[i] >= sum{j in CUSTOMERS} customer_demand[j]; # Ensure there is enough production capacity to satisfy all customer demand"
      ]
    },
    {
      "cell_type": "markdown",
      "metadata": {},
      "source": [
        "### Specifying Data\n",
        "\n",
        "Once you have formulated your optimization problem mathematically, as discussed previously, writing the AMPL model becomes relatively straightforward. \n",
        "For detailed guidance on AMPL syntax, the [AMPL book](https://ampl.com/learn/ampl-book/) is an excellent resource. \n",
        "However, a model without data will result in an error message, not a solution.\n",
        "\n",
        "AMPL supports a variety of data loading methods. \n",
        "In production environments, data is typically sourced from databases, CSV or Excel files, or existing data frames, such as those in Pandas. \n",
        "AMPL is equipped with features and tools that allow for seamless data importation from any of these sources.\n",
        "\n",
        "It's important to note that AMPL also supports loading data from a dedicated data file, usually with a `.dat` suffix. \n",
        "However, if your data is already in an Excel file, a database, a data frame, or another storage format, there is **NO NEED** to convert it into a `.dat` file for AMPL. \n",
        "Using `.dat` files can be convenient if you don't have access to real data yet and wish to test your model.\n",
        "\n",
        "Below, we will demonstrate how to provide data using `.dat` files. \n",
        "In subsequent notebooks, as we increasingly utilize AMPL's Python API, we will transition to using Pandas data frames for data input. \n",
        "For a comprehensive overview of loading data from databases, Excel, or CSV files, please refer to our [data connectors page](https://ampl.com/products/ampl/data-connectors/)."
      ]
    },
    {
      "cell_type": "markdown",
      "metadata": {},
      "source": [
        "#### Various demands\n",
        "For our specific problem we will specify 3 data files. \n",
        "Each data file will represent a customer demand scenario: low, medium, or high. \n",
        "Similar as above we will use the jupyter notebook magic `%%writefile <filename>` to write our data files in the current working directory.\n",
        "Outside of a Jupyter notebook you can use any text editor to do this."
      ]
    },
    {
      "cell_type": "code",
      "execution_count": 4,
      "metadata": {},
      "outputs": [
        {
          "name": "stdout",
          "output_type": "stream",
          "text": [
            "Writing floc_low.dat\n"
          ]
        }
      ],
      "source": [
        "%%writefile floc_low.dat\n",
        "\n",
        "set FACILITIES  := Baytown_TX Beaumont_TX Baton_Rouge_LA;\n",
        "set CUSTOMERS   := San_Antonio_TX Dallas_TX Jackson_MS Birmingham_AL;\n",
        "\n",
        "param fixed_cost := Baytown_TX 400000 Beaumont_TX 200000 Baton_Rouge_LA 600000;\n",
        "\n",
        "param facility_capacity := Baytown_TX 1550 Beaumont_TX 650 Baton_Rouge_LA 1750;\n",
        "\n",
        "param variable_cost:        San_Antonio_TX  Dallas_TX    Jackson_MS   Birmingham_AL :=\n",
        "             Baytown_TX     5739.725        6539.725     8650.40      22372.1125\n",
        "             Beaumont_TX    6055.05         6739.055     8050.40      21014.225 \n",
        "             Baton_Rouge_LA 8650.40         7539.055     4539.72      15024.325;\n",
        "\n",
        "param customer_demand :=\n",
        "               San_Antonio_TX  650      \n",
        "               Dallas_TX       1134            \n",
        "               Jackson_MS      416      \n",
        "               Birmingham_AL   113;"
      ]
    },
    {
      "cell_type": "code",
      "execution_count": 5,
      "metadata": {},
      "outputs": [
        {
          "name": "stdout",
          "output_type": "stream",
          "text": [
            "Writing floc_med.dat\n"
          ]
        }
      ],
      "source": [
        "%%writefile floc_med.dat\n",
        "\n",
        "set FACILITIES  := Baytown_TX Beaumont_TX Baton_Rouge_LA;\n",
        "set CUSTOMERS   := San_Antonio_TX Dallas_TX Jackson_MS Birmingham_AL;\n",
        "\n",
        "param fixed_cost := Baytown_TX 400000 Beaumont_TX 200000 Baton_Rouge_LA 600000;\n",
        "\n",
        "param facility_capacity := Baytown_TX 1550 Beaumont_TX 650 Baton_Rouge_LA 1750;\n",
        "\n",
        "param variable_cost:        San_Antonio_TX  Dallas_TX    Jackson_MS   Birmingham_AL :=\n",
        "             Baytown_TX     5739.725        6539.725     8650.40      22372.1125\n",
        "             Beaumont_TX    6055.05         6739.055     8050.40      21014.225 \n",
        "             Baton_Rouge_LA 8650.40         7539.055     4539.72      15024.325;\n",
        "\n",
        "param customer_demand :=\n",
        "               San_Antonio_TX  650      \n",
        "               Dallas_TX       1134            \n",
        "               Jackson_MS      416      \n",
        "               Birmingham_AL   113;"
      ]
    },
    {
      "cell_type": "code",
      "execution_count": 6,
      "metadata": {},
      "outputs": [
        {
          "name": "stdout",
          "output_type": "stream",
          "text": [
            "Writing floc_high.dat\n"
          ]
        }
      ],
      "source": [
        "%%writefile floc_high.dat\n",
        "\n",
        "set FACILITIES  := Baytown_TX Beaumont_TX Baton_Rouge_LA;\n",
        "set CUSTOMERS   := San_Antonio_TX Dallas_TX Jackson_MS Birmingham_AL;\n",
        "\n",
        "param fixed_cost := Baytown_TX 400000 Beaumont_TX 200000 Baton_Rouge_LA 600000;\n",
        "\n",
        "param facility_capacity := Baytown_TX 1550 Beaumont_TX 650 Baton_Rouge_LA 1750;\n",
        "\n",
        "param variable_cost:        San_Antonio_TX  Dallas_TX    Jackson_MS   Birmingham_AL :=\n",
        "             Baytown_TX     5739.725        6539.725     8650.40      22372.1125\n",
        "             Beaumont_TX    6055.05         6739.055     8050.40      21014.225 \n",
        "             Baton_Rouge_LA 8650.40         7539.055     4539.72      15024.325;\n",
        "\n",
        "param customer_demand :=\n",
        "               San_Antonio_TX        887 \n",
        "               Dallas_TX             1456       \n",
        "               Jackson_MS            673\n",
        "               Birmingham_AL         207;"
      ]
    },
    {
      "cell_type": "markdown",
      "metadata": {},
      "source": [
        "### Solve for each scenario and check for optimality\n",
        "\n",
        "Outside of a Jupyter notebook, there are several approaches to solve our model for each scenario. \n",
        "You might, for example, use a bash script to iterate through all files, invoking `ampl` on each one. \n",
        "Alternatively, an AMPL script named `det.run` could be written as follows:\n",
        "\n",
        "```ampl\n",
        "option solver highs;\n",
        "option omit_zero_rows 1, omit_zero_cols 1, display_precision 0;\n",
        "model floc_det.mod;\n",
        "\n",
        "data floc_low.dat;\n",
        "solve;\n",
        "print \"LOW DEMAND COST:\";\n",
        "display TotalCost;\n",
        "print \"LOW DEMAND SOLUTION:\";\n",
        "display facility_open;\n",
        "\n",
        "reset data;\n",
        "data floc_med.dat;\n",
        "solve;\n",
        "print \"MEDIUM DEMAND COST:\";\n",
        "display TotalCost;\n",
        "print \"MEDIUM DEMAND SOLUTION:\";\n",
        "display facility_open;\n",
        "\n",
        "reset data;\n",
        "data floc_high.dat;\n",
        "solve;\n",
        "print \"HIGH DEMAND COST:\";\n",
        "display TotalCost;\n",
        "print \"HIGH DEMAND SOLUTION:\";\n",
        "display facility_open;\n",
        "```\n",
        "\n",
        "This script can then be executed from the terminal with the command `ampl det.run`.\n",
        "\n",
        "Within a Jupyter Notebook, we'll leverage `amplpy` for a similar purpose as outlined in the AMPL script above. \n",
        "The Python API will allow us to instantiate an AMPL object and utilize its methods to read model and data files, configure options, issue solve commands, and refresh our data as needed.\n",
        "\n",
        "It's important to note that `customer_demand` is the only parameter that varies across the different scenarios in our data files. \n",
        "This observation suggests that it might not be necessary to create three distinct data files and reset all our data after each solve, as the AMPL script above does. \n",
        "Instead, we can begin with a single data file for the low demand scenario, `floc_low.dat`. \n",
        "For the medium and high scenarios, we can simply use AMPL's `update data` command to modify the `customer_demand` parameter accordingly."
      ]
    },
    {
      "cell_type": "markdown",
      "metadata": {},
      "source": [
        "### Solve for low demand\n",
        "Relying on AMPL's Python API."
      ]
    },
    {
      "cell_type": "code",
      "execution_count": 7,
      "metadata": {},
      "outputs": [
        {
          "name": "stdout",
          "output_type": "stream",
          "text": [
            "Number of variables:  15\n",
            "Number of constraints:  8\n",
            "\n",
            "Presolve eliminates 0 constraints and 1 variable.\n",
            "Adjusted problem:\n",
            "14 variables:\n",
            "\t2 binary variables\n",
            "\t12 linear variables\n",
            "8 constraints, all linear; 28 nonzeros\n",
            "\t8 inequality constraints\n",
            "1 linear objective; 14 nonzeros.\n",
            "\n",
            "HiGHS 1.6.0:HiGHS 1.6.0: optimal solution; objective 15966984.87\n",
            "8 simplex iterations\n",
            "1 branching nodes\n",
            "Success:\tProblem solved to optimality!\n",
            "\n",
            "TotalCost = 15966984.865\n",
            "\n",
            "facility_open [*] :=\n",
            "Baton_Rouge_LA  1\n",
            "    Baytown_TX  1\n",
            ";\n",
            "\n"
          ]
        }
      ],
      "source": [
        "# This section relies on AMPL's Python API to solve the problem\n",
        "\n",
        "ampl = AMPL()  # Instantiate an AMPL object\n",
        "ampl.read(\"floc_det.mod\")  # Read the model from file\n",
        "ampl.read_data(\"floc_low.dat\")  # Read the data from file\n",
        "ampl.eval(\n",
        "    r\"\"\"\n",
        "    print \"Number of variables: \",  _nvars;\n",
        "    print \"Number of constraints: \", _ncons;\n",
        "    option show_stats 1;\n",
        "    \"\"\"\n",
        ")  # Display total number of variables and constraints\n",
        "\n",
        "ampl.option[\"solver\"] = \"highs\"  # Select the solver\n",
        "ampl.option[\"display_precision\"] = 0  # Turn off display rounding\n",
        "ampl.option[\"show_stats\"] = 1  # Show problem statistics\n",
        "ampl.solve()  # Attempt to solve\n",
        "\n",
        "# Check if the problem was solved if not print warning\n",
        "srn = ampl.get_value(\"solve_result_num\")\n",
        "if srn != 0:\n",
        "    print(f\"Warning:\\tProblem not solved to optimality!\\n\\t\\tsolve_result_num = {srn}\")\n",
        "else:\n",
        "    print(\"Success:\\tProblem solved to optimality!\")\n",
        "    # Print the solution\n",
        "    ampl.eval(\n",
        "        r\"\"\"\n",
        "        option omit_zero_rows 1, omit_zero_cols 1; # Set more display options.\n",
        "        print;\n",
        "        display TotalCost;\n",
        "        display facility_open;\n",
        "        \"\"\"\n",
        "    )"
      ]
    },
    {
      "cell_type": "markdown",
      "metadata": {},
      "source": [
        "### Solve for medium demand"
      ]
    },
    {
      "cell_type": "code",
      "execution_count": 8,
      "metadata": {},
      "outputs": [
        {
          "name": "stdout",
          "output_type": "stream",
          "text": [
            "HiGHS 1.6.0:HiGHS 1.6.0: optimal solution; objective 15966984.87\n",
            "8 simplex iterations\n",
            "1 branching nodes\n",
            "Success:\tProblem solved to optimality!\n",
            "\n",
            "TotalCost = 15966984.865\n",
            "\n",
            "facility_open [*] :=\n",
            "Baton_Rouge_LA  1\n",
            "    Baytown_TX  1\n",
            "   Beaumont_TX  0\n",
            ";\n",
            "\n"
          ]
        }
      ],
      "source": [
        "ampl.eval(\n",
        "    r\"\"\"\n",
        "    update data customer_demand;\n",
        "    data;\n",
        "    param customer_demand :=\n",
        "        San_Antonio_TX  650      \n",
        "        Dallas_TX       1134            \n",
        "        Jackson_MS      416      \n",
        "        Birmingham_AL   113;\n",
        "    \"\"\"\n",
        ")\n",
        "ampl.solve()  # Attempt to solve\n",
        "# Check if the problem was solved if not print warning\n",
        "srn = ampl.get_value(\"solve_result_num\")\n",
        "if srn != 0:\n",
        "    print(f\"Warning:\\tProblem not solved to optimality!\\n\\t\\tsolve_result_num = {srn}\")\n",
        "else:\n",
        "    print(\"Success:\\tProblem solved to optimality!\")\n",
        "    # Print the solution\n",
        "    ampl.eval(\n",
        "        r\"\"\"\n",
        "        print;\n",
        "        display TotalCost;\n",
        "        display facility_open;\n",
        "        \"\"\"\n",
        "    )"
      ]
    },
    {
      "cell_type": "markdown",
      "metadata": {},
      "source": [
        "### Solve for high demand"
      ]
    },
    {
      "cell_type": "code",
      "execution_count": 9,
      "metadata": {},
      "outputs": [
        {
          "name": "stdout",
          "output_type": "stream",
          "text": [
            "\n",
            "Presolve eliminates 1 constraint and 2 variables.\n",
            "Adjusted problem:\n",
            "13 variables:\n",
            "\t1 binary variable\n",
            "\t12 linear variables\n",
            "7 constraints, all linear; 25 nonzeros\n",
            "\t7 inequality constraints\n",
            "1 linear objective; 13 nonzeros.\n",
            "\n",
            "HiGHS 1.6.0:HiGHS 1.6.0: optimal solution; objective 22250711.2\n",
            "6 simplex iterations\n",
            "1 branching nodes\n",
            "Success:\tProblem solved to optimality!\n",
            "\n",
            "TotalCost = 22250711.200000003\n",
            "\n",
            "facility_open [*] :=\n",
            "Baton_Rouge_LA  1\n",
            "    Baytown_TX  1\n",
            "   Beaumont_TX  1\n",
            ";\n",
            "\n"
          ]
        }
      ],
      "source": [
        "ampl.eval(\n",
        "    \"\"\"\n",
        "          update data customer_demand;\n",
        "          data;\n",
        "          param customer_demand :=\n",
        "               San_Antonio_TX        887 \n",
        "               Dallas_TX             1456       \n",
        "               Jackson_MS            673\n",
        "               Birmingham_AL         207; \n",
        "          \"\"\"\n",
        ")\n",
        "ampl.solve()  # Attempt to solve\n",
        "# Check if the problem was solved if not print warning\n",
        "srn = ampl.get_value(\"solve_result_num\")\n",
        "if srn != 0:\n",
        "    print(f\"Warning:\\tProblem not solved to optimality!\\n\\t\\tsolve_result_num = {srn}\")\n",
        "else:\n",
        "    print(\"Success:\\tProblem solved to optimality!\")\n",
        "    # Print the solution\n",
        "    ampl.eval(\n",
        "        \"\"\"\n",
        "              print;\n",
        "              display TotalCost;\n",
        "              display facility_open;\n",
        "              \"\"\"\n",
        "    )"
      ]
    },
    {
      "cell_type": "markdown",
      "metadata": {},
      "source": [
        "## Conclusion\n",
        "\n",
        "In this section, we've covered foundational aspects of modeling in AMPL, including how to import data and utilize AMPL's Python API. \n",
        "Our exploration revealed that for low to medium demand scenarios, opening just two facilities suffices to meet customer needs. \n",
        "However, the surge in demand under the high-demand scenario necessitates the operation of all three facilities.\n",
        "\n",
        "Moving forward, we'll demonstrate a more efficient approach that avoids solving three distinct problems. \n",
        "Instead, we'll consolidate them into a single problem. \n",
        "This will be accomplished by formulating the extensive form of the stochastic capacitated facility location problem, streamlining the entire process."
      ]
    }
  ],
  "metadata": {
    "kernelspec": {
      "display_name": "Python 3 (ipykernel)",
      "language": "python",
      "name": "python3"
    },
    "language_info": {
      "codemirror_mode": {
        "name": "ipython",
        "version": 3
      },
      "file_extension": ".py",
      "mimetype": "text/x-python",
      "name": "python",
      "nbconvert_exporter": "python",
      "pygments_lexer": "ipython3",
      "version": "3.11.7"
    },
    "vscode": {
      "interpreter": {
        "hash": "ee4198aac13dae9b6fccd443041680d99c2643c4956ef7c80ff6dcc0057cb523"
      }
    }
  },
  "nbformat": 4,
  "nbformat_minor": 2
}
