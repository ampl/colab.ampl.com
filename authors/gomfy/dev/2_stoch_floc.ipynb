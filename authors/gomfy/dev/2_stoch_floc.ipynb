{
  "cells": [
    {
      "cell_type": "markdown",
      "metadata": {},
      "source": [
        "# AMPL Development Tutorial 2/6 -- Stochastic Capacitated Facility Location Problem\n",
        "[![2_stoch_floc.ipynb](https://img.shields.io/badge/github-%23121011.svg?logo=github)](https://github.com/ampl/colab.ampl.com/blob/master/authors/gomfy/dev/2_stoch_floc.ipynb) [![Open In Colab](https://colab.research.google.com/assets/colab-badge.svg)](https://colab.research.google.com/github/ampl/colab.ampl.com/blob/master/authors/gomfy/dev/2_stoch_floc.ipynb) [![Kaggle](https://kaggle.com/static/images/open-in-kaggle.svg)](https://kaggle.com/kernels/welcome?src=https://github.com/ampl/colab.ampl.com/blob/master/authors/gomfy/dev/2_stoch_floc.ipynb) [![Gradient](https://assets.paperspace.io/img/gradient-badge.svg)](https://console.paperspace.com/github/ampl/colab.ampl.com/blob/master/authors/gomfy/dev/2_stoch_floc.ipynb) [![Open In SageMaker Studio Lab](https://studiolab.sagemaker.aws/studiolab.svg)](https://studiolab.sagemaker.aws/import/github/ampl/colab.ampl.com/blob/master/authors/gomfy/dev/2_stoch_floc.ipynb) [![Hits](https://h.ampl.com/https://github.com/ampl/colab.ampl.com/blob/master/authors/gomfy/dev/2_stoch_floc.ipynb)](https://colab.ampl.com)\n",
        "\n",
        "Description: This notebook continues our six-part series as the second installment. \n",
        "In the first part, we tackled a basic facility location problem, showcasing the use of AMPL and the `amplpy` module within a Jupyter Notebook to derive a solution. \n",
        "Our analysis revealed that for low to medium customer demand scenarios, two facilities are adequate. \n",
        "However, a spike in demand necessitates the activation of a third facility.\n",
        "In this section, we delve into the stochastic programming formulation of our problem.\n",
        "This approach aims to provide a 'robust' solution that accommodates any potential customer demand scenario in the future. \n",
        "Moving on to the third notebook of the series, we will transition our focus from modeling to the development of algorithms within AMPL. \n",
        "We plan to examine four unique methods for implementing the Benders decomposition, starting with AMPL scripting before moving the control flow over to the `amplpy` module. \n",
        "This shift will demonstrate the parallel solving of subproblems. \n",
        "Finally, we will introduce the AMPLS library, designed to enhance the efficiency of Benders decomposition by allowing AMPL model instances to be exported as persistent solver representations.\n",
        "\n",
        "Tags: amplpy, ampl, mip, stochastic, facility location\n",
        "\n",
        "Notebook author: Gyorgy Matyasfalvi <<gyorgy@ampl.com>>\n",
        "\n",
        "References:\n",
        "\n",
        "* AMPL a Modeling Language for Mathematical Programming -- Robert Fourer et al.\n",
        "* SCIP Optimization Suite example projects -- Stephen J. Maher (ZIB)"
      ]
    },
    {
      "cell_type": "code",
      "execution_count": 1,
      "metadata": {},
      "outputs": [],
      "source": [
        "# Install dependencies\n",
        "%pip install -q amplpy"
      ]
    },
    {
      "cell_type": "code",
      "execution_count": 2,
      "metadata": {},
      "outputs": [],
      "source": [
        "# Google Colab & Kaggle integration\n",
        "from amplpy import AMPL, ampl_notebook\n",
        "\n",
        "ampl = ampl_notebook(\n",
        "    modules=[\"open\"],  # modules to install\n",
        "    license_uuid=\"default\",  # license to use\n",
        ")  # instantiate AMPL object and register magics"
      ]
    },
    {
      "cell_type": "markdown",
      "metadata": {},
      "source": [
        "## Problem description\n",
        "Facility location decisions are crucial and often involve significant investment for both public and private sector entities, bearing profound social, economic, and environmental implications. \n",
        "The strategic positioning of facilities, such as warehouses, factories, and service centers, can determine an organization's operational efficiency, market reach, and overall sustainability.\n",
        "\n",
        "Given the high stakes of these decisions, engineers and analysts have developed sophisticated models to aid organizations in identifying optimal locations. \n",
        "These models take into account a variety of factors, including but not limited to, transportation costs, proximity to customers and suppliers, labor availability, customer demand, and environmental regulations.\n",
        "\n",
        "The challenge is compounded when considering the uncertainty inherent in future conditions. \n",
        "Factors such as fluctuating market demands, changes in infrastructure, and unpredictable socio-economic developments require a robust approach to facility location. \n",
        "Hence, engineers often employ stochastic models and robust optimization techniques that account for such uncertainties, ensuring that the chosen locations remain viable under a range of possible future scenarios."
      ]
    },
    {
      "cell_type": "markdown",
      "metadata": {},
      "source": [
        "## Mixed integer program\n",
        "Below you can find the extensive form of the stochastic facility location problem as an explicit mixed integer program. \n",
        "\n",
        "**Given:** \n",
        "* A set of facilities: $I$.\n",
        "* A set of customers: $J$.\n",
        "* Set of scenarios: $S$ (representing different customer demands).\n",
        "\n",
        "**Task:** \n",
        "* Find the minimum cost facilities to open such that the customer demand can be satisfied in all scenarios.\n",
        "\n",
        "### Variables\n",
        "* $x_i \\in \\{0, 1\\} \\quad \\forall i \\in I$\n",
        "    * $x_i = 1$ if facility $i$ is opened.\n",
        "* $y_{ij}^s \\geq 0 \\quad \\forall i \\in I, \\forall j \\in J, \\forall s \\in S$\n",
        "    * $y_{ij}^s$ is the level of demand for customer $j$ satisfied by facility $i$ in scenario $s$.\n",
        "\n",
        "### Parameters:\n",
        "* $\\alpha^s$: the probability of scenario $s$.\n",
        "* $f_i$: the fixed cost for opening facility $i$,\n",
        "* $q_{ij}$: the cost of servicing customer $j$ from facility $i$,\n",
        "* $\\lambda_j^s$: the demand of customer $j$ in scenario $s$,\n",
        "* $k_i:$ the capacity of facility $i$.\n",
        "\n",
        "\n",
        "### The extensive form\n",
        "The extensive form of our stochastic program can be formulated as follows:\n",
        "\n",
        "$$\n",
        "\\begin{array}{rll}\n",
        " \\min \\quad & \\sum_{i \\in I} f_i x_i + \\sum_{s \\in S} \\sum_{i \\in I} \\sum_{j \\in J} \\alpha^s q_{ij} y_{ij}^s & \\\\\n",
        " & &  \\\\\n",
        " \\textrm{subject to} \\quad & \\sum_{i \\in I} y_{ij}^s \\geq \\lambda_j^s & \\forall j \\in J, \\forall s \\in S \\\\\n",
        " & \\sum_{j \\in J} y_{ij}^s \\leq k_i x_i & \\forall i \\in I, \\forall s \\in S \\\\\n",
        " & \\sum_{i \\in I} k_i x_i \\geq \\max_{s \\in S} \\sum_{j \\in J} \\lambda_j^s & \\\\\n",
        " & &  \\\\\n",
        " & x_i \\in \\{0, 1\\} & \\forall i \\in I \\\\\n",
        " & y_{ij}^s \\geq 0 & \\forall i \\in I, \\forall j \\in J, \\forall s \\in S\n",
        "\\end{array}\n",
        "$$"
      ]
    },
    {
      "cell_type": "markdown",
      "metadata": {},
      "source": [
        "## AMPL Implementation\n",
        "Translating the mathematical formulation of our optimization problem into an AMPL model is a direct process. \n",
        "The AMPL code closely mirrors each inequality in the system (1), preserving the structure of the mathematical model.\n",
        "\n",
        "AMPL's expressive syntax allows for meaningful names for entities such as variables, parameters, and constraints, enhancing the model's clarity. \n",
        "For instance, we'll represent the set $I$ as `FACILITIES`, $J$ as `CUSTOMERS`, and $S$ as `SCENARIOS`. \n",
        "Variables previously denoted as $x$ and $y$ will be named `facility_open` and `production`, respectively.\n",
        "\n",
        "Similarly, we will rename our parameters for greater clarity: $f_i$ becomes `fixed_cost`, $q_ij$ is now `variable_cost`, $\\lambda_j^s$ is referred to as `customer_demand`, and $k_i$ is labeled as `facility_capacity`. \n",
        "\n",
        "Using descriptive names not only enhances the readability of the model but also its maintainability and the ease with which it can be shared and understood by others."
      ]
    },
    {
      "cell_type": "markdown",
      "metadata": {},
      "source": [
        "### Changes to the simple deterministic model\n",
        "\n",
        "In this section, we will see that the AMPL model and data files bear a strong resemblance to those we examined in the previous section. \n",
        "The key differences include:\n",
        "- The introduction of a new indexing set, `SCENARIOS`, to accommodate multiple scenarios.\n",
        "- The expansion of the `production` variable to include indexing over `SCENARIOS`, allowing scenario-specific production levels.\n",
        "- The enhancement of the `customer_demand` parameter to also be indexed over `SCENARIOS`, reflecting varying demand across different scenarios.\n",
        "- The addition of a `prob` parameter, which assigns specific probabilities to each scenario, enabling stochastic analysis.\n",
        "- Modifications to the objective function and constraints to integrate these new elements and reflect the stochastic nature of the model.\n",
        "\n",
        "These adjustments pave the way for a more robust model that can account for uncertainty in customer demand across various scenarios.\n",
        "Notice that we did not have to make any changes to our `facility_open` variable and related parameters. "
      ]
    },
    {
      "cell_type": "code",
      "execution_count": 3,
      "metadata": {},
      "outputs": [
        {
          "name": "stdout",
          "output_type": "stream",
          "text": [
            "Writing floc_ef.mod\n"
          ]
        }
      ],
      "source": [
        "%%writefile floc_ef.mod\n",
        "# Sets\n",
        "set FACILITIES; # set of facilities\n",
        "set CUSTOMERS;  # set of customers\n",
        "set SCENARIOS;  # set of scenarios\n",
        "\n",
        "# Variables\n",
        "var facility_open{FACILITIES} binary;                   # 1 if facility i is open, 0 otherwise\n",
        "var production{FACILITIES, CUSTOMERS, SCENARIOS} >= 0;  # production from facility i to satisfy customer demand j in scenario s\n",
        "\n",
        "# Parameters\n",
        "param fixed_cost{FACILITIES} >= 0;                # fixed cost of opening facility_open i\n",
        "param variable_cost{FACILITIES, CUSTOMERS} >= 0;  # variable cost of satisfying customer_demand of customer j from facility_open i\n",
        "param customer_demand{CUSTOMERS, SCENARIOS} >= 0; # customer_demand of customer j in scenario s\n",
        "param facility_capacity{FACILITIES} >= 0;         # facility_capacity of facility_open i\n",
        "param prob{SCENARIOS} default 1/card(SCENARIOS);  # probability of scenario s\n",
        "\n",
        "\n",
        "# Objective\n",
        "minimize TotalCost: \n",
        "    sum{i in FACILITIES} fixed_cost[i] * facility_open[i] +                                                 # Fixed cost of opening facility i \n",
        "    sum{s in SCENARIOS, i in FACILITIES, j in CUSTOMERS} prob[s] * variable_cost[i,j] * production[i,j,s];  # Variable cost of satisfying customer demand j from facility i in scenario s\n",
        "\n",
        "# Constraints\n",
        "s.t. satisfying_customer_demand{s in SCENARIOS, j in CUSTOMERS}:\n",
        "    sum{i in FACILITIES} production[i,j,s] >= customer_demand[j,s];\n",
        "\n",
        "s.t. facility_capacity_limits{s in SCENARIOS, i in FACILITIES}:\n",
        "    sum{j in CUSTOMERS} production[i,j,s] <= facility_capacity[i] * facility_open[i];\n",
        "\n",
        "s.t. sufficient_production_capacity:\n",
        "    sum{i in FACILITIES} facility_capacity[i]*facility_open[i] >= max{s in SCENARIOS} sum{j in CUSTOMERS} customer_demand[j,s];  "
      ]
    },
    {
      "cell_type": "code",
      "execution_count": 4,
      "metadata": {},
      "outputs": [
        {
          "name": "stdout",
          "output_type": "stream",
          "text": [
            "Overwriting floc_ef.dat\n"
          ]
        }
      ],
      "source": [
        "%%writefile floc_ef.dat\n",
        "\n",
        "set FACILITIES  := Baytown_TX Beaumont_TX Baton_Rouge_LA;\n",
        "set CUSTOMERS   := San_Antonio_TX Dallas_TX Jackson_MS Birmingham_AL;\n",
        "set SCENARIOS   := Low Medium High;\n",
        "\n",
        "param prob := Low 0.25 Medium 0.5 High 0.25;\n",
        "\n",
        "param fixed_cost := Baytown_TX 400000 Beaumont_TX 200000 Baton_Rouge_LA 600000;\n",
        "\n",
        "param facility_capacity := Baytown_TX 1550 Beaumont_TX 650 Baton_Rouge_LA 1750;\n",
        "\n",
        "param variable_cost:        San_Antonio_TX  Dallas_TX    Jackson_MS   Birmingham_AL :=\n",
        "             Baytown_TX     5739.725        6539.725     8650.40      22372.1125\n",
        "             Beaumont_TX    6055.05         6739.055     8050.40      21014.225 \n",
        "             Baton_Rouge_LA 8650.40         7539.055     4539.72      15024.325;\n",
        "\n",
        "param customer_demand:          Low    Medium   High :=\n",
        "               San_Antonio_TX   450    650      887 \n",
        "               Dallas_TX        910    1134     1456      \n",
        "               Jackson_MS       379    416      673\n",
        "               Birmingham_AL    91     113      207;"
      ]
    },
    {
      "cell_type": "markdown",
      "metadata": {},
      "source": [
        "### Changes in complexity\n",
        "\n",
        "Despite only minor alterations to the model, its complexity has likely increased significantly due to the addition of more variables and constraints. \n",
        "To assess the extent of these changes, we can utilize a simple AMPL script, similar to what we've used previously:\n",
        "\n",
        "```ampl\n",
        "print \"Number of variables: \",  _nvars;\n",
        "print \"Number of constraints: \", _ncons;\n",
        "option show_stats 1;\n",
        "```\n",
        "\n",
        "This script will help us understand the scale of the model's evolution by providing the current counts of variables and constraints."
      ]
    },
    {
      "cell_type": "code",
      "execution_count": 5,
      "metadata": {},
      "outputs": [
        {
          "name": "stdout",
          "output_type": "stream",
          "text": [
            "Number of variables:  39\n",
            "Number of constraints:  22\n",
            "\n",
            "Presolve eliminates 1 constraint and 2 variables.\n",
            "Adjusted problem:\n",
            "37 variables:\n",
            "\t1 binary variable\n",
            "\t36 linear variables\n",
            "21 constraints, all linear; 75 nonzeros\n",
            "\t21 inequality constraints\n",
            "1 linear objective; 37 nonzeros.\n",
            "\n",
            "HiGHS 1.6.0:HiGHS 1.6.0: optimal solution; objective 16758018.6\n",
            "18 simplex iterations\n",
            "1 branching nodes\n",
            "\n",
            "0\tsolved\n",
            "100\tsolved?\n",
            "200\tinfeasible\n",
            "300\tunbounded\n",
            "400\tlimit\n",
            "500\tfailure\n",
            "\n",
            "Success:\tProblem solved to optimality!\n",
            "\n",
            "TotalCost = 16758018.596250001\n",
            "\n",
            "facility_open [*] :=\n",
            "Baton_Rouge_LA  1\n",
            "    Baytown_TX  1\n",
            "   Beaumont_TX  1\n",
            ";\n",
            "\n"
          ]
        }
      ],
      "source": [
        "ampl = AMPL()  # Instantiate an AMPL object\n",
        "ampl.read(\"floc_ef.mod\")  # Read the model from file\n",
        "ampl.read_data(\"floc_ef.dat\")  # Read the data from file\n",
        "ampl.eval(\n",
        "    r\"\"\"\n",
        "    print \"Number of variables: \",  _nvars;\n",
        "    print \"Number of constraints: \", _ncons;\n",
        "    option show_stats 1;\n",
        "    \"\"\"\n",
        ")  # Display total number of variables and constraints\n",
        "ampl.option[\"solver\"] = \"highs\"  # Select the solver\n",
        "ampl.option[\"display_precision\"] = 0  # Turn off display rounding\n",
        "ampl.solve()  # Attempt to solve\n",
        "\n",
        "print(\n",
        "    ampl.option[\"solve_result_table\"]\n",
        ")  # Print the solve result table, this will inform us of the various solution codes.\n",
        "\n",
        "# Check if the problem was solved if not print warning\n",
        "srn = ampl.get_value(\"solve_result_num\")\n",
        "if srn != 0:\n",
        "    print(f\"Warning:\\tProblem not solved to optimality!\\n\\t\\tsolve_result_num = {srn}\")\n",
        "else:\n",
        "    print(\"Success:\\tProblem solved to optimality!\")\n",
        "    # Print the solution\n",
        "    ampl.eval(\n",
        "        r\"\"\"\n",
        "        print;\n",
        "        display TotalCost;\n",
        "        display facility_open;\n",
        "        \"\"\"\n",
        "    )"
      ]
    },
    {
      "cell_type": "markdown",
      "metadata": {},
      "source": [
        "## Conclusion\n",
        "\n",
        "Our model, designed to meet demand across all scenarios, necessitates that all three facilities be operational in the stochastic programming solution. \n",
        "Consequently, the `facility_open` variable aligns with the high-demand solution of the simple deterministic model. \n",
        "Moreover, the stochastic approach yields an estimate of the expected operational costs, offering a more accurate projection than the deterministic model's estimate, which was **22,250,711.2**.\n",
        "\n",
        "Transitioning from the simple deterministic model to the extensive form of a stochastic programming model proved to be relatively straightforward.\n",
        "\n",
        "### Problem complexity\n",
        "\n",
        "However, the transition has resulted in an increase in complexity: **the number of variables has expanded from 15 to 39, and the number of constraints has risen from 8 to 22**. \n",
        "While this change is manageable for a small-scale problem, the complexity could grow exponentially with larger problems and additional scenarios.\n",
        "\n",
        "### Dealing with complexity — decomposition\n",
        "\n",
        "In the face of such complexity, what strategies are available? \n",
        "Fortunately, for two-stage stochastic programming problems like ours, a solution exists. \n",
        "The first-stage decisions involve determining which facilities to open, while the second-stage decisions focus on how to meet customer demand with the available facilities. \n",
        "This inherent structure allows for the problem to be broken down into a master problem and sub-problems, significantly reducing the complexity.\n",
        "\n",
        "In the following section, we will explore the implementation of this decomposition strategy, known as Benders decomposition, within AMPL."
      ]
    }
  ],
  "metadata": {
    "kernelspec": {
      "display_name": "Python 3 (ipykernel)",
      "language": "python",
      "name": "python3"
    },
    "language_info": {
      "codemirror_mode": {
        "name": "ipython",
        "version": 3
      },
      "file_extension": ".py",
      "mimetype": "text/x-python",
      "name": "python",
      "nbconvert_exporter": "python",
      "pygments_lexer": "ipython3",
      "version": "3.11.7"
    },
    "vscode": {
      "interpreter": {
        "hash": "ee4198aac13dae9b6fccd443041680d99c2643c4956ef7c80ff6dcc0057cb523"
      }
    }
  },
  "nbformat": 4,
  "nbformat_minor": 2
}
