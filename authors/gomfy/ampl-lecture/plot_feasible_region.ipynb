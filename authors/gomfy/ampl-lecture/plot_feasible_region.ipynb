{
  "cells": [
    {
      "cell_type": "markdown",
      "metadata": {},
      "source": [
        "# Plot feasible region\n",
        "[![plot_feasible_region.ipynb](https://img.shields.io/badge/github-%23121011.svg?logo=github)](https://github.com/ampl/colab.ampl.com/blob/master/authors/gomfy/ampl-lecture/plot_feasible_region.ipynb) [![Open In Colab](https://colab.research.google.com/assets/colab-badge.svg)](https://colab.research.google.com/github/ampl/colab.ampl.com/blob/master/authors/gomfy/ampl-lecture/plot_feasible_region.ipynb) [![Kaggle](https://kaggle.com/static/images/open-in-kaggle.svg)](https://kaggle.com/kernels/welcome?src=https://github.com/ampl/colab.ampl.com/blob/master/authors/gomfy/ampl-lecture/plot_feasible_region.ipynb) [![Gradient](https://assets.paperspace.io/img/gradient-badge.svg)](https://console.paperspace.com/github/ampl/colab.ampl.com/blob/master/authors/gomfy/ampl-lecture/plot_feasible_region.ipynb) [![Open In SageMaker Studio Lab](https://studiolab.sagemaker.aws/studiolab.svg)](https://studiolab.sagemaker.aws/import/github/ampl/colab.ampl.com/blob/master/authors/gomfy/ampl-lecture/plot_feasible_region.ipynb) [![Hits](https://h.ampl.com/https://github.com/ampl/colab.ampl.com/blob/master/authors/gomfy/ampl-lecture/plot_feasible_region.ipynb)](https://colab.ampl.com)\n",
        "\n",
        "Description: Plot the feasible region and optimal solution for a simple two variable model using AMPL's Python API.\n",
        "\n",
        "Tags: lecture, LP, simple\n",
        "\n",
        "Notebook author: Gyorgy Matyasfalvi <<gyorgy@ampl.com>>, Sarah Wells <<sarah@ampl.com>>\n",
        "\n",
        "Model author: Gyorgy Matyasfalvi, Sarah Wells\n",
        "\n",
        "References:"
      ]
    },
    {
      "cell_type": "code",
      "execution_count": 96,
      "metadata": {},
      "outputs": [],
      "source": [
        "# Install dependencies\n",
        "%pip install -q amplpy"
      ]
    },
    {
      "cell_type": "code",
      "execution_count": 97,
      "metadata": {},
      "outputs": [],
      "source": [
        "# Google Colab & Kaggle integration\n",
        "from amplpy import AMPL, ampl_notebook\n",
        "\n",
        "ampl = ampl_notebook(\n",
        "    modules=[\"highs\"],  # modules to install\n",
        "    license_uuid=\"default\",  # license to use\n",
        ")  # instantiate AMPL object and register magics"
      ]
    },
    {
      "cell_type": "markdown",
      "metadata": {},
      "source": [
        "## Problem formulation\n",
        "Imagine you own a small lemonade stand and want to make the most profit possible. You offer two drinks: lemonade $(x)$, which requires two cups of water, one lemon and two cups of sugar per glass, and iced tea $(y)$, which requires one tea bag, one cup of sugar, and two cups of water per glass. Thankfully, you have unlimited access to water for free.\n",
        "\n",
        "However, you have limited \"dry\" ingredients to work with each day, including 10 lemons, 8 tea bags, and 20 cups of sugar. Fortunately, you receive a daily inheritance of ingredients from a relative, so you don't have to worry about purchasing them.\n",
        "\n",
        "Your goal is to determine how many glasses of each drink to make while staying within your daily ingredient limits to maximize your profit. You can sell each glass of lemonade for \\\\$1.50 and each glass of iced tea for \\\\$1.00. Since you're the only lemonade stand in town, you won't be spending any money on iced tea or lemonade anywhere else and will sell all that you make.\n",
        "\n",
        "To formulate this as a linear programming problem, we can use the following model:\n",
        "\n",
        "$$\n",
        "\\begin{array}{lcrcrl}\n",
        "&\\textrm{Objective:}  & \\max & 1.5x & + & y & \\\\\n",
        "&\\textrm{Subject to:} &      &      &   &   & \\\\\n",
        "&                     &      &    x &   &   & \\leq 10 \\\\\n",
        "&                     &      &      &   & y & \\leq 8 \\\\\n",
        "&                     &      &   2x & + & y & \\leq 20 \\\\\n",
        "&                     &      &    x &   &   & \\geq 0 \\\\\n",
        "&                     &      &      &   & y & \\geq 0\n",
        "\\end{array}\n",
        "$$\n",
        "\n",
        "### Problem formulation in AMPL\n",
        "A parametric formulation of the above linear program in AMPL looks as follows:\n",
        "\n",
        "```ampl\n",
        "# Define indexing sets\n",
        "set PROD;\n",
        "set INGR;\n",
        "\n",
        "# Define the decision variables\n",
        "var make{PROD} >= 0;\n",
        "\n",
        "# Define model parameters        \n",
        "param profit_per_product{PROD};\n",
        "param limit{INGR};\n",
        "param usage{INGR, PROD};\n",
        "\n",
        "# Define the objective function\n",
        "maximize total_profit:\n",
        "    sum {i in PROD} profit_per_product[i] * make[i];\n",
        "    \n",
        "# Define the constraints\n",
        "subject to ingredient_constraints {i in INGR}:\n",
        "    sum {j in PROD} usage[i,j] * make[j] <= limit[i];\n",
        "```\n",
        "\n",
        "The data file corresponding to this problem is:\n",
        "\n",
        "```ampl\n",
        "# Products (columns of constraint matrix, cardinality equals number of variables)\n",
        "set PROD := 'lemonade' 'iced_tea';\n",
        "\n",
        "# Ingredients (rows of constraint matrix, cardinality equals number of constraints)\n",
        "set INGR :=\n",
        "'lemon'\n",
        "'tea_bag'\n",
        "'sugar';\n",
        "\n",
        "# Objective function parameters\n",
        "param profit_per_product := 'lemonade' 1.5 'iced_tea' 1.0;\n",
        "\n",
        "# Constraint right hand side values\n",
        "param limit :=\n",
        "'lemon'     10\n",
        "'tea_bag'    8\n",
        "'sugar'     20;\n",
        "\n",
        "# Constraint matrix values\n",
        "param usage: 'lemonade' 'iced_tea' :=\n",
        "    'lemon'     1.0         0.0\n",
        "    'tea_bag'   0.0         1.0\n",
        "    'sugar'     2.0         1.0;\n",
        "```\n",
        "\n",
        "\n",
        "## Solving the problem\n",
        "\n",
        "### Create an AMPL instance and specify model and data\n",
        "To solve the optimization problem, we need to create an instance of AMPL and specify the model and data. The AMPL instance allows us to send the model and data we defined in the previous section to AMPL for processing."
      ]
    },
    {
      "cell_type": "code",
      "execution_count": 98,
      "metadata": {},
      "outputs": [],
      "source": [
        "# Create an AMPL instance\n",
        "ampl = AMPL()\n",
        "\n",
        "# Send model and data to AMPL\n",
        "ampl.eval(\n",
        "    r\"\"\"\n",
        "    set PROD;\n",
        "    set INGR;\n",
        "    \n",
        "    var make{PROD} >= 0;\n",
        "    \n",
        "    param profit_per_product{PROD};\n",
        "    param limit{INGR};\n",
        "    param usage{INGR, PROD};\n",
        "    \n",
        "    maximize total_profit:\n",
        "        sum {i in PROD} profit_per_product[i] * make[i];\n",
        "    \n",
        "    subject to ingredient_constraints {i in INGR}:\n",
        "        sum {j in PROD} usage[i,j] * make[j] <= limit[i];\n",
        "    \n",
        "    data;\n",
        "    set PROD := 'lemonade' 'iced_tea';\n",
        "\n",
        "    set INGR :=\n",
        "    'lemon'\n",
        "    'tea_bag'\n",
        "    'sugar';\n",
        "\n",
        "    param profit_per_product := 'lemonade' 1.5 'iced_tea' 1.0;\n",
        "\n",
        "    param limit :=\n",
        "    'lemon'     10\n",
        "    'tea_bag'    8\n",
        "    'sugar'     20;\n",
        "\n",
        "    param usage: 'lemonade' 'iced_tea' :=\n",
        "        'lemon'     1.0         0.0\n",
        "        'tea_bag'   0.0         1.0\n",
        "        'sugar'     2.0         1.0;\n",
        "\"\"\"\n",
        ")"
      ]
    },
    {
      "cell_type": "markdown",
      "metadata": {},
      "source": [
        "### Solve the problem\n",
        "Using the amplpy API, we can directly set solver options and invoke the solve command to find the optimal solution to the optimization problem. Once we have solved the problem, we can retrieve the optimal values of make and print them to the console."
      ]
    },
    {
      "cell_type": "code",
      "execution_count": 99,
      "metadata": {},
      "outputs": [
        {
          "name": "stdout",
          "output_type": "stream",
          "text": [
            "HiGHS 1.5.1: \b\b\b\b\b\b\b\b\b\b\b\b\bHiGHS 1.5.1: optimal solution; objective 17\n",
            "0 simplex iterations\n",
            "0 barrier iterations\n"
          ]
        }
      ],
      "source": [
        "# Solve problem with solver highs\n",
        "ampl.option[\"solver\"] = \"highs\"\n",
        "ampl.solve()\n",
        "\n",
        "# Retrieve and display variable bounds and the solution\n",
        "make_ub = ampl.var[\"make\"].get_values([\"ub\"]).to_dict()\n",
        "# print(make_ub)\n",
        "make_lb = ampl.var[\"make\"].get_values([\"lb\"]).to_dict()\n",
        "# print(make_lb)\n",
        "make = ampl.var[\"make\"].get_values().to_dict()\n",
        "# print(make)\n",
        "lemonade_opt = make[\"lemonade\"]\n",
        "iced_tea_opt = make[\"iced_tea\"]"
      ]
    },
    {
      "cell_type": "markdown",
      "metadata": {},
      "source": [
        "## Plotting of feasible region\n",
        "To plot the feasible region, we need to retrieve the \"constraint matrix\" defined by the `usage` parameter and the right-hand side values of the constraints defined by the `limit` parameter. Once we have obtained these values, we can use them to generate the necessary data for plotting the feasible region."
      ]
    },
    {
      "cell_type": "code",
      "execution_count": 100,
      "metadata": {},
      "outputs": [],
      "source": [
        "# Get model entities necessary for plotting\n",
        "INGR_LIST = ampl.set[\"INGR\"].to_list()\n",
        "# print(\"INGR_LIST:\", INGR_LIST)\n",
        "limit_dict = ampl.param[\"limit\"].to_dict()\n",
        "# print(\"limit_dict:\", limit_dict)\n",
        "usage_dict = ampl.param[\"usage\"].to_dict()\n",
        "# print(\"usage_dict:\", usage_dict)"
      ]
    },
    {
      "cell_type": "markdown",
      "metadata": {},
      "source": [
        "### Solving for `iced_tea`\n",
        "To plot the feasible regions, we need to solve for `iced_tea` in each of our constraints, which corresponds to the `y` axis. Each constraint is associated with one of our \"dry\" ingredients. We will use a dictionary of lambda expressions, each of which expresses `iced_tea`, to help us with this."
      ]
    },
    {
      "cell_type": "code",
      "execution_count": 101,
      "metadata": {},
      "outputs": [],
      "source": [
        "# Add constraint or every ingredient.\n",
        "# If the coefficient value of 'iced_tea' is zero we simply return the right hand side value.\n",
        "constraint_dict = {}\n",
        "for i in INGR_LIST:\n",
        "    constraint_dict[i] = lambda x, i=i: (\n",
        "        limit_dict[i]\n",
        "        if usage_dict[i, \"iced_tea\"] == 0.0\n",
        "        else (limit_dict[i] - usage_dict[i, \"lemonade\"] * x) / usage_dict[i, \"iced_tea\"]\n",
        "    )"
      ]
    },
    {
      "cell_type": "markdown",
      "metadata": {},
      "source": [
        "### Draw graph\n",
        "We now have all the necessary information to plot our graphs. The `y` axis corresponds to `iced_tea` and, the `x` axis to `lemonade`. The lemons and tea bags define a natural upper bound for the number of lemonades and iced teas we can make. This will help us to bound our graph. We will plot each function in `constraint_dict`, and the intersection of regions between the axes and the functions will give us the feasible region. We finish by plotting the optimal solution as well."
      ]
    },
    {
      "cell_type": "code",
      "execution_count": 102,
      "metadata": {},
      "outputs": [
        {
          "data": {
            "image/png": "[encoded data removed]",
            "text/plain": [
              "<Figure size 640x480 with 1 Axes>"
            ]
          },
          "metadata": {},
          "output_type": "display_data"
        }
      ],
      "source": [
        "import numpy as np\n",
        "import matplotlib.pyplot as plt\n",
        "\n",
        "## Generate a grid of points based on variable bounds\n",
        "x = np.linspace(make_lb[\"lemonade\"], make_ub[\"lemonade\"], 10 * int(make_ub[\"lemonade\"]))\n",
        "y = np.linspace(make_lb[\"iced_tea\"], make_ub[\"iced_tea\"], 10 * int(make_ub[\"iced_tea\"]))\n",
        "\n",
        "# Plot the feasible region\n",
        "fig, ax = plt.subplots()\n",
        "# Fill space between curves and x axis\n",
        "ax.fill_between(y, constraint_dict[\"tea_bag\"](y), color=\"green\", alpha=0.5)\n",
        "ax.fill_between(x, constraint_dict[\"sugar\"](x), color=\"deepskyblue\", alpha=0.5)\n",
        "# Fill space between curves and y axis\n",
        "ax.fill_betweenx(x, constraint_dict[\"lemon\"](x), color=\"salmon\", alpha=0.25)\n",
        "\n",
        "\n",
        "# Plot the optimal solution\n",
        "ax.scatter(lemonade_opt, iced_tea_opt, s=100, color=\"red\")\n",
        "ax.annotate(\"Optimal\\nsolution\", (lemonade_opt + 0.2, iced_tea_opt + 0.3))\n",
        "\n",
        "# Generate axis ticks\n",
        "# Use lower and upper bounds to determine how far on the x axis we will have to go.\n",
        "xtick_range = np.arange(make_lb[\"lemonade\"], make_ub[\"lemonade\"] + 1, 1)\n",
        "# Use generator expression to retrieve each constraint inside max() this will tell us\n",
        "# how far up the y axis we will need to go.\n",
        "ytick_range = np.arange(\n",
        "    0, max(constraint(0) + 1 for constraint in constraint_dict.values()), 1\n",
        ")\n",
        "plt.xticks(xtick_range)\n",
        "plt.yticks(ytick_range)\n",
        "\n",
        "\n",
        "# Add labels and title\n",
        "ax.set_xlabel(\"Glasses of Lemonade\")\n",
        "ax.set_ylabel(\"Glasses of Iced Tea\")\n",
        "ax.set_title(\"Feasible Region and Optimal Solution\")\n",
        "\n",
        "plt.show()"
      ]
    }
  ],
  "metadata": {
    "kernelspec": {
      "display_name": "Python 3 (ipykernel)",
      "language": "python",
      "name": "python3"
    },
    "language_info": {
      "codemirror_mode": {
        "name": "ipython",
        "version": 3
      },
      "file_extension": ".py",
      "mimetype": "text/x-python",
      "name": "python",
      "nbconvert_exporter": "python",
      "pygments_lexer": "ipython3",
      "version": "3.10.9"
    },
    "vscode": {
      "interpreter": {
        "hash": "ee4198aac13dae9b6fccd443041680d99c2643c4956ef7c80ff6dcc0057cb523"
      }
    }
  },
  "nbformat": 4,
  "nbformat_minor": 2
}
