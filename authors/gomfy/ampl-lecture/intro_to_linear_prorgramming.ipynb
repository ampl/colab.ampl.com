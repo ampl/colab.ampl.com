{
  "cells": [
    {
      "cell_type": "markdown",
      "metadata": {},
      "source": [
        "# Introduction to Linear and Integer Programming\n",
        "[![intro_to_linear_prorgramming.ipynb](https://img.shields.io/badge/github-%23121011.svg?logo=github)](https://github.com/ampl/colab.ampl.com/blob/master/authors/gomfy/ampl-lecture/intro_to_linear_prorgramming.ipynb) [![Open In Colab](https://colab.research.google.com/assets/colab-badge.svg)](https://colab.research.google.com/github/ampl/colab.ampl.com/blob/master/authors/gomfy/ampl-lecture/intro_to_linear_prorgramming.ipynb) [![Kaggle](https://kaggle.com/static/images/open-in-kaggle.svg)](https://kaggle.com/kernels/welcome?src=https://github.com/ampl/colab.ampl.com/blob/master/authors/gomfy/ampl-lecture/intro_to_linear_prorgramming.ipynb) [![Gradient](https://assets.paperspace.io/img/gradient-badge.svg)](https://console.paperspace.com/github/ampl/colab.ampl.com/blob/master/authors/gomfy/ampl-lecture/intro_to_linear_prorgramming.ipynb) [![Open In SageMaker Studio Lab](https://studiolab.sagemaker.aws/studiolab.svg)](https://studiolab.sagemaker.aws/import/github/ampl/colab.ampl.com/blob/master/authors/gomfy/ampl-lecture/intro_to_linear_prorgramming.ipynb) [![Hits](https://h.ampl.com/https://github.com/ampl/colab.ampl.com/blob/master/authors/gomfy/ampl-lecture/intro_to_linear_prorgramming.ipynb)](https://colab.ampl.com)\n",
        "\n",
        "Description: Basic introduction to linear programming and AMPL via a lemonade stand example\n",
        "\n",
        "Tags: ampl-lecture, amplpy, ampl, introduction, linear programming, lemonade stand\n",
        "\n",
        "Notebook author: Gyorgy Matyasfalvi <<gyorgy@ampl.com>>\n",
        "\n",
        "References:\n",
        "\n",
        "* AMPL a Modeling Language for Mathematical Programming -- Robert Fourer et al.\n",
        "* Linear Programming (Foundations and Extensions) -- Robert J. Vanderbei\n",
        "* Introduction to Linear Optimization -- Dimitris Bertsimas et al.\n",
        "* Convex Analysis and Optimization -- Dimitri P. Bertsekas et al."
      ]
    },
    {
      "cell_type": "code",
      "execution_count": 1,
      "metadata": {},
      "outputs": [],
      "source": [
        "# Install dependencies\n",
        "%pip install -q amplpy pandas numpy matplotlib"
      ]
    },
    {
      "cell_type": "code",
      "execution_count": 2,
      "metadata": {},
      "outputs": [],
      "source": [
        "# Google Colab & Kaggle integration\n",
        "from amplpy import AMPL, ampl_notebook\n",
        "\n",
        "ampl = ampl_notebook(\n",
        "    modules=[\"open\", \"gurobi\"],  # modules to install\n",
        "    license_uuid=\"default\",  # license to use\n",
        ")  # instantiate AMPL object and register magics"
      ]
    },
    {
      "cell_type": "code",
      "execution_count": 3,
      "metadata": {},
      "outputs": [],
      "source": [
        "# Import all necessary libraries\n",
        "import matplotlib.pyplot as plt\n",
        "import numpy as np\n",
        "from math import log, cos, sin, pi, sqrt"
      ]
    },
    {
      "cell_type": "markdown",
      "metadata": {},
      "source": [
        "## Linear problems \n",
        "Convex (aka continuous) linear problems represent one of the more tractable classes of optimization problems.\n",
        "A plethora of algorithms and optimization techniques exist that adeptly tackle such challenges. \n",
        "Fortunately, many real-world situations can be effectively represented as continuous linear programs. \n",
        "Examples include specific production planning scenarios, multi-period electric power capacity planning, certain scheduling dilemmas, path selection in communication networks, pattern classification, and optimal control of linear systems. \n",
        "A linear programming problem (LP) in standard form is articulated as (all LPs can be expressed in the standard form):\n",
        "\n",
        "$$\n",
        "\\begin{array}{lll}\n",
        "    &\\min           & c^T x     &    \\\\\n",
        "    &\\textrm{s.t.}  & Ax = b    &    \\\\\n",
        "    &               & x \\geq 0, &    \n",
        "\\end{array} \\tag{4}\n",
        "$$\n",
        "\n",
        "where $c^T \\in \\mathbb{R}^n$, $b \\in \\mathbb{R}^m$, and $A \\in \\mathbb{R}^{m \\times n}$."
      ]
    },
    {
      "cell_type": "markdown",
      "metadata": {},
      "source": [
        "## Integer linear problems \n",
        "While many real-world applications can be formulated as purely linear programs, practical scenarios often necessitate our decision variables to be limited to integer values. This is especially true when modeling decisions about quantities, such as the number of products to manufacture or the number of workers to assign to a particular task. Linear integer programs are commonly abbreviated as IPs. A pure integer program can be articulated as follows:\n",
        "\n",
        "\n",
        "$$\n",
        "\\begin{array}{lll}\n",
        "    &\\min           & c^T x             &    \\\\\n",
        "    &\\textrm{s.t.}  & Ax = b            &    \\\\\n",
        "    &               & x \\geq 0          &    \\\\\n",
        "    &               & x \\in \\mathbb{Z}, &    \n",
        "\\end{array} \\tag{5}\n",
        "$$\n",
        "\n",
        "where $c^T \\in \\mathbb{R}^n$, $b \\in \\mathbb{R}^m$, and $A \\in \\mathbb{R}^{m \\times n}$."
      ]
    },
    {
      "cell_type": "markdown",
      "metadata": {},
      "source": [
        "## Solver Expectations for Linear Programming Problems (LPs)\n",
        "\n",
        "In the realm of Linear Programming (LP), given feasible conditions and sufficient computation time, any solver is expected to find a globally optimal solution. \n",
        "This principle applies to non-linear solvers like Knitro as well, which are capable of efficiently solving LPs since linear problems are inherently a subset of non-linear problems. \n",
        "The preference for using dedicated linear solvers stems from their specially designed algorithms, which are highly optimized for speed when addressing LPs.\n",
        "\n",
        "\n",
        "When we venture into the territory of non-linear problems, the proficiency of linear solvers is often constrained, particularly with non-linearities present in both the constraints and the objective function. \n",
        "However, if non-linearities are confined solely to the objective function, certain algorithms developed for linear optimization may be successfully adapted.\n",
        "\n",
        "\n",
        "Among non-linear problems, only a select group, such as convex quadratic programs, are within the purview of advanced linear solvers. \n",
        "Notably, Gurobi, which was once confined to solving convex quadratically constrained problems, has broadened its horizons. \n",
        "Its latest release (still in beta) includes the functionality of a global solver, enabling it to address a wider spectrum of optimization challenges. \n",
        "\n",
        "\n",
        "Although HiGHS was unable to resolve the 'difficult' optimization task, the new version of Gurobi will present a promising alternative. "
      ]
    },
    {
      "cell_type": "markdown",
      "metadata": {},
      "source": [
        "# EXERCISE 5\n",
        "\n",
        "1. In the code cell provided below, adjust the settings of the solver to ensure that it can find the optimal solution. You will need to select a solver that can solve general nonlinear problems.\n",
        "\n",
        "2. Modify the program such that if the optimal solution is successfully located, it should display the message 'Success:    Problem solved to optimality!'."
      ]
    },
    {
      "cell_type": "code",
      "execution_count": 4,
      "metadata": {},
      "outputs": [
        {
          "name": "stdout",
          "output_type": "stream",
          "text": [
            "HiGHS 1.6.0: \n",
            "------------ WARNINGS ------------\n",
            "WARNING:  \"PLApprox\"\n",
            "  An expression of type 'LogConstraint' has been\n",
            "piecewise-linearly approximated. Set cvt:plapprox:reltol\n",
            "to control precision (currently 0.010000).\n",
            "WARNING:  \"PLApproxDomain\"\n",
            "  Argument domain of a 'LogConstraint'\n",
            "has been reduced to [0.000001, 1000000.000000] for numerical reasons\n",
            "(partially controlled by cvt:plapprox:domain.)\n",
            "\b------------ WARNINGS ------------\n",
            "WARNING:  \"PLApprox\"\n",
            "  An expression of type 'LogConstraint' has been\n",
            "piecewise-linearly approximated. Set cvt:plapprox:reltol\n",
            "to control precision (currently 0.010000).\n",
            "WARNING:  \"PLApproxDomain\"\n",
            "  Argument domain of a 'LogConstraint'\n",
            "has been reduced to [0.000001, 1000000.000000] for numerical reasons\n",
            "(partially controlled by cvt:plapprox:domain.)\n",
            "  Error -1 for call Highs_run(lp())\n",
            "\n",
            "0\tsolved\n",
            "100\tsolved?\n",
            "200\tinfeasible\n",
            "300\tunbounded\n",
            "400\tlimit\n",
            "500\tfailure\n",
            "\n",
            "Warning:\tProblem not solved to optimality!\n",
            "\t\tsolve_result_num = 500\n"
          ]
        }
      ],
      "source": [
        "ampl = AMPL()  # Instantiate an AMPL object\n",
        "ampl.eval(\n",
        "    r\"\"\"\n",
        "            var x;                                              # Declare our variable\n",
        "            minimize difficult: (x-1)^2 - log(x+1);             # Define our objective function\n",
        "          \"\"\"\n",
        ")\n",
        "\n",
        "ampl.option[\"solver\"] = \"highs\"  # Select the solver\n",
        "ampl.solve()  # Attempt to solve\n",
        "print(\n",
        "    ampl.option[\"solve_result_table\"]\n",
        ")  # Print the solve result table, this will inform us of the various solution codes.\n",
        "result_df = ampl.get_data(\"solve_result_num\").to_pandas()  # Retrieve solution status\n",
        "# Check if the problem was solved if not print warning\n",
        "srn = result_df[\"solve_result_num\"].iloc[0]\n",
        "if srn != 0:\n",
        "    print(f\"Warning:\\tProblem not solved to optimality!\\n\\t\\tsolve_result_num = {srn}\")"
      ]
    },
    {
      "cell_type": "markdown",
      "metadata": {},
      "source": [
        "# SOLUTION\n",
        "1. Pick a non-linear solver such as Knitro, Ipopt, or Lindoglobal. Because the problem is convex all non-linear solvers will find the optimal solution.\n",
        "2. Modify the if-statement to print a \"success\" message if the problem was solved to optimality."
      ]
    },
    {
      "cell_type": "code",
      "execution_count": 5,
      "metadata": {},
      "outputs": [
        {
          "name": "stdout",
          "output_type": "stream",
          "text": [
            "Cannot find \"knitro\"\n",
            "\n",
            "0\tsolved\n",
            "100\tsolved?\n",
            "200\tinfeasible\n",
            "300\tunbounded\n",
            "400\tlimit\n",
            "500\tfailure\n",
            "\n",
            "Warning:\tProblem not solved to optimality!\n",
            "\t\tsolve_result_num = 999\n"
          ]
        }
      ],
      "source": [
        "ampl = AMPL()  # Instantiate an AMPL object\n",
        "ampl.eval(\n",
        "    r\"\"\"\n",
        "            var x;                                              # Declare our variable\n",
        "            minimize difficult: (x-1)^2 - log(x+1);             # Define our objective function\n",
        "          \"\"\"\n",
        ")\n",
        "\n",
        "ampl.option[\"solver\"] = \"knitro\"  # Select the solver\n",
        "ampl.solve()  # Attempt to solve\n",
        "print(\n",
        "    ampl.option[\"solve_result_table\"]\n",
        ")  # Print the solve result table, this will inform us of the various solution codes.\n",
        "result_df = ampl.get_data(\"solve_result_num\").to_pandas()  # Retrieve solution status\n",
        "# Check if the problem was solved if not print warning\n",
        "srn = result_df[\"solve_result_num\"].iloc[0]\n",
        "if srn != 0:\n",
        "    print(f\"Warning:\\tProblem not solved to optimality!\\n\\t\\tsolve_result_num = {srn}\")\n",
        "else:\n",
        "    print(\"Success:\\tProblem solved to optimality!\")"
      ]
    },
    {
      "cell_type": "markdown",
      "metadata": {},
      "source": [
        "## Solver Expectations for Integer Programming Problems\n",
        "\n",
        "Solving integer programming problems is often exponentially more challenging than their linear programming counterparts.\n",
        "The most formidable among these are the Integer Non-Linear Programs (MINLPs), which can be exceedingly complex to model and solve—sometimes even involving the complex plane.\n",
        "\n",
        "Even the linear versions of these problems, referred to as Mixed-Integer Linear Programs (MILPs), are significantly more difficult to solve compared to standard linear programs (LPs).\n",
        "\n",
        "Most solvers utilize a method called branch-and-bound, which, in the worst-case scenario, may need to explore an exponentially large number of subproblems proportional to the number of integer variables.\n",
        "The branch-and-bound algorithm begins by solving the continuous relaxation of the integer problem.\n",
        "If this yields an integer solution, the problem is considered solved.\n",
        "However, should the solution contain non-integer values, the algorithm branches by introducing new constraints designed to eliminate the fractional values.\n",
        "For instance, if $ x = 2.5 $, the solver would create two new subproblems: one with the constraint $ x \\leq 2 $ and another with $ x \\geq 3 $.\n",
        "By doing so, the solver ensures that neither of these branches can return the fractional value $ x = 2.5 $.\n",
        "The process continues, solving each subproblem and branching further until an integer solution is found.\n",
        "\n",
        "Considering that real-world problems can involve millions of variables, the enumeration tree (which contains all possible subproblem solutions) can become enormous and unwieldy.\n",
        "\n",
        "Due to these complexities, optimization problems involving integers often require specialized, and typically commercial, solvers to tackle them efficiently.\n",
        "\n",
        "Let's now turn to formulating our first constrained optimization problem.\n",
        "We will start with a simple lemonade stand example and gradually evolve it into a more general production model."
      ]
    },
    {
      "cell_type": "markdown",
      "metadata": {},
      "source": [
        "## Lemonade stand\n",
        "\n",
        "Imagine you own a small lemonade stand and want to make the most profit possible. \n",
        "You offer two drinks: lemonade $(x_{\\textrm{lemonade}})$, which requires two cups of water, one lemon and two cups of sugar per glass, and iced tea $(x_{\\textrm{iced\\_tea}})$, which requires one tea bag, one cup of sugar, and two cups of water per glass. \n",
        "Thankfully, you have unlimited access to water for free.\n",
        "\n",
        "However, you have limited \"dry\" ingredients to work with each day, including 10 lemons, 8 tea bags, and 20 cups of sugar.\n",
        "Fortunately, you receive a daily inheritance of ingredients from a relative, so you don't have to worry about purchasing them.\n",
        "\n",
        "Your goal is to decide how many glasses of each drink to make while staying within your daily ingredient limits to maximize your profit. \n",
        "You can sell each glass of lemonade for \\$1.50 and each glass of iced tea for \\$1.00. \n",
        "You also pay the city a daily permit fee of $2 to keep your stand open. \n",
        "Since you're the only lemonade stand in town, you won't be spending any money on iced tea or lemonade anywhere else, and will sell all that you make.\n",
        "\n",
        "To formulate this as an integer programming problem, we can use the following model:\n",
        "\n",
        "$$\n",
        "\\begin{array}{lcrcrl}\n",
        "&\\textrm{Objective:}  & \\max & 1.5x_{\\textrm{lemonade}} & + & x_{\\textrm{iced\\_tea}} &   -  & 2  \\\\ \n",
        "&\\textrm{Subject to:} &      &                          &   &                       &      &    \\\\ \n",
        "&                     &      &    x_{\\textrm{lemonade}} &   &                       & \\leq & 10 \\\\ \n",
        "&                     &      &                          &   & x_{\\textrm{iced\\_tea}} & \\leq &  8 \\\\ \n",
        "&                     &      &   2x_{\\textrm{lemonade}} & + & x_{\\textrm{iced\\_tea}} & \\leq & 20 \\\\ \n",
        "&                     &      &                          &   &                       &      &    \\\\ \n",
        "&                     &      &    x_{\\textrm{lemonade}} &   &                       & \\geq & 0  \\\\ \n",
        "&                     &      &                          &   & x_{\\textrm{iced\\_tea}} & \\geq & 0  \\\\ \n",
        "&                     &      &    x_{\\textrm{lemonade}} & , & x_{\\textrm{iced\\_tea}} & \\in  & \\mathbb{Z} \n",
        "\\end{array} \n",
        "$$"
      ]
    },
    {
      "cell_type": "markdown",
      "metadata": {},
      "source": [
        "# EXERCISE 6\n",
        "\n",
        "1. With the integer programming problem outlined above, your task is to construct an AMPL model. We're familiar with declaring variables and objective functions, yet specifying additional attributes for variables, such as non-negativity or integrality, and defining constraints is new territory. Fear not, for integrating these aspects into AMPL is a straightforward process. Refer to the provided sections **'The AMPL language'** and **'Model formulation in AMPL'** below to guide you in crafting your first AMPL model.\n",
        "\n",
        "2. Below, create a code cell and begin with the `%%writefile lemonade.mod` magic command. Follow with the formulation of your AMPL model.\n",
        "\n",
        "3. Next, in a separate code cell, initialize your AMPL environment and load your model using the `ampl.read(\"lemonade.mod\")` command.\n",
        "\n",
        "4. Develop and execute the necessary code to calculate the optimal amounts of lemonade and iced tea to prepare in order to maximize profits.\n",
        "\n",
        "5. Finally, output the quantities of lemonade and iced tea that should be produced, along with the projected profit."
      ]
    },
    {
      "cell_type": "markdown",
      "metadata": {},
      "source": [
        "## The AMPL language\n",
        "Section A.1 of the [appendix](https://ampl.com/wp-content/uploads/Appendix-A-AMPL-Book.pdf) of the AMPL book provides a detailed discussion of AMPL's lexical rules.\n",
        "We will mention the most important below:\n",
        "\n",
        "* AMPL models involve variables, constraints, and objectives, expressed with the help of sets and parameters. These are called model entities, each of which has an alphanumeric name such as `lemonade`. Upper-case letters are distinct from lower-case so `lemonade` and `Lemonade` would correspond to two separate entities. \n",
        "\n",
        "<br>\n",
        "\n",
        "* The most basic format for declaring any entity in AMPL consists of the entity type (variable, constraint, etc.), the name you give it, and a semicolon at the end of the statement. For example,\n",
        "    ```ampl\n",
        "    var lemonade;\n",
        "    ```\n",
        "\n",
        "<br>\n",
        "\n",
        "* AMPL is a \"declarative\" language, meaning that entities used in expressions must be declared before they can be used.\n",
        "\n",
        "<br>\n",
        "\n",
        "* An expression is similar to a mathematical equation or formula and typically involves variables, constants, and mathematical operators such as addition, subtraction, multiplication, and division. Expressions can also include inequalities, logical operators, and other constructs that allow for complex modeling. In AMPL, expressions are used extensively in the definition of the objective function and constraints of a mathematical program. For example:\n",
        "    ```ampl\n",
        "    maximize profit: 1.5*lemonade + iced_tea - fee;\n",
        "    ```\n",
        "\n",
        "<br>\n",
        "\n",
        "* Comments in AMPL files begin with: `#`. For example,\n",
        "    ```ampl\n",
        "    # Define the objective function\n",
        "    maximize profit: 1.5*lemonade + iced_tea - fee;\n",
        "    ```\n",
        "\n",
        "<br>\n",
        "\n",
        "* AMPL ignores white space. For example,\n",
        "    ```ampl\n",
        "    var lemonade >= 0;\n",
        "    var iced_tea >= 0; \n",
        "    ```\n",
        "    is equivalent to\n",
        "    ```ampl\n",
        "    var lemonade >= 0; var iced_tea >= 0;\n",
        "    ```\n",
        "\n",
        "<br>\n",
        "\n",
        "**Each AMPL statement should end with a semicolon, with the exception of include commands, which we will discuss in more detail later**."
      ]
    },
    {
      "cell_type": "markdown",
      "metadata": {},
      "source": [
        "\n",
        "## Model formulation in AMPL\n",
        "The following sections will cover the basic syntax in AMPL for declaring these entities. \n",
        "We will begin with an overview of how to declare variables, then move on to defining the objective function and constraints."
      ]
    },
    {
      "cell_type": "markdown",
      "metadata": {},
      "source": [
        "### Variable declarations\n",
        "To declare our variables in AMPL, we first use the `var` keyword followed by the variable name, optional attributes, and a semicolon. \n",
        "\n",
        "<pre style=\"background-color:None\">\n",
        "<code style=\"background-color:None\">\n",
        "    <span style=\"color: darkgreen; font-weight: bold\">var</span> <i>name alias<sub>opt</sub> indexing<sub>opt</sub> attributes<sub>opt</sub> </i>;\n",
        "\n",
        "    <i>attributes: </i>\n",
        "        <span style=\"color: darkgreen; font-weight: bold\">binary</span>\n",
        "        <span style=\"color: darkgreen; font-weight: bold\">integer</span>\n",
        "        <span style=\"color: darkgreen; font-weight: bold\">symbolic</span>\n",
        "        >= <i>expr</i>\n",
        "        <= <i>expr</i>\n",
        "        := <i>expr</i>\n",
        "        <span style=\"color: darkgreen; font-weight: bold\">default</span> <i>expr</i>\n",
        "        = <i>expr</i>\n",
        "        <span style=\"color: darkgreen; font-weight: bold\">coeff</span> <i>indexing<sub>opt</sub> constraint expr</i>\n",
        "        <span style=\"color: darkgreen; font-weight: bold\">cover</span> <i>indexing<sub>opt</sub> constraint</i>\n",
        "        <span style=\"color: darkgreen; font-weight: bold\">obj</span> <i>indexing<sub>opt</sub> objective expr</i>\n",
        "        <span style=\"color: darkgreen; font-weight: bold\">in</span> <i>sexpr</i>\n",
        "        <span style=\"color: darkgreen; font-weight: bold\">suffix</span> <i>sufname expr</i>\n",
        "</code>\n",
        "</pre>\n",
        "\n",
        "Optional clauses marked with *opt* subscript such as *alias* or *indexing* are discussed in detail in the [AMPL book](https://ampl.com/learn/ampl-book/).\n",
        "\n",
        "As a brief note, *expr* is shorthand for expression, and *sexpr* stands for set expression.\n",
        "\n",
        "It is also worth mentioning that by default, AMPL initializes all variables to zero unless an initial value is provided via an attribute (e.g. `var x := 1;` in which case the initial value of `x` becomes 1)."
      ]
    },
    {
      "cell_type": "markdown",
      "metadata": {},
      "source": [
        "### Parameter declarations\n",
        "\n",
        "To declare a parameter in AMPL, we use the keyword `param`, followed by the parameter name, an optional initial value assignment, and a semi-colon.\n",
        "\n",
        "<pre style=\"background-color:None\">\n",
        "<code style=\"background-color:None\">\n",
        "   <span style=\"color: darkgreen; font-weight: bold\">param</span> <i>name alias<sub>opt</sub> indexing<sub>opt</sub> attributes<sub>opt</sub> </i>;\n",
        "\n",
        "    <i>attributes: </i>\n",
        "        <span style=\"color: darkgreen; font-weight: bold\">binary</span>\n",
        "        <span style=\"color: darkgreen; font-weight: bold\">integer</span>\n",
        "        <span style=\"color: darkgreen; font-weight: bold\">symbolic</span>\n",
        "        <i>relop expr</i>\n",
        "        <span style=\"color: darkgreen; font-weight: bold\">default</span> <i>expr</i>\n",
        "        = <i>expr</i>\n",
        "        <span style=\"color: darkgreen; font-weight: bold\">in</span> <i>sexpr</i>\n",
        "\n",
        "    <i>relop: </i>\n",
        "        <  <=  =  ==  !=  <>  >  >=\n",
        "</code>\n",
        "</pre>\n",
        "\n",
        "Optional clauses marked with *opt* subscript such as *alias* or *indexing* are discussed in detail in the [AMPL book](https://ampl.com/learn/ampl-book/).\n",
        "\n",
        "As a brief note, *expr* is shorthand for expression, *sexpr* stands for set expression, and *relop* is short for relational operator."
      ]
    },
    {
      "cell_type": "markdown",
      "metadata": {},
      "source": [
        "### Objective declarations\n",
        "\n",
        "To specify an objective function in AMPL, we first have to specify the direction of optimization via the keywords `maximize` or `minimize`, which is followed by a name, a colon, an expression involving our variables, and a semicolon.\n",
        "\n",
        "<pre style=\"background-color:None\">\n",
        "<code style=\"background-color:None\">\n",
        "    <span style=\"color: darkgreen; font-weight: bold\">maximize</span> <i>name alias<sub>opt</sub> indexing<sub>opt</sub> </i> \n",
        "        : <i>expression</i> [ <i>suffix-initialization</i> ] ; \n",
        "</code>\n",
        "</pre>\n",
        "\n",
        "<pre style=\"background-color:None\">\n",
        "<code style=\"background-color:None\">\n",
        "    <span style=\"color: darkgreen; font-weight: bold\">minimize</span> <i>name alias<sub>opt</sub> indexing<sub>opt</sub> </i> \n",
        "        : <i>expression</i> [ <i>suffix-initialization</i> ] ; \n",
        "</code>\n",
        "</pre>\n",
        "\n",
        "Optional clauses, such as *suffix-initialization* (marked with [ ]) and *alias* or *indexing* (marked with *opt* subscript), are discussed in detail in the [AMPL book](https://ampl.com/learn/ampl-book/).\n",
        "\n",
        "**Reminder:** Variables must be declared before they can be used in an expression."
      ]
    },
    {
      "cell_type": "markdown",
      "metadata": {},
      "source": [
        "### Constraint declarations\n",
        "\n",
        "To declare our constraints in AMPL, we first use the keywords `subject to`, which is followed by a name, a colon, an expression involving our variables, and a semicolon.\n",
        "\n",
        "Just like the objective function, we can give constraints an informative name and then provide the appropriate expression to describe the constraint. \n",
        "\n",
        "<pre style=\"background-color:None\">\n",
        "<code style=\"background-color:None\">\n",
        "    [ <span style=\"color: darkgreen; font-weight: bold\">subject to</span> ] <i>name alias<sub>opt</sub> indexing<sub>opt</sub> </i>\n",
        "        [:= <i> initial_dual </i>] [ <span style=\"color: darkgreen; font-weight: bold\">default</span> <i>initial_dual</i> ] \n",
        "        : <i>constraint expression</i> [ <i>suffix-initialization</i> ] ;  \n",
        "</code>\n",
        "</pre>\n",
        "\n",
        "**Constraint expressions** can take two forms one-sided and two-sided.\n",
        "\n",
        "**One-sided** constraint expressions must be specified in one of the following forms:\n",
        "\n",
        "$$\n",
        "\\begin{equation}\n",
        "\\begin{array}{lcl}\n",
        "\\textrm{expression} & <=  & \\textrm{expression} \\\\\n",
        "\\textrm{expression} & =  & \\textrm{expression}  \\\\\n",
        "\\textrm{expression} & >=  & \\textrm{expression}\n",
        "\\end{array}\n",
        "\\end{equation} \\tag{2}\n",
        "$$\n",
        "\n",
        "Whereas **two-sided** constraint expressions must be declared in one of the following forms:\n",
        "\n",
        "$$\n",
        "\\begin{equation}\n",
        "\\begin{array}{lcccr}\n",
        "\\textrm{constant expression} & <= & \\textrm{expression} & <=  & \\textrm{constant expression} \\\\\n",
        "\\textrm{constant expression} & >= & \\textrm{expression} & >=  & \\textrm{constant expression} \\\\\n",
        "\\end{array}\n",
        "\\end{equation} \\tag{3}\n",
        "$$\n",
        "\n",
        "A **constant expression** is an expression that does not contain any variables.\n",
        "\n",
        "Optional clauses, such as *initial_dual* or *suffix-initialization*  (marked with [ ]) and *alias* or *indexing* (marked with *opt* subscript), are discussed in detail in the [AMPL book](https://ampl.com/learn/ampl-book/).\n",
        "\n",
        "The `subject to` keyword used to declare constraints can be shortened to `s.t.` or even omitted entirely (not recommended)."
      ]
    },
    {
      "cell_type": "markdown",
      "metadata": {},
      "source": [
        "# SOLUTION\n",
        "2. The `%%writefile lemonade.mod` magic will create the file `lemonade.mod` in the directory this Jupyter Notebook is located in. "
      ]
    },
    {
      "cell_type": "code",
      "execution_count": 6,
      "metadata": {},
      "outputs": [
        {
          "name": "stdout",
          "output_type": "stream",
          "text": [
            "Writing lemonade.mod\n"
          ]
        }
      ],
      "source": [
        "%%writefile lemonade.mod\n",
        "# Define the decision variables\n",
        "var lemonade integer, >= 0;\n",
        "var iced_tea integer, >= 0;\n",
        "\n",
        "# Define the parameter(s)\n",
        "param fee = 2;\n",
        "\n",
        "# Define the objective function\n",
        "maximize profit: 1.5*lemonade + iced_tea - fee;\n",
        "\n",
        "# Define the constraints\n",
        "subject to lemon_constraint: lemonade <= 10;\n",
        "subject to tea_bag_constraint: iced_tea <= 8;\n",
        "subject to sugar_constraint: 2*lemonade + iced_tea <= 20;"
      ]
    },
    {
      "cell_type": "code",
      "execution_count": 7,
      "metadata": {},
      "outputs": [
        {
          "name": "stdout",
          "output_type": "stream",
          "text": [
            "Gurobi 11.0.0:Gurobi 11.0.0: optimal solution; objective 15\n",
            "0 simplex iterations\n",
            " \n",
            "           0\n",
            "lemonade   6\n",
            "iced_tea   8\n",
            "profit    15\n"
          ]
        }
      ],
      "source": [
        "ampl = AMPL()  # Instantiate an AMPL object\n",
        "\n",
        "ampl.read(\"lemonade.mod\")  # Read the model file\n",
        "\n",
        "ampl.option[\"solver\"] = \"gurobi\"  # Select the solver\n",
        "\n",
        "ampl.solve()  # Attempt to solve\n",
        "\n",
        "df_sol = ampl.get_data(\"lemonade, iced_tea, profit\").to_pandas()  # Get solution\n",
        "\n",
        "print(df_sol.T)  # Print solution"
      ]
    },
    {
      "cell_type": "markdown",
      "metadata": {},
      "source": [
        "## Mulled wine stand\n",
        "Your lemonade stand works well during the summer months, but as winter approaches, you sense the need to switch your business model. \n",
        "Thankfully, your inheritance of ingredients can be adapted from lemons to wine and spices, and you decide to open a mulled wine and hot tea stand. \n",
        "As before, your goal is to maximize your daily profit by deciding how many cups of mulled wine and hot tea to sell, subject to the constraint that you have a limited amount of wine, spices, sugar, and tea bags available to you each day.\n",
        "\n",
        "In this example you will offer two drinks: mulled wine $(x_{\\textrm{mulled\\_wine}})$, which requires two cups of wine, two tablespoons of spice and four tablespoons of sugar per glass, and hot tea $(x_{\\textrm{hot\\_tea}})$, which requires one tea bag, two tablespoons of sugar, and two cups of water per glass.\n",
        "\n",
        "Thankfully, you still have access to unlimited water, however your daily inheritance of ingredients has changed to: 12 tablespoons of spices, 8 cups of tea, 30 tablespoons of sugar, and 15 cups of wine.\n",
        "\n",
        "Your goal will again be to maximize profit by determining how many glasses of each drink to make given your limited daily ingredients. You can sell each glass of wine for \\$2.00 and each glass of  tea for \\$1.50. Since you have cornered the market on drink stands in town, you can expect to sell all the drinks that you make and remember that your ingredient list is limited but costs nothing.\n",
        "\n",
        "To formulate this as an integer programming problem, we can use the following model:\n",
        "\n",
        "$$\n",
        "\\begin{equation}\n",
        "\\begin{array}{lcrcrl}\n",
        "&\\textrm{Objective:}  & \\max &    2x_{\\textrm{mulled\\_wine}} & + & 1.5x_{\\textrm{hot\\_tea}}   & -    & 2  \\\\\n",
        "&\\textrm{Subject to:} &      &                              &   &                           &      &    \\\\\n",
        "&                     &      &    2x_{\\textrm{mulled\\_wine}} &   &                           & \\leq & 12 \\\\\n",
        "&                     &      &                              &   & x_{\\textrm{hot\\_tea}}      & \\leq & 8  \\\\\n",
        "&                     &      &   4x_{\\textrm{mulled\\_wine}}  & + & 2x_{\\textrm{hot\\_tea}}     & \\leq & 30 \\\\\n",
        "&                     &      &   2x_{\\textrm{mulled\\_wine}}  &   &                           & \\leq & 15 \\\\\n",
        "&                     &      &                              &   &                           &      &    \\\\\n",
        "&                     &      &    x_{\\textrm{mulled\\_wine}}  &   &                           & \\geq & 0  \\\\\n",
        "&                     &      &                              &   & x_{\\textrm{hot\\_tea}}      & \\geq & 0  \\\\\n",
        "&                     &      &    x_{\\textrm{mulled\\_wine}}  & , & x_{\\textrm{hot\\_tea}}      & \\in  & \\mathbb{Z}\n",
        "\\end{array}\n",
        "\\end{equation} \\tag{4}\n",
        "$$\n"
      ]
    },
    {
      "cell_type": "markdown",
      "metadata": {},
      "source": [
        "# EXERCISE 7\n",
        "\n",
        "1. With the integer programming problem outlined above, your task is to construct an AMPL model.\n",
        "\n",
        "2. Below, create a code cell and begin with the `%%writefile mulled_wine.mod` magic command. Follow with the formulation of your AMPL model.\n",
        "\n",
        "3. Next, in a separate code cell, initialize your AMPL environment and load your model using the `ampl.read(\"mulled_wine.mod\")` command.\n",
        "\n",
        "4. Develop and execute the necessary code to calculate the optimal amounts of mulled wine and hot tea to prepare in order to maximize profits.\n",
        "\n",
        "5. Finally, output the quantities of mulled wine and hot tea that should be produced, along with the projected profit."
      ]
    },
    {
      "cell_type": "markdown",
      "metadata": {},
      "source": [
        "# SOLUTION\n"
      ]
    },
    {
      "cell_type": "code",
      "execution_count": 8,
      "metadata": {},
      "outputs": [
        {
          "name": "stdout",
          "output_type": "stream",
          "text": [
            "Writing mulled_wine.mod\n"
          ]
        }
      ],
      "source": [
        "%%writefile mulled_wine.mod\n",
        "# Define the decision variables\n",
        "var mulled_wine integer, >= 0;\n",
        "var hot_tea integer, >= 0;\n",
        "\n",
        "# Define the parameter(s)\n",
        "param fee = 2;\n",
        "\n",
        "# Define the objective function\n",
        "maximize profit: 2*mulled_wine + 1.5*hot_tea - fee;\n",
        "\n",
        "# Define the constraints\n",
        "subject to spice_constraint: 2*mulled_wine <= 12;\n",
        "subject to tea_bag_constraint: hot_tea <= 8;\n",
        "subject to sugar_constraint: 4*mulled_wine + 2*hot_tea <= 30;\n",
        "subject to wine_constraint: 2*mulled_wine <= 15;"
      ]
    },
    {
      "cell_type": "code",
      "execution_count": 9,
      "metadata": {},
      "outputs": [
        {
          "name": "stdout",
          "output_type": "stream",
          "text": [
            "HiGHS 1.6.0:HiGHS 1.6.0: optimal solution; objective 16.5\n",
            "1 simplex iterations\n",
            "1 branching nodes\n",
            " \n",
            "                0\n",
            "mulled_wine   4.0\n",
            "hot_tea       7.0\n",
            "profit       16.5\n"
          ]
        }
      ],
      "source": [
        "ampl = AMPL()  # Instantiate an AMPL object\n",
        "\n",
        "ampl.read(\"mulled_wine.mod\")  # Read the model file\n",
        "\n",
        "ampl.option[\"solver\"] = \"highs\"  # Select the solver\n",
        "\n",
        "ampl.solve()  # Attempt to solve\n",
        "\n",
        "df_sol = ampl.get_data(\"mulled_wine, hot_tea, profit\").to_pandas()  # Get solution\n",
        "\n",
        "print(df_sol.T)  # Print solution"
      ]
    }
  ],
  "metadata": {
    "kernelspec": {
      "display_name": "Python 3 (ipykernel)",
      "language": "python",
      "name": "python3"
    },
    "language_info": {
      "codemirror_mode": {
        "name": "ipython",
        "version": 3
      },
      "file_extension": ".py",
      "mimetype": "text/x-python",
      "name": "python",
      "nbconvert_exporter": "python",
      "pygments_lexer": "ipython3",
      "version": "3.10.12"
    },
    "vscode": {
      "interpreter": {
        "hash": "ee4198aac13dae9b6fccd443041680d99c2643c4956ef7c80ff6dcc0057cb523"
      }
    }
  },
  "nbformat": 4,
  "nbformat_minor": 2
}
