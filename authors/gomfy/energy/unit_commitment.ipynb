{
  "cells": [
    {
      "cell_type": "markdown",
      "metadata": {
        "id": "7RjB1ipC7KbS"
      },
      "source": [
        "# Unit Commitment for Electrical Power Generation\n",
        "[![unit_commitment.ipynb](https://img.shields.io/badge/github-%23121011.svg?logo=github)](https://github.com/ampl/colab.ampl.com/blob/master/authors/gomfy/energy/unit_commitment.ipynb) [![Open In Colab](https://colab.research.google.com/assets/colab-badge.svg)](https://colab.research.google.com/github/ampl/colab.ampl.com/blob/master/authors/gomfy/energy/unit_commitment.ipynb) [![Kaggle](https://kaggle.com/static/images/open-in-kaggle.svg)](https://kaggle.com/kernels/welcome?src=https://github.com/ampl/colab.ampl.com/blob/master/authors/gomfy/energy/unit_commitment.ipynb) [![Gradient](https://assets.paperspace.io/img/gradient-badge.svg)](https://console.paperspace.com/github/ampl/colab.ampl.com/blob/master/authors/gomfy/energy/unit_commitment.ipynb) [![Open In SageMaker Studio Lab](https://studiolab.sagemaker.aws/studiolab.svg)](https://studiolab.sagemaker.aws/import/github/ampl/colab.ampl.com/blob/master/authors/gomfy/energy/unit_commitment.ipynb) [![Hits](https://h.ampl.com/https://github.com/ampl/colab.ampl.com/blob/master/authors/gomfy/energy/unit_commitment.ipynb)](https://colab.ampl.com)\n",
        "\n",
        "Description: This notebook illustrates the power generation problem using AMPL. The original version featured the Gurobi solver. By default, this notebook uses the HiGHS and CBC solvers.\n",
        "\n",
        "Major electric power companies around the world utilize mathematical optimization to manage the flow of energy across their electrical grids. In this example, you’ll discover the power of mathematical optimization in addressing a common energy industry problem: unit commitment for electrical power generation. We’ll show you how to figure out the optimal set of power stations to turn on in order to satisfy anticipated power demand over a 24-hour time horizon.\n",
        "\n",
        "This model is example 15 from the fifth edition of Model Building in Mathematical Programming by H. Paul Williams on pages 270 – 271 and 325 – 326.\n",
        "\n",
        "This example is at the intermediate level, where we assume that you know Python and the AMPL's Python API and that you have some knowledge of building mathematical optimization models.\n",
        "\n",
        "Tags: amplpy, energy, power-generation, unit-commitment\n",
        "\n",
        "Notebook author: Gyorgy Matyasfalvi <<gyorgy@ampl.com>>\n",
        "\n",
        "References: \n",
        "1. [Electrical power generation 1 notebook](https://colab.research.google.com/github/Gurobi/modeling-examples/blob/master/electrical_power_generation_1_2/electrical_power_1_gcl.ipynb) \n",
        "2. H. Paul Williams, Model Building in Mathematical Programming, fifth edition."
      ]
    },
    {
      "cell_type": "code",
      "execution_count": 25,
      "metadata": {
        "id": "rQ50dBwL7KbX"
      },
      "outputs": [],
      "source": [
        "# Install dependencies\n",
        "%pip install -q amplpy pandas"
      ]
    },
    {
      "cell_type": "code",
      "execution_count": 26,
      "metadata": {
        "colab": {
          "base_uri": "https://localhost:8080/",
          "height": 101,
          "referenced_widgets": [
            "5c52a4f288924ca8bbf5182a951af6a8",
            "5a786f2dd2584199a4001c8bebefd757",
            "9a901424b8c04687b39b5e1251ee3919",
            "fcf080abd68144728d12fa81f879d5d5",
            "b2d8e84e2f6545bc98bbaf40294b9ad8",
            "de8c25d11df34ae2b86964266defdfdc",
            "a1e4bcf9de474b4f835419c6278d4e42",
            "45de4f35c7f04c37b87cad70c3e3b224",
            "59a30522756c4d668323600e0800a022",
            "4510b5e780f24d44ace00a42c38cf6dc",
            "5bec63a60fab4e628b18b6576859f23d",
            "4cfacef2f3e44067b81ac133fe17ae5b",
            "c9f8c186dbec4424895eb43630e458f2",
            "a0a3a52262a340debb5a29ce65170164"
          ]
        },
        "id": "s7DEaRp87KbY",
        "outputId": "7ccc087a-1af8-445e-c56d-31f3371b0c38"
      },
      "outputs": [],
      "source": [
        "# Google Colab & Kaggle integration\n",
        "from amplpy import AMPL, ampl_notebook\n",
        "\n",
        "ampl = ampl_notebook(\n",
        "    modules=[\"highs\", \"cbc\"],  # modules to install\n",
        "    license_uuid=\"default\",  # license to use\n",
        ")  # instantiate AMPL object and register magics"
      ]
    },
    {
      "cell_type": "markdown",
      "metadata": {
        "id": "twrd0pLo7KbZ"
      },
      "source": [
        "## Problem Description\n",
        "\n",
        "In this problem, power generation units are grouped into three distinct types, with different characteristics for each type (power output, cost per megawatt hour, startup cost, etc.).  A unit can be on or off, with a startup cost associated with transitioning from off to on, and power output that can fall anywhere between a specified minimum and maximum value when the unit is on.  A 24-hour time horizon is divided into 5 discrete time periods, each with an expected total power demand.  The model decides which units to turn on, and when, in order to satisfy demand for each time period.  The model also captures a reserve requirement, where the selected power plants must be capable of increasing their output, while still respecting their maximum output, in order to cope with the situation where actual demand exceeds predicted demand.\n",
        "\n",
        "A set of generators is available to satisfy power demand for the following day.  Anticipated demand is as follows:\n",
        "\n",
        "| Time Period | Demand (megawatts) |\n",
        "| --- | --- |\n",
        "| 12 am to 6 am | 15000 |\n",
        "| 6 am to 9 am  | 30000 |\n",
        "| 9 am to 3 pm  | 25000 |\n",
        "| 3 pm to 6 pm  | 40000 |\n",
        "| 6 pm to 12 am | 27000 |\n",
        "\n",
        "Generators are grouped into three types, with the following minimum and maximum output for each type (when they are on):\n",
        "\n",
        "| Type | Number available | Minimum output (MW) | Maximum output (MW) |\n",
        "| ---  | --- | --- | --- |\n",
        "| wind | 12 |  850 | 2000 |\n",
        "| gas  | 10 | 1250 | 1750 |\n",
        "| hydro|  5 | 1500 | 4000 |\n",
        "\n",
        "There are costs associated with using a generator: a cost per hour when the generator is on (and generating its minimum output), a cost per megawatt hour above its minimum, and a startup cost for turning a generator on:\n",
        "\n",
        "| Type | Cost per hour (when on) | Cost per MWh above minimum | Startup cost |\n",
        "| ---  | --- | --- | --- |\n",
        "| wind  | $\\$1000$ | $\\$2.00$ | $\\$2000$ |\n",
        "| gas   | $\\$2600$ | $\\$1.30$ | $\\$1000$ |\n",
        "| hydro | $\\$3000$ | $\\$3.00$ | $\\$500$ |\n",
        "\n",
        "Generators must meet predicted demand, but they must also have sufficient reserve capacity to be able to cope with the situation where actual demand exceeds predicted demand.  For this model, the set of selected generators must be able to produce as much as 115% of predicted demand.\n",
        "\n",
        "Which generators should be committed to meeting anticipated demand in order to minimize total cost?\n",
        "\n",
        "---\n",
        "## Model Formulation\n",
        "\n",
        "### Sets and Indices\n",
        "\n",
        "$t \\in \\text{Types}=\\{ \\text{wind},\\; \\text{gas},\\; \\text{hydro} \\}$: Types of generators.\n",
        "\n",
        "$p \\in \\text{Periods}=\\{ \\text{'12 am to 6 am'},\\; \\text{'6 am to 9 am'},\\; \\text{'9 am to 3 pm'},\\; \\text{'3 pm to 6 pm'},\\; \\text{'6 pm to 12 am'} \\}$: Time periods.\n",
        "\n",
        "\n",
        "### Parameters\n",
        "\n",
        "$\\text{period_hours}_p \\in \\mathbb{N}^+$: Number of hours in each time period.\n",
        "\n",
        "$\\text{generators}_t \\in \\mathbb{N}^+$: Number of generators of type $t$.\n",
        "\n",
        "$\\text{demand}_p \\in \\mathbb{R}^+$: Total power demand for time period $p$.\n",
        "\n",
        "$\\text{maxstart0} \\in \\mathbb{N}^+$: Number of generators that are on at the beginning of the time horizon (and available in time period 0 without paying a startup cost).\n",
        "\n",
        "$\\text{min_output}_t \\in \\mathbb{R}^+$: Minimum output for generator type $t$ (when on).\n",
        "\n",
        "$\\text{max_output}_t \\in \\mathbb{R}^+$: Maximum output for generator type $t$.\n",
        "\n",
        "$\\text{base_cost}_t \\in \\mathbb{R}^+$: Minimum operating cost (per hour) for a generator of type $t$.\n",
        "\n",
        "$\\text{per_mw_cost}_t \\in \\mathbb{R}^+$: Cost to generate one additional MW (per hour) for a generator of type $t$.\n",
        "\n",
        "$\\text{startup_cost}_t \\in \\mathbb{R}^+$: Startup cost for generator of type $t$.\n",
        "\n",
        "### Decision Variables\n",
        "\n",
        "$\\text{ngen}_{t,p} \\in \\mathbb{N}^+$: Number of generators of type $t$ that are on in time period $p$.\n",
        "\n",
        "$\\text{output}_{t,p} \\in \\mathbb{R}^+$: Total power output from generators of type $t$ in time period $p$.\n",
        "\n",
        "$\\text{nstart}_{t,p} \\in \\mathbb{N}^+$: Number of generators of type $t$ to start in time period $p$.\n",
        "\n",
        "\n",
        "\n",
        "### Objective Function\n",
        "\n",
        "- **Cost**: Minimize the cost (in USD) to satisfy the predicted electricity demand.\n",
        "\n",
        "$$\n",
        "\\text{Minimize} \\quad Z_{on} + Z_{extra} + Z_{startup}\n",
        "$$\n",
        "\n",
        "$$\n",
        "Z_{on} = \\sum_{(t,p) \\in \\text{Types} \\times \\text{Periods}}{\\text{base_cost}_t*\\text{ngen}_{t,p}}\n",
        "$$\n",
        "\n",
        "$$\n",
        "Z_{extra} = \\sum_{(t,p) \\in \\text{Types} \\times \\text{Periods}}{\\text{per_mw_cost}_t*(\\text{output}_{t,p} - \\text{min_load}_t})\n",
        "$$\n",
        "\n",
        "$$\n",
        "Z_{startup} = \\sum_{(t,p) \\in \\text{Types} \\times \\text{Periods}}{\\text{startup_cost}_t*\\text{nstart}_{t,p}}\n",
        "$$\n",
        "\n",
        "\n",
        "### Constraints\n",
        "\n",
        "- **Available generators**: Number of generators used must be less than or equal to the number available.\n",
        "\n",
        "$$\n",
        "\\text{ngen}_{t,p} \\leq \\text{generators}_{t} \\quad \\forall (t,p) \\in \\text{Types} \\times \\text{Periods}\n",
        "$$\n",
        "\n",
        "- **Demand**: Total power generated across all generator types must meet anticipated demand for each time period $p$.\n",
        "\n",
        "$$\n",
        "\\sum_{t \\in \\text{Types}}{\\text{output}_{t,p}} \\geq \\text{demand}_p \\quad \\forall p \\in \\text{Periods}\n",
        "$$\n",
        "\n",
        "- **Min/max generation**: Power generation must respect generator min/max values.\n",
        "\n",
        "$$\n",
        "\\text{output}_{t,p} \\geq \\text{min_output}_t*\\text{ngen}_{t,p} \\quad \\forall (t,p) \\in \\text{Types} \\times \\text{Periods}\n",
        "$$\n",
        "\n",
        "$$\n",
        "\\text{output}_{t,p} \\leq \\text{max_output}_t*\\text{ngen}_{t,p} \\quad \\forall (t,p) \\in \\text{Types} \\times \\text{Periods}\n",
        "$$\n",
        "\n",
        "- **Reserve**: Selected generators must be able to satisfy demand that is as much as 15% above the prediction.\n",
        "\n",
        "$$\n",
        "\\sum_{t \\in \\text{Types}}{\\text{max_output}_t*\\text{ngen}_{t,p}} \\geq 1.15 * \\text{demand}_p \\quad \\forall p \\in \\text{Periods}\n",
        "$$\n",
        "\n",
        "- **Startup**: Establish relationship between number of active generators and number of startups (use $maxstart0$ for period before the time horizon starts)\n",
        "\n",
        "$$\n",
        "\\text{ngen}_{t,p} \\leq \\text{ngen}_{t,p-1} + \\text{startup}_{t,p} \\quad \\forall (t,p) \\in \\text{Types} \\times \\text{Periods}\n",
        "$$\n",
        "\n",
        "---\n"
      ]
    },
    {
      "cell_type": "markdown",
      "metadata": {},
      "source": [
        "## Load necessary modules"
      ]
    },
    {
      "cell_type": "code",
      "execution_count": 27,
      "metadata": {},
      "outputs": [],
      "source": [
        "import pandas as pd"
      ]
    },
    {
      "cell_type": "markdown",
      "metadata": {},
      "source": [
        "## Reset AMPL\n",
        "Needed to allow for repeated runs"
      ]
    },
    {
      "cell_type": "code",
      "execution_count": 28,
      "metadata": {},
      "outputs": [],
      "source": [
        "ampl.reset()"
      ]
    },
    {
      "cell_type": "markdown",
      "metadata": {},
      "source": [
        "## Model Development\n",
        "\n",
        "We first create the sets, parameters, and the variables in AMPL. For each time period, we have: an integer decision variable to capture the number of active generators of each type (ngen), an integer variable to capture the number of generators of each type we must start (nstart), and a continuous decision variable to capture the total power output for each generator type (output)."
      ]
    },
    {
      "cell_type": "code",
      "execution_count": 29,
      "metadata": {
        "id": "aEtyesqs7KbZ"
      },
      "outputs": [],
      "source": [
        "%%ampl_eval\n",
        "\n",
        "# Declare indexing sets used for delcaration of model entities\n",
        "set TYPES;\n",
        "set PERIODS ordered;\n",
        "\n",
        "# Declare parameters\n",
        "param maxstart0;\n",
        "param reserve_capacity > 1.0; # Ensure that reserve capcity is always above 100%\n",
        "param generators {TYPES};\n",
        "param period_hours {PERIODS};\n",
        "param demand {PERIODS};\n",
        "param min_load {TYPES};\n",
        "param max_load {TYPES};\n",
        "param base_cost {TYPES};\n",
        "param per_mw_cost {TYPES};\n",
        "param startup_cost {TYPES};\n",
        "\n",
        "#Declare variables\n",
        "var ngen{TYPES, PERIODS} >= 0, integer;\n",
        "var nstart{TYPES, PERIODS} >= 0, integer;\n",
        "var output{TYPES, PERIODS} >= 0;"
      ]
    },
    {
      "cell_type": "markdown",
      "metadata": {},
      "source": [
        "## Load data directly from Python data structures using [amplpy](https://amplpy.readthedocs.io/)\n",
        "We define all the input data of the model and send it to AMPL.\n",
        "**It's good practice to first load the data of all indexing sets into AMPL as it allows us to send data for indexed entities more readily in later stages.**"
      ]
    },
    {
      "cell_type": "code",
      "execution_count": 30,
      "metadata": {},
      "outputs": [],
      "source": [
        "### First load indexing sets ###\n",
        "# Generator types used for indexing\n",
        "TYPES = [\"gas\", \"hydro\", \"wind\"]\n",
        "ampl.set[\"TYPES\"] = TYPES\n",
        "\n",
        "# Time Periods used for indexing\n",
        "PERIODS = [\n",
        "    \"12 am to 6 am\",\n",
        "    \"6 am to 9 am\",\n",
        "    \"9 am to 3 pm\",\n",
        "    \"3 pm to 6 pm\",\n",
        "    \"6 pm to 12 am\",\n",
        "]\n",
        "ampl.set[\"PERIODS\"] = PERIODS\n",
        "\n",
        "### Second load parameter data ###\n",
        "# Load reserve capacity and maxtart0\n",
        "reserve_capcity = 1.15\n",
        "ampl.param[\"reserve_capacity\"] = reserve_capcity\n",
        "\n",
        "# Load maxstart0\n",
        "maxstart0 = 5\n",
        "ampl.param[\"maxstart0\"] = maxstart0\n",
        "\n",
        "# Data for generators\n",
        "generators = [12, 10, 5]\n",
        "period_hours = [6, 3, 6, 3, 6]\n",
        "demand = [15000, 30000, 25000, 40000, 27000]\n",
        "min_load = [850, 1250, 1500]\n",
        "max_load = [2000, 1750, 4000]\n",
        "base_cost = [1000, 2600, 3000]\n",
        "per_mw_cost = [2, 1.3, 3]\n",
        "startup_cost = [2000, 1000, 500]\n",
        "\n",
        "# Set all params indexed over TYPES at once\n",
        "# First create Pandas DataFrame\n",
        "params_indexed_over_TYPES = pd.DataFrame(\n",
        "    {\n",
        "        \"generators\": generators,\n",
        "        \"min_load\": min_load,\n",
        "        \"max_load\": max_load,\n",
        "        \"base_cost\": base_cost,\n",
        "        \"per_mw_cost\": per_mw_cost,\n",
        "        \"startup_cost\": startup_cost,\n",
        "    },\n",
        "    index=TYPES,\n",
        ")\n",
        "# Set data using set_data() method\n",
        "# Since we already populated the indexing sets above,\n",
        "# here it's enough to invoke 'set_data()' without its second argument (the indexing set argument).\n",
        "ampl.set_data(params_indexed_over_TYPES)\n",
        "\n",
        "# Set all params indexed over PERIODS at once\n",
        "params_indexed_over_PERIODS = pd.DataFrame(\n",
        "    {\"period_hours\": period_hours, \"demand\": demand}, index=PERIODS\n",
        ")\n",
        "# Again since we already populated the indexing sets above,\n",
        "# here it's enough to invoke 'set_data()' without its second argument (the indexing set argument).\n",
        "ampl.set_data(params_indexed_over_PERIODS)"
      ]
    },
    {
      "cell_type": "markdown",
      "metadata": {
        "id": "jCyp8qRS7Kba"
      },
      "source": [
        "Next we insert the constraints:\n",
        "\n",
        "The number of active generators can't exceed the number of generators."
      ]
    },
    {
      "cell_type": "code",
      "execution_count": 31,
      "metadata": {
        "id": "jYDiBDD_7Kba"
      },
      "outputs": [],
      "source": [
        "%%ampl_eval\n",
        "\n",
        "# Generator count\n",
        "s.t. numgen {type in TYPES, period in PERIODS}:\n",
        "             ngen[type, period] <= generators[type];"
      ]
    },
    {
      "cell_type": "markdown",
      "metadata": {
        "id": "uftSUdTh9eZY"
      },
      "source": [
        "Total power output for a generator type depends on the number of generators of that type that are active."
      ]
    },
    {
      "cell_type": "code",
      "execution_count": 32,
      "metadata": {
        "colab": {
          "base_uri": "https://localhost:8080/"
        },
        "id": "j6pPuSOi8nPH",
        "outputId": "096f397f-7680-4a1e-f3f3-e5126edfc931"
      },
      "outputs": [],
      "source": [
        "%%ampl_eval\n",
        "\n",
        "# Respect minimum and maximum output per generator type\n",
        "s.t. min_output {type in TYPES, period in PERIODS}:\n",
        "                 output[type, period] >= min_load[type] * ngen[type, period];\n",
        "          \n",
        "s.t. max_output {type in TYPES, period in PERIODS}:\n",
        "                 output[type, period] <= max_load[type] * ngen[type, period];"
      ]
    },
    {
      "cell_type": "markdown",
      "metadata": {
        "id": "6Xb28Bg7ODqV"
      },
      "source": [
        "Total output for each time period must meet predicted demand."
      ]
    },
    {
      "cell_type": "code",
      "execution_count": 33,
      "metadata": {},
      "outputs": [],
      "source": [
        "%%ampl_eval\n",
        "\n",
        "# Meet demand\n",
        "s.t. meet_demand {period in PERIODS}:\n",
        "                  sum {type in TYPES} output[type, period] >= demand[period];"
      ]
    },
    {
      "cell_type": "markdown",
      "metadata": {},
      "source": [
        "Selected generators must be able to cope with an excess of demand."
      ]
    },
    {
      "cell_type": "code",
      "execution_count": 34,
      "metadata": {
        "colab": {
          "base_uri": "https://localhost:8080/",
          "height": 300
        },
        "id": "CY0IJakEOG7u",
        "outputId": "e104ffdd-3030-4783-c13c-e7d926e546f2"
      },
      "outputs": [],
      "source": [
        "%%ampl_eval\n",
        "\n",
        "# Provide sufficient reserve capacity\n",
        "s.t. reserve {period in PERIODS}:\n",
        "             sum {type in TYPES} max_load[type] * ngen[type, period] >= reserve_capacity * demand[period];"
      ]
    },
    {
      "cell_type": "markdown",
      "metadata": {},
      "source": [
        "Connect the decision variables that capture active generators with the decision variables that count startups."
      ]
    },
    {
      "cell_type": "code",
      "execution_count": 35,
      "metadata": {},
      "outputs": [],
      "source": [
        "%%ampl_eval\n",
        "\n",
        "# Startup constraints\n",
        "s.t. startup0 {type in TYPES}:\n",
        "              ngen[type, first(PERIODS)] <= maxstart0 + nstart[type, first(PERIODS)];\n",
        "          \n",
        "s.t. startup {type in TYPES, period in PERIODS: period != first(PERIODS)}:\n",
        "             ngen[type, period] <= ngen[type, prev(period)] + nstart[type, period];"
      ]
    },
    {
      "cell_type": "markdown",
      "metadata": {},
      "source": [
        "Objective: minimize total cost.  Cost consists of three components: the cost for running active generation units, the cost to generate power beyond the minimum for each unit, and the cost to start up generation units."
      ]
    },
    {
      "cell_type": "code",
      "execution_count": 36,
      "metadata": {},
      "outputs": [],
      "source": [
        "%%ampl_eval\n",
        "\n",
        "# Objective: minimize total cost\n",
        "minimize total_cost:\n",
        "         sum {type in TYPES, period in PERIODS} \n",
        "             ( base_cost[type] * period_hours[period] * ngen[type, period] \n",
        "             +\n",
        "             per_mw_cost[type] * period_hours[period] * ( output[type, period] - min_load[type] * ngen[type, period] )\n",
        "             + \n",
        "             startup_cost[type] * nstart[type, period] );"
      ]
    },
    {
      "cell_type": "markdown",
      "metadata": {},
      "source": [
        "## Set option solver and solve\n",
        "1. Solve with HiGHS:"
      ]
    },
    {
      "cell_type": "code",
      "execution_count": 37,
      "metadata": {},
      "outputs": [
        {
          "name": "stdout",
          "output_type": "stream",
          "text": [
            "HiGHS 1.5.1: \b\b\b\b\b\b\b\b\b\b\b\b\bHiGHS 1.5.1: optimal solution; objective 1002540\n",
            "38 simplex iterations\n",
            "1 branching nodes\n"
          ]
        }
      ],
      "source": [
        "ampl.set_option(\"solver\", \"highs\")\n",
        "ampl.solve()"
      ]
    },
    {
      "cell_type": "markdown",
      "metadata": {},
      "source": [
        "2. Solve with CBC:"
      ]
    },
    {
      "cell_type": "code",
      "execution_count": 38,
      "metadata": {},
      "outputs": [
        {
          "name": "stdout",
          "output_type": "stream",
          "text": [
            "cbc 2.10.7: \b\b\b\b\b\b\b\b\b\b\b\bcbc 2.10.7: optimal solution; objective 1002540\n",
            "7 simplex iterations\n",
            "7 barrier iterations\n"
          ]
        }
      ],
      "source": [
        "ampl.set_option(\"solver\", \"cbc\")\n",
        "ampl.solve()"
      ]
    },
    {
      "cell_type": "markdown",
      "metadata": {},
      "source": [
        "---\n",
        "## Analysis\n",
        "\n",
        "The anticipated demand for electricity over the 24-hour time window can be met for a total cost of $\\$1,002,540$. The detailed plan for each time period is as follows.\n",
        "\n",
        "### Unit Commitments\n",
        "\n",
        "The following table shows the number of generators of each type that are active in each time period in the optimal solution using **AMPL**'s `display` command:"
      ]
    },
    {
      "cell_type": "code",
      "execution_count": 39,
      "metadata": {},
      "outputs": [
        {
          "name": "stdout",
          "output_type": "stream",
          "text": [
            "ngen [*,*]\n",
            ":     '12 am to 6 am' '6 am to 9 am' '9 am to 3 pm' '3 pm to 6 pm' '6 pm to 12 am'    :=\n",
            "gas          12              12             12             12             12\n",
            "hydro         3               8              8              9              9\n",
            "wind          0               0              0              2              0\n",
            ";\n",
            "\n"
          ]
        }
      ],
      "source": [
        "%%ampl_eval\n",
        "option display_1col 0, display_transpose -10, display_width 100;\n",
        "display ngen;"
      ]
    },
    {
      "cell_type": "markdown",
      "metadata": {},
      "source": [
        "The following shows the number of generators of each type that must be started in each time period to achieve this plan (recall that the model assumes that up to 5 generators of each type are available at the beginning of the time horizon). Here we use **Pandas DataFrame** and **IPython**'s `display()` function:"
      ]
    },
    {
      "cell_type": "code",
      "execution_count": 40,
      "metadata": {},
      "outputs": [
        {
          "data": {
            "text/html": [
              "<div>\n",
              "<style scoped>\n",
              "    .dataframe tbody tr th:only-of-type {\n",
              "        vertical-align: middle;\n",
              "    }\n",
              "\n",
              "    .dataframe tbody tr th {\n",
              "        vertical-align: top;\n",
              "    }\n",
              "\n",
              "    .dataframe thead th {\n",
              "        text-align: right;\n",
              "    }\n",
              "</style>\n",
              "<table border=\"1\" class=\"dataframe\">\n",
              "  <thead>\n",
              "    <tr style=\"text-align: right;\">\n",
              "      <th></th>\n",
              "      <th>12 am to 6 am</th>\n",
              "      <th>6 am to 9 am</th>\n",
              "      <th>9 am to 3 pm</th>\n",
              "      <th>3 pm to 6 pm</th>\n",
              "      <th>6 pm to 12 am</th>\n",
              "    </tr>\n",
              "  </thead>\n",
              "  <tbody>\n",
              "    <tr>\n",
              "      <th>gas</th>\n",
              "      <td>7.0</td>\n",
              "      <td>0.0</td>\n",
              "      <td>0.0</td>\n",
              "      <td>0.0</td>\n",
              "      <td>0.0</td>\n",
              "    </tr>\n",
              "    <tr>\n",
              "      <th>hydro</th>\n",
              "      <td>0.0</td>\n",
              "      <td>5.0</td>\n",
              "      <td>0.0</td>\n",
              "      <td>1.0</td>\n",
              "      <td>0.0</td>\n",
              "    </tr>\n",
              "    <tr>\n",
              "      <th>wind</th>\n",
              "      <td>0.0</td>\n",
              "      <td>0.0</td>\n",
              "      <td>0.0</td>\n",
              "      <td>2.0</td>\n",
              "      <td>0.0</td>\n",
              "    </tr>\n",
              "  </tbody>\n",
              "</table>\n",
              "</div>"
            ],
            "text/plain": [
              "       12 am to 6 am  6 am to 9 am  9 am to 3 pm  3 pm to 6 pm  6 pm to 12 am\n",
              "gas              7.0           0.0           0.0           0.0            0.0\n",
              "hydro            0.0           5.0           0.0           1.0            0.0\n",
              "wind             0.0           0.0           0.0           2.0            0.0"
            ]
          },
          "metadata": {},
          "output_type": "display_data"
        }
      ],
      "source": [
        "start_units = ampl.get_data(\"nstart\").to_pandas()\n",
        "# Capture the original order b/c unstack will mess-up the original ordering\n",
        "original_order = start_units.index.get_level_values(1).unique()\n",
        "start_units = start_units.unstack(level=1)\n",
        "# Convert multi-index to simple index\n",
        "start_units.columns = start_units.columns.get_level_values(1)\n",
        "# Reindex using the original order\n",
        "start_units = start_units.reindex(columns=original_order)\n",
        "display(start_units)"
      ]
    },
    {
      "cell_type": "code",
      "execution_count": null,
      "metadata": {},
      "outputs": [],
      "source": []
    }
  ],
  "metadata": {
    "colab": {
      "provenance": []
    },
    "kernelspec": {
      "display_name": "Python 3 (ipykernel)",
      "language": "python",
      "name": "python3"
    },
    "language_info": {
      "codemirror_mode": {
        "name": "ipython",
        "version": 3
      },
      "file_extension": ".py",
      "mimetype": "text/x-python",
      "name": "python",
      "nbconvert_exporter": "python",
      "pygments_lexer": "ipython3",
      "version": "3.11.3"
    },
    "vscode": {
      "interpreter": {
        "hash": "ee4198aac13dae9b6fccd443041680d99c2643c4956ef7c80ff6dcc0057cb523"
      }
    },
    "widgets": {
      "application/vnd.jupyter.widget-state+json": {
        "4510b5e780f24d44ace00a42c38cf6dc": {
          "model_module": "@jupyter-widgets/controls",
          "model_module_version": "1.5.0",
          "model_name": "ButtonStyleModel",
          "state": {
            "_model_module": "@jupyter-widgets/controls",
            "_model_module_version": "1.5.0",
            "_model_name": "ButtonStyleModel",
            "_view_count": null,
            "_view_module": "@jupyter-widgets/base",
            "_view_module_version": "1.2.0",
            "_view_name": "StyleView",
            "button_color": null,
            "font_weight": ""
          }
        },
        "45de4f35c7f04c37b87cad70c3e3b224": {
          "model_module": "@jupyter-widgets/base",
          "model_module_version": "1.2.0",
          "model_name": "LayoutModel",
          "state": {
            "_model_module": "@jupyter-widgets/base",
            "_model_module_version": "1.2.0",
            "_model_name": "LayoutModel",
            "_view_count": null,
            "_view_module": "@jupyter-widgets/base",
            "_view_module_version": "1.2.0",
            "_view_name": "LayoutView",
            "align_content": null,
            "align_items": null,
            "align_self": null,
            "border": null,
            "bottom": null,
            "display": null,
            "flex": null,
            "flex_flow": null,
            "grid_area": null,
            "grid_auto_columns": null,
            "grid_auto_flow": null,
            "grid_auto_rows": null,
            "grid_column": null,
            "grid_gap": null,
            "grid_row": null,
            "grid_template_areas": null,
            "grid_template_columns": null,
            "grid_template_rows": null,
            "height": null,
            "justify_content": null,
            "justify_items": null,
            "left": null,
            "margin": null,
            "max_height": null,
            "max_width": null,
            "min_height": null,
            "min_width": null,
            "object_fit": null,
            "object_position": null,
            "order": null,
            "overflow": null,
            "overflow_x": null,
            "overflow_y": null,
            "padding": null,
            "right": null,
            "top": null,
            "visibility": null,
            "width": null
          }
        },
        "4cfacef2f3e44067b81ac133fe17ae5b": {
          "model_module": "@jupyter-widgets/controls",
          "model_module_version": "1.5.0",
          "model_name": "DescriptionStyleModel",
          "state": {
            "_model_module": "@jupyter-widgets/controls",
            "_model_module_version": "1.5.0",
            "_model_name": "DescriptionStyleModel",
            "_view_count": null,
            "_view_module": "@jupyter-widgets/base",
            "_view_module_version": "1.2.0",
            "_view_name": "StyleView",
            "description_width": ""
          }
        },
        "59a30522756c4d668323600e0800a022": {
          "model_module": "@jupyter-widgets/base",
          "model_module_version": "1.2.0",
          "model_name": "LayoutModel",
          "state": {
            "_model_module": "@jupyter-widgets/base",
            "_model_module_version": "1.2.0",
            "_model_name": "LayoutModel",
            "_view_count": null,
            "_view_module": "@jupyter-widgets/base",
            "_view_module_version": "1.2.0",
            "_view_name": "LayoutView",
            "align_content": null,
            "align_items": null,
            "align_self": null,
            "border": null,
            "bottom": null,
            "display": null,
            "flex": null,
            "flex_flow": null,
            "grid_area": null,
            "grid_auto_columns": null,
            "grid_auto_flow": null,
            "grid_auto_rows": null,
            "grid_column": null,
            "grid_gap": null,
            "grid_row": null,
            "grid_template_areas": null,
            "grid_template_columns": null,
            "grid_template_rows": null,
            "height": null,
            "justify_content": null,
            "justify_items": null,
            "left": null,
            "margin": null,
            "max_height": null,
            "max_width": null,
            "min_height": null,
            "min_width": null,
            "object_fit": null,
            "object_position": null,
            "order": null,
            "overflow": null,
            "overflow_x": null,
            "overflow_y": null,
            "padding": null,
            "right": null,
            "top": null,
            "visibility": null,
            "width": null
          }
        },
        "5a786f2dd2584199a4001c8bebefd757": {
          "model_module": "@jupyter-widgets/controls",
          "model_module_version": "1.5.0",
          "model_name": "HBoxModel",
          "state": {
            "_dom_classes": [],
            "_model_module": "@jupyter-widgets/controls",
            "_model_module_version": "1.5.0",
            "_model_name": "HBoxModel",
            "_view_count": null,
            "_view_module": "@jupyter-widgets/controls",
            "_view_module_version": "1.5.0",
            "_view_name": "HBoxView",
            "box_style": "",
            "children": [
              "IPY_MODEL_de8c25d11df34ae2b86964266defdfdc",
              "IPY_MODEL_a1e4bcf9de474b4f835419c6278d4e42"
            ],
            "layout": "IPY_MODEL_45de4f35c7f04c37b87cad70c3e3b224"
          }
        },
        "5bec63a60fab4e628b18b6576859f23d": {
          "model_module": "@jupyter-widgets/base",
          "model_module_version": "1.2.0",
          "model_name": "LayoutModel",
          "state": {
            "_model_module": "@jupyter-widgets/base",
            "_model_module_version": "1.2.0",
            "_model_name": "LayoutModel",
            "_view_count": null,
            "_view_module": "@jupyter-widgets/base",
            "_view_module_version": "1.2.0",
            "_view_name": "LayoutView",
            "align_content": null,
            "align_items": null,
            "align_self": null,
            "border": null,
            "bottom": null,
            "display": null,
            "flex": null,
            "flex_flow": null,
            "grid_area": null,
            "grid_auto_columns": null,
            "grid_auto_flow": null,
            "grid_auto_rows": null,
            "grid_column": null,
            "grid_gap": null,
            "grid_row": null,
            "grid_template_areas": null,
            "grid_template_columns": null,
            "grid_template_rows": null,
            "height": null,
            "justify_content": null,
            "justify_items": null,
            "left": null,
            "margin": null,
            "max_height": null,
            "max_width": null,
            "min_height": null,
            "min_width": null,
            "object_fit": null,
            "object_position": null,
            "order": null,
            "overflow": null,
            "overflow_x": null,
            "overflow_y": null,
            "padding": null,
            "right": null,
            "top": null,
            "visibility": null,
            "width": null
          }
        },
        "5c52a4f288924ca8bbf5182a951af6a8": {
          "model_module": "@jupyter-widgets/controls",
          "model_module_version": "1.5.0",
          "model_name": "VBoxModel",
          "state": {
            "_dom_classes": [],
            "_model_module": "@jupyter-widgets/controls",
            "_model_module_version": "1.5.0",
            "_model_name": "VBoxModel",
            "_view_count": null,
            "_view_module": "@jupyter-widgets/controls",
            "_view_module_version": "1.5.0",
            "_view_name": "VBoxView",
            "box_style": "",
            "children": [
              "IPY_MODEL_5a786f2dd2584199a4001c8bebefd757",
              "IPY_MODEL_9a901424b8c04687b39b5e1251ee3919",
              "IPY_MODEL_fcf080abd68144728d12fa81f879d5d5"
            ],
            "layout": "IPY_MODEL_b2d8e84e2f6545bc98bbaf40294b9ad8"
          }
        },
        "9a901424b8c04687b39b5e1251ee3919": {
          "model_module": "@jupyter-widgets/output",
          "model_module_version": "1.0.0",
          "model_name": "OutputModel",
          "state": {
            "_dom_classes": [],
            "_model_module": "@jupyter-widgets/output",
            "_model_module_version": "1.0.0",
            "_model_name": "OutputModel",
            "_view_count": null,
            "_view_module": "@jupyter-widgets/output",
            "_view_module_version": "1.0.0",
            "_view_name": "OutputView",
            "layout": "IPY_MODEL_c9f8c186dbec4424895eb43630e458f2",
            "msg_id": "",
            "outputs": [
              {
                "name": "stdout",
                "output_type": "stream",
                "text": [
                  "Using existing license.\n"
                ]
              }
            ]
          }
        },
        "a0a3a52262a340debb5a29ce65170164": {
          "model_module": "@jupyter-widgets/base",
          "model_module_version": "1.2.0",
          "model_name": "LayoutModel",
          "state": {
            "_model_module": "@jupyter-widgets/base",
            "_model_module_version": "1.2.0",
            "_model_name": "LayoutModel",
            "_view_count": null,
            "_view_module": "@jupyter-widgets/base",
            "_view_module_version": "1.2.0",
            "_view_name": "LayoutView",
            "align_content": null,
            "align_items": null,
            "align_self": null,
            "border": null,
            "bottom": null,
            "display": null,
            "flex": null,
            "flex_flow": null,
            "grid_area": null,
            "grid_auto_columns": null,
            "grid_auto_flow": null,
            "grid_auto_rows": null,
            "grid_column": null,
            "grid_gap": null,
            "grid_row": null,
            "grid_template_areas": null,
            "grid_template_columns": null,
            "grid_template_rows": null,
            "height": null,
            "justify_content": null,
            "justify_items": null,
            "left": null,
            "margin": null,
            "max_height": null,
            "max_width": null,
            "min_height": null,
            "min_width": null,
            "object_fit": null,
            "object_position": null,
            "order": null,
            "overflow": null,
            "overflow_x": null,
            "overflow_y": null,
            "padding": null,
            "right": null,
            "top": null,
            "visibility": null,
            "width": null
          }
        },
        "a1e4bcf9de474b4f835419c6278d4e42": {
          "model_module": "@jupyter-widgets/controls",
          "model_module_version": "1.5.0",
          "model_name": "TextModel",
          "state": {
            "_dom_classes": [],
            "_model_module": "@jupyter-widgets/controls",
            "_model_module_version": "1.5.0",
            "_model_name": "TextModel",
            "_view_count": null,
            "_view_module": "@jupyter-widgets/controls",
            "_view_module_version": "1.5.0",
            "_view_name": "TextView",
            "continuous_update": true,
            "description": "UUID:",
            "description_tooltip": null,
            "disabled": false,
            "layout": "IPY_MODEL_5bec63a60fab4e628b18b6576859f23d",
            "placeholder": "​",
            "style": "IPY_MODEL_4cfacef2f3e44067b81ac133fe17ae5b",
            "value": ""
          }
        },
        "b2d8e84e2f6545bc98bbaf40294b9ad8": {
          "model_module": "@jupyter-widgets/base",
          "model_module_version": "1.2.0",
          "model_name": "LayoutModel",
          "state": {
            "_model_module": "@jupyter-widgets/base",
            "_model_module_version": "1.2.0",
            "_model_name": "LayoutModel",
            "_view_count": null,
            "_view_module": "@jupyter-widgets/base",
            "_view_module_version": "1.2.0",
            "_view_name": "LayoutView",
            "align_content": null,
            "align_items": null,
            "align_self": null,
            "border": null,
            "bottom": null,
            "display": null,
            "flex": null,
            "flex_flow": null,
            "grid_area": null,
            "grid_auto_columns": null,
            "grid_auto_flow": null,
            "grid_auto_rows": null,
            "grid_column": null,
            "grid_gap": null,
            "grid_row": null,
            "grid_template_areas": null,
            "grid_template_columns": null,
            "grid_template_rows": null,
            "height": null,
            "justify_content": null,
            "justify_items": null,
            "left": null,
            "margin": null,
            "max_height": null,
            "max_width": null,
            "min_height": null,
            "min_width": null,
            "object_fit": null,
            "object_position": null,
            "order": null,
            "overflow": null,
            "overflow_x": null,
            "overflow_y": null,
            "padding": null,
            "right": null,
            "top": null,
            "visibility": null,
            "width": null
          }
        },
        "c9f8c186dbec4424895eb43630e458f2": {
          "model_module": "@jupyter-widgets/base",
          "model_module_version": "1.2.0",
          "model_name": "LayoutModel",
          "state": {
            "_model_module": "@jupyter-widgets/base",
            "_model_module_version": "1.2.0",
            "_model_name": "LayoutModel",
            "_view_count": null,
            "_view_module": "@jupyter-widgets/base",
            "_view_module_version": "1.2.0",
            "_view_name": "LayoutView",
            "align_content": null,
            "align_items": null,
            "align_self": null,
            "border": null,
            "bottom": null,
            "display": null,
            "flex": null,
            "flex_flow": null,
            "grid_area": null,
            "grid_auto_columns": null,
            "grid_auto_flow": null,
            "grid_auto_rows": null,
            "grid_column": null,
            "grid_gap": null,
            "grid_row": null,
            "grid_template_areas": null,
            "grid_template_columns": null,
            "grid_template_rows": null,
            "height": null,
            "justify_content": null,
            "justify_items": null,
            "left": null,
            "margin": null,
            "max_height": null,
            "max_width": null,
            "min_height": null,
            "min_width": null,
            "object_fit": null,
            "object_position": null,
            "order": null,
            "overflow": null,
            "overflow_x": null,
            "overflow_y": null,
            "padding": null,
            "right": null,
            "top": null,
            "visibility": null,
            "width": null
          }
        },
        "de8c25d11df34ae2b86964266defdfdc": {
          "model_module": "@jupyter-widgets/controls",
          "model_module_version": "1.5.0",
          "model_name": "ButtonModel",
          "state": {
            "_dom_classes": [],
            "_model_module": "@jupyter-widgets/controls",
            "_model_module_version": "1.5.0",
            "_model_name": "ButtonModel",
            "_view_count": null,
            "_view_module": "@jupyter-widgets/controls",
            "_view_module_version": "1.5.0",
            "_view_name": "ButtonView",
            "button_style": "",
            "description": "Use existing license",
            "disabled": false,
            "icon": "",
            "layout": "IPY_MODEL_59a30522756c4d668323600e0800a022",
            "style": "IPY_MODEL_4510b5e780f24d44ace00a42c38cf6dc",
            "tooltip": ""
          }
        },
        "fcf080abd68144728d12fa81f879d5d5": {
          "model_module": "@jupyter-widgets/output",
          "model_module_version": "1.0.0",
          "model_name": "OutputModel",
          "state": {
            "_dom_classes": [],
            "_model_module": "@jupyter-widgets/output",
            "_model_module_version": "1.0.0",
            "_model_name": "OutputModel",
            "_view_count": null,
            "_view_module": "@jupyter-widgets/output",
            "_view_module_version": "1.0.0",
            "_view_name": "OutputView",
            "layout": "IPY_MODEL_a0a3a52262a340debb5a29ce65170164",
            "msg_id": "",
            "outputs": [
              {
                "name": "stdout",
                "output_type": "stream",
                "text": [
                  "Licensed to Default AMPL Community Edition License for the AMPL Model Colaboratory.\n"
                ]
              }
            ]
          }
        }
      }
    }
  },
  "nbformat": 4,
  "nbformat_minor": 1
}
