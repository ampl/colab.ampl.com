{
  "cells": [
    {
      "cell_type": "markdown",
      "metadata": {
        "id": "SWWWN49eoi4Z"
      },
      "source": [
        "# Employee Scheduling Optimization\n",
        "[![Employee_Scheduling.ipynb](https://img.shields.io/badge/github-%23121011.svg?logo=github)](https://github.com/ampl/colab.ampl.com/blob/master/authors/marcos-dv/educational/Employee_Scheduling.ipynb) [![Open In Colab](https://colab.research.google.com/assets/colab-badge.svg)](https://colab.research.google.com/github/ampl/colab.ampl.com/blob/master/authors/marcos-dv/educational/Employee_Scheduling.ipynb) [![Kaggle](https://kaggle.com/static/images/open-in-kaggle.svg)](https://kaggle.com/kernels/welcome?src=https://github.com/ampl/colab.ampl.com/blob/master/authors/marcos-dv/educational/Employee_Scheduling.ipynb) [![Gradient](https://assets.paperspace.io/img/gradient-badge.svg)](https://console.paperspace.com/github/ampl/colab.ampl.com/blob/master/authors/marcos-dv/educational/Employee_Scheduling.ipynb) [![Open In SageMaker Studio Lab](https://studiolab.sagemaker.aws/studiolab.svg)](https://studiolab.sagemaker.aws/import/github/ampl/colab.ampl.com/blob/master/authors/marcos-dv/educational/Employee_Scheduling.ipynb) [![Hits](https://h.ampl.com/https://github.com/ampl/colab.ampl.com/blob/master/authors/marcos-dv/educational/Employee_Scheduling.ipynb)](https://colab.ampl.com)\n",
        "\n",
        "Description: Employee scheduling model from the Analytical Decision Modeling course at the Arizona State University.\n",
        "\n",
        "Tags: educational, mip, scheduling, amplpy, gurobi, highs\n",
        "\n",
        "Notebook author: Yimin Wang <<yimin_wang@asu.edu>>, Marcos Dominguez Velad <<marcos@ampl.com>>\n",
        "\n",
        "Model author: Yimin Wang <<yimin_wang@asu.edu>>\n",
        "\n",
        "References:\n",
        "1. Analytical Decision Modeling course at W. P. Carey School of Business. Syllabus: https://catalog.apps.asu.edu/catalog/classes/classlist?keywords=86683&searchType=all&term=2237&collapse=Y"
      ]
    },
    {
      "cell_type": "markdown",
      "metadata": {
        "id": "yTw30bfQoi4a"
      },
      "source": [
        "## Objective and Prerequisites\n",
        "\n",
        "This Employee Scheduling Optimization problem shows you how to determine the optimal number of employees on the payroll in order to:\n",
        "\n",
        "* Satisfy demand for each day's staffing requirement,\n",
        "* Minimize the payroll cost of all employees, and\n",
        "* Prescribe the actual staffing levels achieved for each day.\n",
        "\n",
        "This modeling example is at the introductory level, where we assume that you know Python and that you have some knowledge of how to build mathematical optimization models."
      ]
    },
    {
      "cell_type": "markdown",
      "metadata": {
        "id": "62q-NwBMoi4c"
      },
      "source": [
        "---\n",
        "## Problem Description\n",
        "\n",
        "A small business requires different numbers of full-time employees on different days of the week. The company implements a flexible working policy, which states that each full-time employee can work any five days and take two days off in a week. For example, an employee can work on Monday to Thursday and Saturday while taking Friday and Sunday off. The company wants to meet its daily requirements using only full-time employees. The employees are paid \\$200 pay day if they work on regular weekdays while receive an additional \\$100 per day if they work over the weekend. The company's objective is to minimize its payroll expenses.\n",
        "\n",
        "![picture](https://drive.google.com/uc?id=1zni6oEycubocdW7fLglYB6pGwu7hHkdw)\n",
        "\n",
        "The following table lists the staffing requirements on each day of the week.\n",
        "\n",
        "| Day of the Week | Required Staffing Level |\n",
        "| --- | --- |\n",
        "| Monday    | 177 |\n",
        "| Tuesday   | 134 |\n",
        "| Wednesday | 158 |\n",
        "| Thursday  | 191 |\n",
        "| Friday    | 149 |\n",
        "| Saturday  | 165 |\n",
        "| Sunday    | 116 |\n",
        "\n",
        "In this example, the goal is to identify how many workers to hire and schedule them so that the total payroll cost is minimized. This example shows how a linear programming model can help the business to:\n",
        "\n",
        "* How to best utilize their employees,\n",
        "* How many workers to hire, and\n",
        "* How they should be scheduled so that the total payroll cost is minimized. This Jupyter Notebook is based on the MSBA SCM518 class contents."
      ]
    },
    {
      "cell_type": "markdown",
      "metadata": {
        "id": "MYpg58_8oi4e"
      },
      "source": [
        "## Model Formulation\n",
        "\n",
        "### Indices\n",
        "\n",
        "$i \\in \\{1..21\\}$: Index of possible working schedules (e.g., which days an employee works and which days are off).\n",
        "\n",
        "$j \\in \\{1..7\\}$: Index of work days.\n",
        "\n",
        "### Parameters\n",
        "\n",
        "$d_{j}$: Required staffing level on day $j$.\n",
        "\n",
        "$p_R$: Daily pay for weekdays.\n",
        "\n",
        "$p_O$: Daily pay for weekends.\n",
        "\n",
        "$p_{j}$: Daily pay for day $j$.\n",
        "\n",
        "$a_{ij} \\in \\{0,1\\}$: An availability table that captures whether employees working under schedule $i$ is available for day $j$.\n",
        "\n",
        "### Decision Variables\n",
        "\n",
        "$x_{i}$: How many employees to hire for work schedule $i$.\n",
        "\n",
        "\n",
        "### Objective Function\n",
        "\n",
        "- **Cost**. We want to minimize the total payroll cost.\n",
        "\n",
        "\n",
        "$$\n",
        "\\text{Min}_{x_i} \\quad \\sum_{j \\in \\{1...7\\}} p_j \\left(\\sum_{i \\in \\{1...21\\}} a_{ij}\\times x_i\\right)\n",
        "\\tag{0}\n",
        "$$\n",
        "\n",
        "### Constraints\n",
        "\n",
        "- **Staffing Requirement**. Satisfy staffing requirement for each day.\n",
        "\n",
        "$$\n",
        "\\sum_{i \\in \\{1...21\\}} a_{i,j}\\times x_{i} \\geq d_j \\quad \\forall j \\in \\{1...7\\}\n",
        "\\tag{1}\n",
        "$$\n",
        "\n",
        "$$\n",
        "x_i \\geq 0 \\quad \\forall i \\in \\{1...21\\}\n",
        "\\tag{2}\n",
        "$$"
      ]
    },
    {
      "cell_type": "markdown",
      "metadata": {
        "id": "LrdbknV1oi4f"
      },
      "source": [
        "---\n",
        "\n",
        "## Python Implementation\n",
        "\n",
        "We now import the AMPL Python Module and other Python libraries."
      ]
    },
    {
      "cell_type": "code",
      "execution_count": 1,
      "metadata": {
        "id": "kgFhhCz1LGEh"
      },
      "outputs": [],
      "source": [
        "# Install dependencies\n",
        "%pip install -q amplpy"
      ]
    },
    {
      "cell_type": "code",
      "execution_count": 2,
      "metadata": {
        "colab": {
          "base_uri": "https://localhost:8080/",
          "height": 84,
          "referenced_widgets": [
            "455570aa1fb44342acd3de582511b74f",
            "7e42bae1a1dd4dcf931c343621b16c2d",
            "a1f8c8145cba4029b0c4619f8e84de53",
            "44e6b5bb43654d8fae5455c85fbf4ad8",
            "ff90cce99e484892948d6469fb099c83",
            "db0cd7dd831a4b7791b4dbc8479f145d",
            "fc082f9b38e24a56a5cc5d4197e8be18",
            "fc86a6249e9e4486971ccd028f1dd25f",
            "2470874100654ea298b7aa2022dcb385",
            "874024dafcd04213a199c4fe51c24e81",
            "9552fcf0bb9c4438a4bd8571109f0a48",
            "de86ace765384dc198b0e93b20c26a9f",
            "08c3bcfd80524adab6c3905233af69b6"
          ]
        },
        "id": "vZuT7rzcoi4g",
        "outputId": "7079b048-c241-4499-bd81-c9382203a21d"
      },
      "outputs": [],
      "source": [
        "# Google Colab & Kaggle integration\n",
        "from amplpy import AMPL, ampl_notebook\n",
        "\n",
        "ampl = ampl_notebook(\n",
        "    modules=[\"gurobi\", \"highs\"],  # modules to install\n",
        "    license_uuid=\"default\",  # license to use\n",
        ")  # instantiate AMPL object and register magics"
      ]
    },
    {
      "cell_type": "markdown",
      "metadata": {
        "id": "u6HSeJ6coi4g"
      },
      "source": [
        "---\n",
        "\n",
        "### Helper Functions\n",
        "\n",
        "We first create a function that helps us to generate an employee availability table based on different work schedules"
      ]
    },
    {
      "cell_type": "code",
      "execution_count": 3,
      "metadata": {
        "id": "PsRq0O0dBLq3"
      },
      "outputs": [],
      "source": [
        "# compute number of combinations\n",
        "def nCr(n, r):\n",
        "    return int(factorial(n) / (factorial(r) * factorial(n - r)))\n",
        "\n",
        "\n",
        "# compute availability table\n",
        "# w is the length of the shift, d is number of days off\n",
        "def schedule(w, d):\n",
        "    # number of shifts\n",
        "    v = nCr(w, d)\n",
        "    s = [[1 for x in range(w)] for x in range(v)]\n",
        "\n",
        "    i = 0\n",
        "    for j in range(v):\n",
        "        for k in range(j + 1, w):\n",
        "            s[i][j] = 0\n",
        "            s[i][k] = 0\n",
        "            i = i + 1\n",
        "    return s"
      ]
    },
    {
      "cell_type": "markdown",
      "metadata": {
        "id": "dQolG3FOCi9q"
      },
      "source": [
        "Generate the availability table and take a look at the table"
      ]
    },
    {
      "cell_type": "code",
      "execution_count": 4,
      "metadata": {
        "colab": {
          "base_uri": "https://localhost:8080/"
        },
        "id": "oNCFMmTfBjXa",
        "outputId": "9199aa48-6ed7-40a4-b277-2c3473edfc31"
      },
      "outputs": [
        {
          "name": "stdout",
          "output_type": "stream",
          "text": [
            "[[0 0 1 1 1 1 1]\n",
            " [0 1 0 1 1 1 1]\n",
            " [0 1 1 0 1 1 1]\n",
            " [0 1 1 1 0 1 1]\n",
            " [0 1 1 1 1 0 1]\n",
            " [0 1 1 1 1 1 0]\n",
            " [1 0 0 1 1 1 1]\n",
            " [1 0 1 0 1 1 1]\n",
            " [1 0 1 1 0 1 1]\n",
            " [1 0 1 1 1 0 1]\n",
            " [1 0 1 1 1 1 0]\n",
            " [1 1 0 0 1 1 1]\n",
            " [1 1 0 1 0 1 1]\n",
            " [1 1 0 1 1 0 1]\n",
            " [1 1 0 1 1 1 0]\n",
            " [1 1 1 0 0 1 1]\n",
            " [1 1 1 0 1 0 1]\n",
            " [1 1 1 0 1 1 0]\n",
            " [1 1 1 1 0 0 1]\n",
            " [1 1 1 1 0 1 0]\n",
            " [1 1 1 1 1 0 0]]\n"
          ]
        }
      ],
      "source": [
        "# generate the schedule availability table\n",
        "a = schedule(7, 2)\n",
        "\n",
        "# print the table to visualize\n",
        "print(np.matrix(a))"
      ]
    },
    {
      "cell_type": "markdown",
      "metadata": {
        "id": "nzcjnZRRBynN"
      },
      "source": [
        "Set up the model and solve"
      ]
    },
    {
      "cell_type": "code",
      "execution_count": 5,
      "metadata": {
        "colab": {
          "base_uri": "https://localhost:8080/"
        },
        "id": "oUu9Hzzi59SQ",
        "outputId": "ad8b7dfb-8f31-48e4-d22e-451a479dd75a"
      },
      "outputs": [
        {
          "name": "stdout",
          "output_type": "stream",
          "text": [
            "Overwriting employee_sch.mod\n"
          ]
        }
      ],
      "source": [
        "%%writefile employee_sch.mod\n",
        "\n",
        "\n",
        "# Parameters\n",
        "param num_days default 7;\n",
        "param num_shifts; # with 2 free days, 7 nCr 2 = 21\n",
        "\n",
        "# Sets\n",
        "set days = 0..num_days-1;\n",
        "set shifts = 0..num_shifts-1;\n",
        "\n",
        "param d{days}; # staffing level\n",
        "param pay{days}; # pay per day\n",
        "\n",
        "param a{shifts, days};\n",
        "\n",
        "# Variables\n",
        "var assign{shifts} integer >= 0;\n",
        "\n",
        "# Constraints\n",
        "staff_req{j in days}:\n",
        "  sum{i in shifts : a[i,j] = 1} assign[i] >= d[j];\n",
        "\n",
        "# equivalent to:\n",
        "# staff_req{j in days}:\n",
        "  #sum{i in shifts} a[i,j]*assign[i] >= d[j];\n",
        "\n",
        "# Objective\n",
        "minimize payroll_cost : sum{i in shifts, j in days : a[i,j] = 1} pay[j]*assign[i];"
      ]
    },
    {
      "cell_type": "code",
      "execution_count": 6,
      "metadata": {
        "colab": {
          "base_uri": "https://localhost:8080/"
        },
        "id": "DM0rIp-h8wgg",
        "outputId": "2e6b446d-43e1-4c6b-f505-08115973d664"
      },
      "outputs": [
        {
          "name": "stdout",
          "output_type": "stream",
          "text": [
            "Gurobi 11.0.1: \b\b\b\b\b\b\b\b\b\b\b\b\b\b\bGurobi 11.0.1: optimal solution; objective 246100\n",
            "10 simplex iterations\n",
            "1 branching node\n"
          ]
        }
      ],
      "source": [
        "p = [200, 200, 200, 200, 200, 300, 300]  # pay\n",
        "d = [177, 134, 158, 191, 149, 165, 116]  # staff lev\n",
        "\n",
        "ampl.eval(\"reset;\")\n",
        "ampl.read(\"employee_sch.mod\")\n",
        "ampl.param[\"num_shifts\"] = 21\n",
        "ampl.param[\"d\"] = d\n",
        "ampl.param[\"pay\"] = p\n",
        "\n",
        "shift = [*range(0, 21)]\n",
        "day = [*range(0, 7)]\n",
        "# fill availability with a dictionary, position (i,j) in 'a' becomes a[i][j]\n",
        "ampl.param[\"a\"] = {(i, j): a[i][j] for i in shift for j in day}\n",
        "\n",
        "# visualize the model\n",
        "# ampl.eval('expand;')\n",
        "ampl.option[\"solver\"] = \"gurobi\"\n",
        "ampl.solve()\n",
        "assign = ampl.var[\"assign\"]"
      ]
    },
    {
      "cell_type": "markdown",
      "metadata": {
        "id": "i5ggpCTbIMni"
      },
      "source": [
        "Take a look at the results on number of employees on the payroll"
      ]
    },
    {
      "cell_type": "code",
      "execution_count": 7,
      "metadata": {
        "colab": {
          "base_uri": "https://localhost:8080/"
        },
        "id": "8aNo8QaISobW",
        "outputId": "a97bfe85-2613-4e0e-b730-0f8e2f54fdfb"
      },
      "outputs": [
        {
          "name": "stdout",
          "output_type": "stream",
          "text": [
            "\n",
            "\n",
            "___Optimal employees on each shift________\n",
            "The number of employee on shift  0 is   0\n",
            "The number of employee on shift  1 is   0\n",
            "The number of employee on shift  2 is  10\n",
            "The number of employee on shift  3 is   0\n",
            "The number of employee on shift  4 is   0\n",
            "The number of employee on shift  5 is  31\n",
            "The number of employee on shift  6 is  37\n",
            "The number of employee on shift  7 is   0\n",
            "The number of employee on shift  8 is  46\n",
            "The number of employee on shift  9 is   0\n",
            "The number of employee on shift 10 is   1\n",
            "The number of employee on shift 11 is   0\n",
            "The number of employee on shift 12 is  23\n",
            "The number of employee on shift 13 is   0\n",
            "The number of employee on shift 14 is   0\n",
            "The number of employee on shift 15 is   0\n",
            "The number of employee on shift 16 is   0\n",
            "The number of employee on shift 17 is  17\n",
            "The number of employee on shift 18 is   0\n",
            "The number of employee on shift 19 is   0\n",
            "The number of employee on shift 20 is  53\n",
            "The total number of emploee is 218 \n"
          ]
        }
      ],
      "source": [
        "#####################################################\n",
        "#         Number of employees on each shift\n",
        "#####################################################\n",
        "\n",
        "print(f\"\\n\\n___Optimal employees on each shift________\")\n",
        "total_employee = 0\n",
        "for t in shift:\n",
        "    print(\"The number of employee on shift %2d is %3d\" % (t, assign[t].value()))\n",
        "    # print(f\"The number of employee on shift {t} is {x[t].x}\")\n",
        "    total_employee += assign[t].value()\n",
        "\n",
        "print(\"The total number of emploee is %3d \" % (total_employee))"
      ]
    },
    {
      "cell_type": "markdown",
      "metadata": {
        "id": "M8V-PXKAIU0j"
      },
      "source": [
        "Take a look at the staffing coverage for each day of the week."
      ]
    },
    {
      "cell_type": "code",
      "execution_count": 8,
      "metadata": {
        "colab": {
          "base_uri": "https://localhost:8080/"
        },
        "id": "bMaWH9VBT7R0",
        "outputId": "cb7f74e0-219c-4bd9-d237-d1b2442f1ec8"
      },
      "outputs": [
        {
          "name": "stdout",
          "output_type": "stream",
          "text": [
            "\n",
            "\n",
            "____Actual coverage on each day_____\n",
            "The number of employee on shift 0 is 177 where demand is 177\n",
            "The number of employee on shift 1 is 134 where demand is 134\n",
            "The number of employee on shift 2 is 158 where demand is 158\n",
            "The number of employee on shift 3 is 191 where demand is 191\n",
            "The number of employee on shift 4 is 149 where demand is 149\n",
            "The number of employee on shift 5 is 165 where demand is 165\n",
            "The number of employee on shift 6 is 116 where demand is 116\n"
          ]
        }
      ],
      "source": [
        "#####################################################\n",
        "#     Actual coverage on each day\n",
        "#####################################################\n",
        "\n",
        "print(f\"\\n\\n____Actual coverage on each day_____\")\n",
        "for t in day:\n",
        "    actual_employee = 0\n",
        "    for s in shift:\n",
        "        actual_employee += assign[s].value() * a[s][t]\n",
        "    print(\n",
        "        \"The number of employee on shift %1d is %3d where demand is %3d\"\n",
        "        % (t, actual_employee, d[t])\n",
        "    )"
      ]
    },
    {
      "cell_type": "markdown",
      "metadata": {
        "id": "KNiyP9wfEOTM"
      },
      "source": [
        "###A variant of the model where employees must take two consequtive days off."
      ]
    },
    {
      "cell_type": "markdown",
      "metadata": {
        "id": "rmx9YY3IJllq"
      },
      "source": [
        "The mathematical model remains identical, where the only change is the availability table: instead of C(7,2)=21 rows, we now only have C(7,1)=7 rows. See below for details. Thus, there is no need to setup a separate mathematical model."
      ]
    },
    {
      "cell_type": "markdown",
      "metadata": {
        "id": "CtJQzEw3EhZv"
      },
      "source": [
        "First compute the availability table."
      ]
    },
    {
      "cell_type": "code",
      "execution_count": 9,
      "metadata": {
        "id": "_4MEr5EHEdxd"
      },
      "outputs": [],
      "source": [
        "# assuming employees must take two consequtive days off\n",
        "# compute availability table\n",
        "# w is the length of the shift, d is number of days off\n",
        "def schedule(w, d):\n",
        "    s = [[1 for x in range(w)] for x in range(w)]\n",
        "    i = 0\n",
        "    for j in range(w):\n",
        "        s[i][j] = 0\n",
        "        s[i][(j + 1) % w] = 0\n",
        "        i = i + 1\n",
        "    return s"
      ]
    },
    {
      "cell_type": "markdown",
      "metadata": {
        "id": "peV8fWPyFxNl"
      },
      "source": [
        "Generate the availability table and take a look."
      ]
    },
    {
      "cell_type": "code",
      "execution_count": 10,
      "metadata": {
        "colab": {
          "base_uri": "https://localhost:8080/"
        },
        "id": "22lBgZb4Fz7z",
        "outputId": "d41c4243-f179-481d-fe53-b3c3446f2445"
      },
      "outputs": [
        {
          "name": "stdout",
          "output_type": "stream",
          "text": [
            "[[0 0 1 1 1 1 1]\n",
            " [1 0 0 1 1 1 1]\n",
            " [1 1 0 0 1 1 1]\n",
            " [1 1 1 0 0 1 1]\n",
            " [1 1 1 1 0 0 1]\n",
            " [1 1 1 1 1 0 0]\n",
            " [0 1 1 1 1 1 0]]\n"
          ]
        }
      ],
      "source": [
        "# generate the schedule availability table\n",
        "a = schedule(7, 2)\n",
        "\n",
        "# print the table to visualize\n",
        "print(np.matrix(a))"
      ]
    },
    {
      "cell_type": "markdown",
      "metadata": {
        "id": "KAqzQbw0HTeU"
      },
      "source": [
        "Setup the model"
      ]
    },
    {
      "cell_type": "code",
      "execution_count": 11,
      "metadata": {
        "colab": {
          "base_uri": "https://localhost:8080/"
        },
        "id": "MkttimD8EzF2",
        "outputId": "fe54b1af-ff46-4a6e-9711-fa8e8b5ff50a"
      },
      "outputs": [
        {
          "name": "stdout",
          "output_type": "stream",
          "text": [
            "HiGHS 1.7.0: \b\b\b\b\b\b\b\b\b\b\b\b\bHiGHS 1.7.0: optimal solution; objective 259100\n",
            "8 simplex iterations\n",
            "1 branching nodes\n"
          ]
        }
      ],
      "source": [
        "ampl.eval(\"reset data;\")\n",
        "\n",
        "ampl.param[\"num_shifts\"] = 7\n",
        "ampl.param[\"d\"] = d\n",
        "ampl.param[\"pay\"] = p\n",
        "\n",
        "# new schedule, only 7 shifts\n",
        "shift = [*range(0, 7)]\n",
        "day = [*range(0, 7)]\n",
        "# fill availability with a dictionary, position (i,j) in 'a' becomes a[i][j]\n",
        "ampl.param[\"a\"] = {(i, j): a[i][j] for i in shift for j in day}\n",
        "\n",
        "# visualize the model\n",
        "# ampl.eval('expand;')\n",
        "ampl.option[\"solver\"] = \"highs\"\n",
        "ampl.solve()\n",
        "assign = ampl.var[\"assign\"]"
      ]
    },
    {
      "cell_type": "markdown",
      "metadata": {
        "id": "-K3fZ42TIbpr"
      },
      "source": [
        "Take a look at the number of employees hired."
      ]
    },
    {
      "cell_type": "code",
      "execution_count": 12,
      "metadata": {
        "colab": {
          "base_uri": "https://localhost:8080/"
        },
        "id": "1CWOze-YIeKd",
        "outputId": "09bfc4e4-3de3-4d8d-e74f-7511f04abf7a"
      },
      "outputs": [
        {
          "name": "stdout",
          "output_type": "stream",
          "text": [
            "\n",
            "\n",
            "___Optimal employees on each shift________\n",
            "The number of employee on shift  0 is   3\n",
            "The number of employee on shift  1 is  73\n",
            "The number of employee on shift  2 is   0\n",
            "The number of employee on shift  3 is  40\n",
            "The number of employee on shift  4 is   0\n",
            "The number of employee on shift  5 is  66\n",
            "The number of employee on shift  6 is  49\n",
            "The total number of emploee is 231 \n"
          ]
        }
      ],
      "source": [
        "#####################################################\n",
        "#         Number of employees on each shift\n",
        "#####################################################\n",
        "\n",
        "print(f\"\\n\\n___Optimal employees on each shift________\")\n",
        "total_employee = 0\n",
        "for t in shift:\n",
        "    print(\"The number of employee on shift %2d is %3d\" % (t, assign[t].value()))\n",
        "    # print(f\"The number of employee on shift {t} is {x[t].x}\")\n",
        "    total_employee += assign[t].value()\n",
        "\n",
        "print(\"The total number of emploee is %3d \" % (total_employee))"
      ]
    },
    {
      "cell_type": "markdown",
      "metadata": {
        "id": "xv98V3pzI8Px"
      },
      "source": [
        "Take a look at the actual coverage."
      ]
    },
    {
      "cell_type": "code",
      "execution_count": 13,
      "metadata": {
        "colab": {
          "base_uri": "https://localhost:8080/"
        },
        "id": "xTf7kSBzI-4A",
        "outputId": "946ef861-4266-468c-bda1-156606d6ee9a"
      },
      "outputs": [
        {
          "name": "stdout",
          "output_type": "stream",
          "text": [
            "\n",
            "\n",
            "____Actual coverage on each day_____\n",
            "The number of employee on shift 0 is 179 where demand is 177\n",
            "The number of employee on shift 1 is 155 where demand is 134\n",
            "The number of employee on shift 2 is 158 where demand is 158\n",
            "The number of employee on shift 3 is 191 where demand is 191\n",
            "The number of employee on shift 4 is 191 where demand is 149\n",
            "The number of employee on shift 5 is 165 where demand is 165\n",
            "The number of employee on shift 6 is 116 where demand is 116\n"
          ]
        }
      ],
      "source": [
        "#####################################################\n",
        "#     Actual coverage on each day\n",
        "#####################################################\n",
        "\n",
        "print(f\"\\n\\n____Actual coverage on each day_____\")\n",
        "for t in day:\n",
        "    actual_employee = 0\n",
        "    for s in shift:\n",
        "        actual_employee += (assign[s].value()) * a[s][t]\n",
        "    print(\n",
        "        \"The number of employee on shift %1d is %3d where demand is %3d\"\n",
        "        % (t, actual_employee, d[t])\n",
        "    )"
      ]
    },
    {
      "cell_type": "markdown",
      "metadata": {
        "id": "8OKSSFZsJCbV"
      },
      "source": [
        "As we can see, when the employee schedules are less flexible (two consequtive days off), the company needs to hire more people to satisfy daily demand. This is consistent with the theoretical predication: when more constraints are imposed, the objective can only get worse."
      ]
    },
    {
      "cell_type": "markdown",
      "metadata": {
        "id": "uyx97WQIoi4k"
      },
      "source": [
        "---\n",
        "##  Conclusion\n",
        "\n",
        "In this example, we addressed the employee scheduling problem. We determined the optimal number of employee to:\n",
        "* Satisfy demand for each day,\n",
        "* Minimize the total number of employees, and\n",
        "* Find number of employees to place in each shift.\n",
        "\n",
        "We also consider variations of the model where employees must take two conseutive days off.\n",
        "\n",
        "Our employee scheduling model can be used by many organizations to help make informed decisions about which shifts and how many employees to have in order to satisfy daily demand while minimizing the number of employees on the payroll.\n"
      ]
    },
    {
      "cell_type": "markdown",
      "metadata": {
        "id": "XiMLngKYoi4l"
      },
      "source": [
        "##  References\n",
        "[1] Sixty examples of business optimization models. https://ytyimin.github.io/tart-cherry/.\n",
        "\n",
        "[2] AMPL python reference. https://amplpy.readthedocs.io/en/latest/reference.html\n",
        "\n",
        "[3] This notebook is developed by Yimin Wang. If you have any suggestions or comments, please contact yimin_wang@asu.edu. Marcos Dominguez (marcos@ampl.com) also contributed to this notebook content."
      ]
    }
  ],
  "metadata": {
    "colab": {
      "provenance": []
    },
    "kernelspec": {
      "display_name": "Python 3",
      "language": "python",
      "name": "python3"
    },
    "language_info": {
      "codemirror_mode": {
        "name": "ipython",
        "version": 3
      },
      "file_extension": ".py",
      "mimetype": "text/x-python",
      "name": "python",
      "nbconvert_exporter": "python",
      "pygments_lexer": "ipython3",
      "version": "3.6.9"
    },
    "widgets": {
      "application/vnd.jupyter.widget-state+json": {
        "08c3bcfd80524adab6c3905233af69b6": {
          "model_module": "@jupyter-widgets/base",
          "model_module_version": "1.2.0",
          "model_name": "LayoutModel",
          "state": {
            "_model_module": "@jupyter-widgets/base",
            "_model_module_version": "1.2.0",
            "_model_name": "LayoutModel",
            "_view_count": null,
            "_view_module": "@jupyter-widgets/base",
            "_view_module_version": "1.2.0",
            "_view_name": "LayoutView",
            "align_content": null,
            "align_items": null,
            "align_self": null,
            "border": null,
            "bottom": null,
            "display": null,
            "flex": null,
            "flex_flow": null,
            "grid_area": null,
            "grid_auto_columns": null,
            "grid_auto_flow": null,
            "grid_auto_rows": null,
            "grid_column": null,
            "grid_gap": null,
            "grid_row": null,
            "grid_template_areas": null,
            "grid_template_columns": null,
            "grid_template_rows": null,
            "height": null,
            "justify_content": null,
            "justify_items": null,
            "left": null,
            "margin": null,
            "max_height": null,
            "max_width": null,
            "min_height": null,
            "min_width": null,
            "object_fit": null,
            "object_position": null,
            "order": null,
            "overflow": null,
            "overflow_x": null,
            "overflow_y": null,
            "padding": null,
            "right": null,
            "top": null,
            "visibility": null,
            "width": null
          }
        },
        "2470874100654ea298b7aa2022dcb385": {
          "model_module": "@jupyter-widgets/base",
          "model_module_version": "1.2.0",
          "model_name": "LayoutModel",
          "state": {
            "_model_module": "@jupyter-widgets/base",
            "_model_module_version": "1.2.0",
            "_model_name": "LayoutModel",
            "_view_count": null,
            "_view_module": "@jupyter-widgets/base",
            "_view_module_version": "1.2.0",
            "_view_name": "LayoutView",
            "align_content": null,
            "align_items": null,
            "align_self": null,
            "border": null,
            "bottom": null,
            "display": null,
            "flex": null,
            "flex_flow": null,
            "grid_area": null,
            "grid_auto_columns": null,
            "grid_auto_flow": null,
            "grid_auto_rows": null,
            "grid_column": null,
            "grid_gap": null,
            "grid_row": null,
            "grid_template_areas": null,
            "grid_template_columns": null,
            "grid_template_rows": null,
            "height": null,
            "justify_content": null,
            "justify_items": null,
            "left": null,
            "margin": null,
            "max_height": null,
            "max_width": null,
            "min_height": null,
            "min_width": null,
            "object_fit": null,
            "object_position": null,
            "order": null,
            "overflow": null,
            "overflow_x": null,
            "overflow_y": null,
            "padding": null,
            "right": null,
            "top": null,
            "visibility": null,
            "width": null
          }
        },
        "44e6b5bb43654d8fae5455c85fbf4ad8": {
          "model_module": "@jupyter-widgets/output",
          "model_module_version": "1.0.0",
          "model_name": "OutputModel",
          "state": {
            "_dom_classes": [],
            "_model_module": "@jupyter-widgets/output",
            "_model_module_version": "1.0.0",
            "_model_name": "OutputModel",
            "_view_count": null,
            "_view_module": "@jupyter-widgets/output",
            "_view_module_version": "1.0.0",
            "_view_name": "OutputView",
            "layout": "IPY_MODEL_de86ace765384dc198b0e93b20c26a9f",
            "msg_id": "",
            "outputs": []
          }
        },
        "455570aa1fb44342acd3de582511b74f": {
          "model_module": "@jupyter-widgets/controls",
          "model_module_version": "1.5.0",
          "model_name": "VBoxModel",
          "state": {
            "_dom_classes": [],
            "_model_module": "@jupyter-widgets/controls",
            "_model_module_version": "1.5.0",
            "_model_name": "VBoxModel",
            "_view_count": null,
            "_view_module": "@jupyter-widgets/controls",
            "_view_module_version": "1.5.0",
            "_view_name": "VBoxView",
            "box_style": "",
            "children": [
              "IPY_MODEL_7e42bae1a1dd4dcf931c343621b16c2d",
              "IPY_MODEL_a1f8c8145cba4029b0c4619f8e84de53",
              "IPY_MODEL_44e6b5bb43654d8fae5455c85fbf4ad8",
              "IPY_MODEL_ff90cce99e484892948d6469fb099c83"
            ],
            "layout": "IPY_MODEL_db0cd7dd831a4b7791b4dbc8479f145d"
          }
        },
        "7e42bae1a1dd4dcf931c343621b16c2d": {
          "model_module": "@jupyter-widgets/output",
          "model_module_version": "1.0.0",
          "model_name": "OutputModel",
          "state": {
            "_dom_classes": [],
            "_model_module": "@jupyter-widgets/output",
            "_model_module_version": "1.0.0",
            "_model_name": "OutputModel",
            "_view_count": null,
            "_view_module": "@jupyter-widgets/output",
            "_view_module_version": "1.0.0",
            "_view_name": "OutputView",
            "layout": "IPY_MODEL_9552fcf0bb9c4438a4bd8571109f0a48",
            "msg_id": "",
            "outputs": [
              {
                "name": "stdout",
                "output_type": "stream",
                "text": [
                  "AMPL License UUID (you can use free https://ampl.com/ce or https://ampl.com/courses licenses):\n"
                ]
              }
            ]
          }
        },
        "874024dafcd04213a199c4fe51c24e81": {
          "model_module": "@jupyter-widgets/controls",
          "model_module_version": "1.5.0",
          "model_name": "DescriptionStyleModel",
          "state": {
            "_model_module": "@jupyter-widgets/controls",
            "_model_module_version": "1.5.0",
            "_model_name": "DescriptionStyleModel",
            "_view_count": null,
            "_view_module": "@jupyter-widgets/base",
            "_view_module_version": "1.2.0",
            "_view_name": "StyleView",
            "description_width": "initial"
          }
        },
        "9552fcf0bb9c4438a4bd8571109f0a48": {
          "model_module": "@jupyter-widgets/base",
          "model_module_version": "1.2.0",
          "model_name": "LayoutModel",
          "state": {
            "_model_module": "@jupyter-widgets/base",
            "_model_module_version": "1.2.0",
            "_model_name": "LayoutModel",
            "_view_count": null,
            "_view_module": "@jupyter-widgets/base",
            "_view_module_version": "1.2.0",
            "_view_name": "LayoutView",
            "align_content": null,
            "align_items": null,
            "align_self": null,
            "border": null,
            "bottom": null,
            "display": null,
            "flex": null,
            "flex_flow": null,
            "grid_area": null,
            "grid_auto_columns": null,
            "grid_auto_flow": null,
            "grid_auto_rows": null,
            "grid_column": null,
            "grid_gap": null,
            "grid_row": null,
            "grid_template_areas": null,
            "grid_template_columns": null,
            "grid_template_rows": null,
            "height": null,
            "justify_content": null,
            "justify_items": null,
            "left": null,
            "margin": null,
            "max_height": null,
            "max_width": null,
            "min_height": null,
            "min_width": null,
            "object_fit": null,
            "object_position": null,
            "order": null,
            "overflow": null,
            "overflow_x": null,
            "overflow_y": null,
            "padding": null,
            "right": null,
            "top": null,
            "visibility": null,
            "width": null
          }
        },
        "a1f8c8145cba4029b0c4619f8e84de53": {
          "model_module": "@jupyter-widgets/controls",
          "model_module_version": "1.5.0",
          "model_name": "HBoxModel",
          "state": {
            "_dom_classes": [],
            "_model_module": "@jupyter-widgets/controls",
            "_model_module_version": "1.5.0",
            "_model_name": "HBoxModel",
            "_view_count": null,
            "_view_module": "@jupyter-widgets/controls",
            "_view_module_version": "1.5.0",
            "_view_name": "HBoxView",
            "box_style": "",
            "children": [
              "IPY_MODEL_fc082f9b38e24a56a5cc5d4197e8be18"
            ],
            "layout": "IPY_MODEL_fc86a6249e9e4486971ccd028f1dd25f"
          }
        },
        "db0cd7dd831a4b7791b4dbc8479f145d": {
          "model_module": "@jupyter-widgets/base",
          "model_module_version": "1.2.0",
          "model_name": "LayoutModel",
          "state": {
            "_model_module": "@jupyter-widgets/base",
            "_model_module_version": "1.2.0",
            "_model_name": "LayoutModel",
            "_view_count": null,
            "_view_module": "@jupyter-widgets/base",
            "_view_module_version": "1.2.0",
            "_view_name": "LayoutView",
            "align_content": null,
            "align_items": null,
            "align_self": null,
            "border": null,
            "bottom": null,
            "display": null,
            "flex": null,
            "flex_flow": null,
            "grid_area": null,
            "grid_auto_columns": null,
            "grid_auto_flow": null,
            "grid_auto_rows": null,
            "grid_column": null,
            "grid_gap": null,
            "grid_row": null,
            "grid_template_areas": null,
            "grid_template_columns": null,
            "grid_template_rows": null,
            "height": null,
            "justify_content": null,
            "justify_items": null,
            "left": null,
            "margin": null,
            "max_height": null,
            "max_width": null,
            "min_height": null,
            "min_width": null,
            "object_fit": null,
            "object_position": null,
            "order": null,
            "overflow": null,
            "overflow_x": null,
            "overflow_y": null,
            "padding": null,
            "right": null,
            "top": null,
            "visibility": null,
            "width": null
          }
        },
        "de86ace765384dc198b0e93b20c26a9f": {
          "model_module": "@jupyter-widgets/base",
          "model_module_version": "1.2.0",
          "model_name": "LayoutModel",
          "state": {
            "_model_module": "@jupyter-widgets/base",
            "_model_module_version": "1.2.0",
            "_model_name": "LayoutModel",
            "_view_count": null,
            "_view_module": "@jupyter-widgets/base",
            "_view_module_version": "1.2.0",
            "_view_name": "LayoutView",
            "align_content": null,
            "align_items": null,
            "align_self": null,
            "border": null,
            "bottom": null,
            "display": null,
            "flex": null,
            "flex_flow": null,
            "grid_area": null,
            "grid_auto_columns": null,
            "grid_auto_flow": null,
            "grid_auto_rows": null,
            "grid_column": null,
            "grid_gap": null,
            "grid_row": null,
            "grid_template_areas": null,
            "grid_template_columns": null,
            "grid_template_rows": null,
            "height": null,
            "justify_content": null,
            "justify_items": null,
            "left": null,
            "margin": null,
            "max_height": null,
            "max_width": null,
            "min_height": null,
            "min_width": null,
            "object_fit": null,
            "object_position": null,
            "order": null,
            "overflow": null,
            "overflow_x": null,
            "overflow_y": null,
            "padding": null,
            "right": null,
            "top": null,
            "visibility": null,
            "width": null
          }
        },
        "fc082f9b38e24a56a5cc5d4197e8be18": {
          "model_module": "@jupyter-widgets/controls",
          "model_module_version": "1.5.0",
          "model_name": "TextModel",
          "state": {
            "_dom_classes": [],
            "_model_module": "@jupyter-widgets/controls",
            "_model_module_version": "1.5.0",
            "_model_name": "TextModel",
            "_view_count": null,
            "_view_module": "@jupyter-widgets/controls",
            "_view_module_version": "1.5.0",
            "_view_name": "TextView",
            "continuous_update": true,
            "description": "License UUID:",
            "description_tooltip": null,
            "disabled": false,
            "layout": "IPY_MODEL_2470874100654ea298b7aa2022dcb385",
            "placeholder": "​",
            "style": "IPY_MODEL_874024dafcd04213a199c4fe51c24e81",
            "value": ""
          }
        },
        "fc86a6249e9e4486971ccd028f1dd25f": {
          "model_module": "@jupyter-widgets/base",
          "model_module_version": "1.2.0",
          "model_name": "LayoutModel",
          "state": {
            "_model_module": "@jupyter-widgets/base",
            "_model_module_version": "1.2.0",
            "_model_name": "LayoutModel",
            "_view_count": null,
            "_view_module": "@jupyter-widgets/base",
            "_view_module_version": "1.2.0",
            "_view_name": "LayoutView",
            "align_content": null,
            "align_items": null,
            "align_self": null,
            "border": null,
            "bottom": null,
            "display": null,
            "flex": null,
            "flex_flow": null,
            "grid_area": null,
            "grid_auto_columns": null,
            "grid_auto_flow": null,
            "grid_auto_rows": null,
            "grid_column": null,
            "grid_gap": null,
            "grid_row": null,
            "grid_template_areas": null,
            "grid_template_columns": null,
            "grid_template_rows": null,
            "height": null,
            "justify_content": null,
            "justify_items": null,
            "left": null,
            "margin": null,
            "max_height": null,
            "max_width": null,
            "min_height": null,
            "min_width": null,
            "object_fit": null,
            "object_position": null,
            "order": null,
            "overflow": null,
            "overflow_x": null,
            "overflow_y": null,
            "padding": null,
            "right": null,
            "top": null,
            "visibility": null,
            "width": null
          }
        },
        "ff90cce99e484892948d6469fb099c83": {
          "model_module": "@jupyter-widgets/output",
          "model_module_version": "1.0.0",
          "model_name": "OutputModel",
          "state": {
            "_dom_classes": [],
            "_model_module": "@jupyter-widgets/output",
            "_model_module_version": "1.0.0",
            "_model_name": "OutputModel",
            "_view_count": null,
            "_view_module": "@jupyter-widgets/output",
            "_view_module_version": "1.0.0",
            "_view_name": "OutputView",
            "layout": "IPY_MODEL_08c3bcfd80524adab6c3905233af69b6",
            "msg_id": "",
            "outputs": [
              {
                "name": "stdout",
                "output_type": "stream",
                "text": [
                  "Licensed to AMPL Community Edition License for the AMPL Model Colaboratory (https://colab.ampl.com).\n"
                ]
              }
            ]
          }
        }
      }
    }
  },
  "nbformat": 4,
  "nbformat_minor": 0
}
